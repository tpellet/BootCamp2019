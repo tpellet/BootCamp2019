{
 "cells": [
  {
   "cell_type": "markdown",
   "metadata": {},
   "source": [
    "# Problem Set 1A"
   ]
  },
  {
   "cell_type": "markdown",
   "metadata": {},
   "source": [
    "## Thomas Pellet"
   ]
  },
  {
   "cell_type": "markdown",
   "metadata": {},
   "source": [
    "## 04/07/2019"
   ]
  },
  {
   "cell_type": "markdown",
   "metadata": {},
   "source": [
    "Problem 1"
   ]
  },
  {
   "cell_type": "code",
   "execution_count": null,
   "metadata": {},
   "outputs": [],
   "source": [
    "import sympy as sy\n",
    "import numpy as np\n",
    "from sympy.utilities.lambdify import lambdify\n",
    "\n",
    "x = sy.symbols('x')\n",
    "def f(x):\n",
    "    return (sy.sin(x)+1)**(sy.sin(sy.cos(x)))\n",
    "def fprime(x):\n",
    "    return sy.diff(f(x),x)\n",
    "print(fprime(x))\n",
    "\n",
    "from matplotlib import pyplot as plt\n",
    "lam_fprime = lambdify(x,fprime(x))\n",
    "lam_f = lambdify(x,f(x))\n",
    "x = np.linspace(-np.pi,np.pi,100)\n",
    "plt.plot(x,lam_fprime(x), 'b-')\n",
    "plt.plot(x,lam_f(x), 'r-')\n",
    "ax = plt.gca()\n",
    "ax.spines[\"bottom\"].set_position(\"zero\")\n",
    "plt.show()"
   ]
  },
  {
   "cell_type": "markdown",
   "metadata": {},
   "source": [
    "Problem 2"
   ]
  },
  {
   "cell_type": "code",
   "execution_count": null,
   "metadata": {},
   "outputs": [],
   "source": [
    "def forward1(f,x,h):\n",
    "    return (f(x+h)-f(x))/(h)\n",
    "\n",
    "def forward2(f,x,h):\n",
    "    return (4*f(x+h)-f(x+2*h) - 3*f(x))/(2*h)\n",
    "\n",
    "def backward1(f,x,h):\n",
    "    return (f(x)-f(x-h))/(h)\n",
    "\n",
    "def backward2(f,x,h):\n",
    "    return (3*f(x)-4*f(x-h) +f(x-2*h))/(2*h)\n",
    "\n",
    "def centered2(f,x,h):\n",
    "    return (f(x+h)-f(x-h))/(2*h)\n",
    "\n",
    "def centered4(f,x,h):\n",
    "    return (f(x-2*h)-8*f(x-h) +8*f(x+h)-f(x+2*h))/(12*h)\n",
    "\n",
    "x = np.linspace(-np.pi,np.pi,100)\n",
    "plt.plot(x,lam_fprime(x), 'b:')\n",
    "plt.plot(x,forward1(lam_f,x,0.01))\n",
    "plt.plot(x,forward2(lam_f,x,0.01))\n",
    "plt.plot(x,backward1(lam_f,x,0.01))\n",
    "plt.plot(x,backward2(lam_f,x,0.01))\n",
    "plt.plot(x,centered2(lam_f,x,0.01))\n",
    "plt.plot(x,centered4(lam_f,x,0.01))\n",
    "ax = plt.gca()\n",
    "ax.spines[\"bottom\"].set_position(\"zero\")\n",
    "plt.show()"
   ]
  },
  {
   "cell_type": "code",
   "execution_count": null,
   "metadata": {},
   "outputs": [],
   "source": [
    "import numpy as np\n",
    "x = 0\n",
    "true = lam_fprime(x)\n",
    "h = np.logspace(-8, 0,8)\n",
    "errorf1 = abs(true - forward1(lam_f,x,h))\n",
    "errorf2 = abs(true - forward1(lam_f,x,h))\n",
    "errorb1 = abs(true - backward1(lam_f,x,h))\n",
    "errorb2 = abs(true - backward2(lam_f,x,h))\n",
    "errorc2 = abs(true - centered2(lam_f,x,h))\n",
    "errorc4 = abs(true - centered4(lam_f,x,h))\n",
    "\n",
    "for item in [errorf1,errorf2,errorb1,errorb2,errorc2,errorc4]:\n",
    "    plt.loglog(h,item,label=str(item))\n",
    "    \n",
    "plt.xlabel(\"h\")\n",
    "plt.ylabel(\"Absolute Error\")"
   ]
  },
  {
   "cell_type": "code",
   "execution_count": null,
   "metadata": {},
   "outputs": [],
   "source": [
    "errorf1.legend = \"test\""
   ]
  },
  {
   "cell_type": "code",
   "execution_count": null,
   "metadata": {},
   "outputs": [],
   "source": [
    "str(errorf1)"
   ]
  },
  {
   "cell_type": "code",
   "execution_count": 12,
   "metadata": {},
   "outputs": [],
   "source": [
    "# Problem 5\n",
    "import numpy as np\n",
    "\n",
    "def seconddiff(f,X,h):\n",
    "    col = len(X)\n",
    "    row = len(f(X))\n",
    "    I = np.eye(len(X))\n",
    "    output = np.zeros((row,col))\n",
    "    for i,item in enumerate(X):\n",
    "        total = (f(X + h*I[:,i]) - f(X - h*I[:,i]))/(2*h)\n",
    "        for j,item in enumerate(total):\n",
    "            output[j,i] = item\n",
    "    return output\n",
    "\n",
    "def f(X):   \n",
    "    return np.array([X[0]**2,X[0]**3-X[1]]).reshape((-1,1))\n"
   ]
  },
  {
   "cell_type": "code",
   "execution_count": 87,
   "metadata": {},
   "outputs": [
    {
     "name": "stdout",
     "output_type": "stream",
     "text": [
      "[ 85  85 441]\n"
     ]
    },
    {
     "data": {
      "image/png": "[encoded data removed]",
      "text/plain": [
       "<Figure size 432x288 with 1 Axes>"
      ]
     },
     "metadata": {
      "needs_background": "light"
     },
     "output_type": "display_data"
    }
   ],
   "source": [
    "# Problem 6\n",
    "from autograd import elementwise_grad\n",
    "import numpy as np\n",
    "from autograd import numpy as anp\n",
    "from matplotlib import pyplot as plt\n",
    "\n",
    "def Chebypol(x,n):\n",
    "    t = np.array([x])\n",
    "    result = np.zeros((n+1,t.size))\n",
    "    result[0,:] = 1\n",
    "    result[1,:] = t\n",
    "    for i in np.arange(2,n+1):\n",
    "        result[i,:] = 2*np.multiply(t,result[i-1,:]) - result[i-2,:]\n",
    "    return result[n,:]\n",
    "\n",
    "def Chebypol(x,n):\n",
    "    if n == 0:\n",
    "        return anp.ones_like(x)\n",
    "    if n == 1:\n",
    "        return x\n",
    "    else:\n",
    "        i = 1\n",
    "        term1 = x\n",
    "        term2 = 1\n",
    "        while i < n:\n",
    "            result = 2*x*term1 - term2\n",
    "            term1 = result\n",
    "            term2 = term1\n",
    "            i = i + 1\n",
    "    return result\n",
    "\n",
    "x = np.array([3,3,5])\n",
    "print(Chebypol(x,3))\n",
    "\n",
    "d_Chebypol = elementwise_grad(Chebypol)\n",
    "\n",
    "x = np.linspace(-1,1,100)\n",
    "for i in np.arange(4):\n",
    "    labb = \"n=\" + str(i)\n",
    "    plt.plot(x,d_Chebypol(x,i),label=\"n=%d\" % i)\n",
    "    \n",
    "plt.legend()\n",
    "plt.show()\n"
   ]
  },
  {
   "cell_type": "markdown",
   "metadata": {},
   "source": [
    "# Newton's Method"
   ]
  },
  {
   "cell_type": "code",
   "execution_count": 96,
   "metadata": {},
   "outputs": [
    {
     "name": "stdout",
     "output_type": "stream",
     "text": [
      "Converged True \n",
      " Number of iterations 13\n"
     ]
    },
    {
     "data": {
      "text/plain": [
       "0.6931471805599453"
      ]
     },
     "execution_count": 96,
     "metadata": {},
     "output_type": "execute_result"
    }
   ],
   "source": [
    "# Problem 1\n",
    "import numpy as np\n",
    "def newton(x0,f,df,tol=1e-5,maxiter=15):\n",
    "    Bool = False\n",
    "    for k in range(maxiter):\n",
    "        x1 = x0 - f(x0)/(df(x0))\n",
    "        if abs(x1 - x0) < tol:\n",
    "            Bool = True\n",
    "            print(\"Converged\",Bool,\"\\n\",\"Number of iterations\",k)\n",
    "            return x1\n",
    "            break\n",
    "        x0 = x1\n",
    "f = lambda x: np.exp(x) -2\n",
    "df = lambda x: np.exp(x)\n",
    "newton(10,f,df)"
   ]
  },
  {
   "cell_type": "code",
   "execution_count": 102,
   "metadata": {},
   "outputs": [
    {
     "name": "stdout",
     "output_type": "stream",
     "text": [
      "26087.953561966046\n",
      "Converged True \n",
      " Number of iterations 5\n"
     ]
    },
    {
     "data": {
      "text/plain": [
       "0.03877843223027751"
      ]
     },
     "execution_count": 102,
     "metadata": {},
     "output_type": "execute_result"
    }
   ],
   "source": [
    "# Problem 2\n",
    "import numpy as np\n",
    "\n",
    "def f(N1,N2,P1,P2,r):\n",
    "    return P1*((1+r)**N1-1) - P2*(1-(1+r)**(-N2))\n",
    "def df(N1,N2,P1,P2,r):\n",
    "    return N1*P1*(1+r)**(N1-1) - N2*P2*(1+r)**(-N2-1)\n",
    "\n",
    "def newtonr(r0,f,df,N1,N2,P1,P2,tol=1e-5,maxiter=15):\n",
    "    Bool = False\n",
    "    for k in range(maxiter):\n",
    "        r1 = r0 - f(N1,N2,P1,P2,r0)/(df(N1,N2,P1,P2,r0))\n",
    "        if abs(r1 - r0) < tol:\n",
    "            Bool = True\n",
    "            print(\"Converged\",Bool,\"\\n\",\"Number of iterations\",k)\n",
    "            return r1\n",
    "            break\n",
    "        r0 = r1\n",
    "\n",
    "r0 = 0.1\n",
    "N1 = 30\n",
    "N2 = 20\n",
    "P1 = 2000\n",
    "P2 = 8000\n",
    "print(f(N1,N2,P1,P2,r0))\n",
    "newtonr(r0,f,df,N1,N2,P1,P2)\n"
   ]
  },
  {
   "cell_type": "code",
   "execution_count": 105,
   "metadata": {},
   "outputs": [
    {
     "name": "stdout",
     "output_type": "stream",
     "text": [
      "Converged True \n",
      " Number of iterations 5\n"
     ]
    },
    {
     "data": {
      "text/plain": [
       "6.399999999999913e-07"
      ]
     },
     "execution_count": 105,
     "metadata": {},
     "output_type": "execute_result"
    }
   ],
   "source": [
    "# Problem 3\n",
    "import numpy as np\n",
    "f = lambda x: np.sign(x) * np.power(np.abs(x), 1./3)\n",
    "\n",
    "df = elementwise_grad(f)\n",
    "\n",
    "# Problem 1\n",
    "import numpy as np\n",
    "def newton(x0,f,df,tol=1e-5,maxiter=15,alpha=1):\n",
    "    Bool = False\n",
    "    for k in range(maxiter):\n",
    "        x1 = x0 - alpha*f(x0)/(df(x0))\n",
    "        if abs(x1 - x0) < tol:\n",
    "            Bool = True\n",
    "            print(\"Converged\",Bool,\"\\n\",\"Number of iterations\",k)\n",
    "            return x1\n",
    "            break\n",
    "        x0 = x1\n",
    "    print(\"Did not converge\")\n",
    "newton(0.01,f,df,alpha=0.4)"
   ]
  },
  {
   "cell_type": "code",
   "execution_count": 129,
   "metadata": {},
   "outputs": [
    {
     "data": {
      "image/png": "[encoded data removed]",
      "text/plain": [
       "<Figure size 432x288 with 1 Axes>"
      ]
     },
     "metadata": {
      "needs_background": "light"
     },
     "output_type": "display_data"
    },
    {
     "data": {
      "text/plain": [
       "0.3300000000000001"
      ]
     },
     "execution_count": 129,
     "metadata": {},
     "output_type": "execute_result"
    }
   ],
   "source": [
    "# Problem 4\n",
    "import numpy as np\n",
    "f = lambda x: np.sign(x) * np.power(np.abs(x), 1./3)\n",
    "df = elementwise_grad(f)\n",
    "\n",
    "def newtonalpha(x0,f,df,tol=1e-5,maxiter=15):\n",
    "    result = np.arange(0.2,1,0.01)\n",
    "    parameter = np.arange(0.2,1,0.01)\n",
    "    init = x0\n",
    "    for i,alpha in enumerate(result):\n",
    "        x0 = init\n",
    "#         print(alpha)\n",
    "        Bool = False\n",
    "        for k in range(maxiter):\n",
    "#             print(k)\n",
    "            x1 = x0 - alpha*f(x0)/(df(x0))\n",
    "            if abs(x1 - x0) < tol:\n",
    "                Bool = True\n",
    "#                 print(\"Converged\",Bool,\"\\n\",\"Number of iterations\",k)\n",
    "                result[i] = k\n",
    "                break\n",
    "            x0 = x1\n",
    "            result[i] = k\n",
    "    plt.plot(parameter,result)\n",
    "    plt.show()\n",
    "    table = np.array([parameter,result])\n",
    "    return table[0,np.argmin(table[1,:])]\n",
    "       \n",
    "result = newtonalpha(0.1,f,df)\n",
    "result"
   ]
  },
  {
   "cell_type": "code",
   "execution_count": 157,
   "metadata": {},
   "outputs": [
    {
     "name": "stdout",
     "output_type": "stream",
     "text": [
      "(500, 500)\n",
      "(500, 500)\n"
     ]
    },
    {
     "data": {
      "image/png": "[encoded data removed]",
      "text/plain": [
       "<Figure size 432x288 with 1 Axes>"
      ]
     },
     "metadata": {
      "needs_background": "light"
     },
     "output_type": "display_data"
    }
   ],
   "source": [
    "# Problem 7\n",
    "rmin = -1.5\n",
    "rmax = 1.5\n",
    "imin = -1.5\n",
    "imax = 1.5\n",
    "from matplotlib import pyplot as plt\n",
    "f = lambda x: x**3 - 1\n",
    "Df = lambda x: 3*x**2\n",
    "zeros = np.array([1,-0.5+1j*np.sqrt(3)/2,-0.5-1j*np.sqrt(3)/2])\n",
    "res = 500\n",
    "def newton3(rmin,rmax,imin,imax,f,Df,zeros,res,iter=15):\n",
    "    x_real = np.linspace(rmin, rmax, res) # Real parts.\n",
    "    x_imag = np.linspace(imin, imax, res) # Imaginary parts.\n",
    "    X_real, X_imag = np.meshgrid(x_real, x_imag)\n",
    "    X_0 = X_real + 1j*X_imag\n",
    "    X_test = X_0\n",
    "#     print(X_0)\n",
    "    for k in range(iter):\n",
    "        X_1 = X_0 - f(X_0)/Df(X_0)\n",
    "        X_0 = X_1\n",
    "    Rootrange = range(len(zeros))\n",
    "    Y = np.zeros_like(X_0)\n",
    "    for i in range(X_1.shape[0]):\n",
    "        for j in range(X_1.shape[1]):\n",
    "            delta = abs(X_1[i,j] - zeros)\n",
    "            Y[i,j] = np.argmin(delta)\n",
    "    return Y,X_real,X_imag, X_test\n",
    "Y, X_real, X_imag, X_test = newton3(rmin,rmax,imin,imax,f,Df,zeros,res,iter=15)\n",
    "print(Y.shape)\n",
    "print(X_test.shape)\n",
    "plt.pcolormesh(X_real,X_imag,Y.real,cmap=\"brg\")\n",
    "plt.show()"
   ]
  },
  {
   "cell_type": "code",
   "execution_count": null,
   "metadata": {},
   "outputs": [],
   "source": []
  }
 ],
 "metadata": {
  "kernelspec": {
   "display_name": "Python 3",
   "language": "python",
   "name": "python3"
  },
  "language_info": {
   "codemirror_mode": {
    "name": "ipython",
    "version": 3
   },
   "file_extension": ".py",
   "mimetype": "text/x-python",
   "name": "python",
   "nbconvert_exporter": "python",
   "pygments_lexer": "ipython3",
   "version": "3.7.3"
  }
 },
 "nbformat": 4,
 "nbformat_minor": 2
}
