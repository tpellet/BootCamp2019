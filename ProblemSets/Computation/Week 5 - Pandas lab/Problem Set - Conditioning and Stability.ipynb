{
 "cells": [
  {
   "cell_type": "markdown",
   "metadata": {},
   "source": [
    "### Conditioning and Stability"
   ]
  },
  {
   "cell_type": "markdown",
   "metadata": {},
   "source": [
    "### Exercise 1"
   ]
  },
  {
   "cell_type": "code",
   "execution_count": 14,
   "metadata": {},
   "outputs": [
    {
     "name": "stdout",
     "output_type": "stream",
     "text": [
      "3999999887.515753\n",
      "3999999887.515756\n"
     ]
    }
   ],
   "source": [
    "import numpy as np\n",
    "from scipy import linalg\n",
    "\n",
    "def condnumber(A):\n",
    "    U, s, Vh = linalg.svd(A)\n",
    "    if min(U.any(),Vh.any()) == 0:\n",
    "        return np.inf\n",
    "    value = linalg.norm(np.dot(U, np.dot(s, Vh))) * linalg.norm(np.dot(Vh.transpose(), np.dot(np.reciprocal(s), U.transpose())))\n",
    "    \n",
    "    return value\n",
    "\n",
    "print(condnumber(np.array([[1,1],[1,1.000000001]])))\n",
    "print(np.linalg.cond(np.array([[1,1],[1,1.000000001]])))"
   ]
  },
  {
   "cell_type": "code",
   "execution_count": null,
   "metadata": {},
   "outputs": [],
   "source": []
  }
 ],
 "metadata": {
  "kernelspec": {
   "display_name": "Python 3",
   "language": "python",
   "name": "python3"
  },
  "language_info": {
   "codemirror_mode": {
    "name": "ipython",
    "version": 3
   },
   "file_extension": ".py",
   "mimetype": "text/x-python",
   "name": "python",
   "nbconvert_exporter": "python",
   "pygments_lexer": "ipython3",
   "version": "3.7.3"
  }
 },
 "nbformat": 4,
 "nbformat_minor": 2
}
