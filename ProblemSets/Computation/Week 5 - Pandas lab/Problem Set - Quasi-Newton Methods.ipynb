{
 "cells": [
  {
   "cell_type": "markdown",
   "metadata": {},
   "source": [
    "# Newton and Quasi-Newton Methods"
   ]
  },
  {
   "cell_type": "markdown",
   "metadata": {},
   "source": [
    "## Exercise 1: Newton's Method"
   ]
  },
  {
   "cell_type": "code",
   "execution_count": 16,
   "metadata": {},
   "outputs": [],
   "source": [
    "import numpy as np\n",
    "\n",
    "\n",
    "\n",
    "def Newton(Df, Hf, x0, maxiter=100, tol=1e-15):\n",
    "    iter = 0\n",
    "    epsi = 1 \n",
    "    D = Df(x0)\n",
    "    H = Hf(x0)\n",
    "    converged = False\n",
    "    while (epsi > tol) & (iter < maxiter):\n",
    "        iter +=1\n",
    "        \n",
    "        z = np.linalg.solve(H, D.T)\n",
    "\n",
    "        x = x0 - z\n",
    "\n",
    "        x0 = x\n",
    "        D = Df(x0)\n",
    "        H = Hf(x0)\n",
    "        \n",
    "        epsi = np.linalg.norm(D, np.inf)\n",
    "\n",
    "    \n",
    "    if  epsi< tol:\n",
    "        print(\"Converged!\")\n",
    "        converged = True\n",
    "    \n",
    "    return x, converged, iter\n",
    "\n"
   ]
  },
  {
   "cell_type": "code",
   "execution_count": 96,
   "metadata": {},
   "outputs": [
    {
     "name": "stdout",
     "output_type": "stream",
     "text": [
      "Optimization terminated successfully.\n",
      "         Current function value: 0.000000\n",
      "         Iterations: 35\n",
      "         Function evaluations: 42\n",
      "         Gradient evaluations: 42\n"
     ]
    },
    {
     "data": {
      "text/plain": [
       "(array([1.00000021, 1.00000045]),\n",
       " [array([-2,  2]),\n",
       "  array([-1.01994107,  2.24409936]),\n",
       "  array([-0.562813  ,  0.73585826]),\n",
       "  array([-0.36827151,  0.18693516]),\n",
       "  array([-0.32503271,  0.07231728]),\n",
       "  array([-0.33815082,  0.10876181]),\n",
       "  array([-0.33155626,  0.10065382]),\n",
       "  array([-0.32008543,  0.0897776 ]),\n",
       "  array([-0.29877807,  0.07223382]),\n",
       "  array([-0.25810869,  0.04233263]),\n",
       "  array([-0.18144513, -0.00617483]),\n",
       "  array([-0.14828669, -0.01469884]),\n",
       "  array([-0.10811225, -0.0128942 ]),\n",
       "  array([ 0.01400379, -0.02662741]),\n",
       "  array([0.12683461, 0.00832816]),\n",
       "  array([0.18664968, 0.01372847]),\n",
       "  array([0.25626686, 0.04271876]),\n",
       "  array([0.34183051, 0.10297075]),\n",
       "  array([0.45408563, 0.18528138]),\n",
       "  array([0.54024058, 0.29449385]),\n",
       "  array([0.59937917, 0.35059563]),\n",
       "  array([0.64518344, 0.40214864]),\n",
       "  array([0.69724825, 0.47211744]),\n",
       "  array([0.7542323 , 0.56407697]),\n",
       "  array([0.84367453, 0.69626482]),\n",
       "  array([0.84669487, 0.71027411]),\n",
       "  array([0.89923655, 0.80564747]),\n",
       "  array([0.94268829, 0.88448428]),\n",
       "  array([0.96907796, 0.93948559]),\n",
       "  array([1.00007293, 0.99773648]),\n",
       "  array([0.99380259, 0.9868262 ]),\n",
       "  array([0.99660476, 0.99311247]),\n",
       "  array([0.99903821, 0.99809252]),\n",
       "  array([0.9999564 , 0.99991734]),\n",
       "  array([1.00000103, 1.00000248]),\n",
       "  array([1.00000021, 1.00000045])])"
      ]
     },
     "execution_count": 96,
     "metadata": {},
     "output_type": "execute_result"
    }
   ],
   "source": [
    "from scipy import optimize as opt\n",
    "f = opt.rosen # The Rosenbrock function.\n",
    "df = opt.rosen_der # The first derivative.\n",
    "d2f = opt.rosen_hess # The second derivative (Hessian).\n",
    "opt.fmin_bfgs(f=f, x0=[-2,2], fprime=df, maxiter=50, retall=True)\n"
   ]
  },
  {
   "cell_type": "code",
   "execution_count": 22,
   "metadata": {},
   "outputs": [
    {
     "name": "stdout",
     "output_type": "stream",
     "text": [
      "Converged!\n"
     ]
    },
    {
     "data": {
      "text/plain": [
       "(array([1., 1.]), True, 6)"
      ]
     },
     "execution_count": 22,
     "metadata": {},
     "output_type": "execute_result"
    }
   ],
   "source": [
    "Newton(df, d2f, [-2,2])"
   ]
  },
  {
   "cell_type": "markdown",
   "metadata": {},
   "source": [
    "## Exercise 2: BFGS"
   ]
  },
  {
   "cell_type": "code",
   "execution_count": 74,
   "metadata": {},
   "outputs": [],
   "source": [
    "import numpy as np\n",
    "\n",
    "\n",
    "\n",
    "def BFGS(Df, x0, maxiter=100, tol=1e-15):\n",
    "    iter = 0\n",
    "    epsi = 1 \n",
    "    D = Df(x0)\n",
    "    A0 = np.eye(len(x0),len(x0))\n",
    "    converged = False\n",
    "    while (epsi > tol) & (iter < maxiter):\n",
    "        iter +=1\n",
    "\n",
    "        x = x0 - A0 @ D.T\n",
    "        print(x)\n",
    "        \n",
    "        s = x - x0\n",
    "        print(\"S is\", s)\n",
    "        y = Df(x).T - Df(x0).T\n",
    "        print(\"Y is\", y)\n",
    "#         if s\n",
    "\n",
    "        STY = s.T @ y\n",
    "        if STY == 0:\n",
    "            print(\"Dividing by zero!\")\n",
    "            break\n",
    "        \n",
    "        print(\"St y\",STY)\n",
    "        bloc1 = (STY + y.T * A0 * y) * ( s * s.T ) / ( STY )**2\n",
    "        bloc2 = (A0 * y * s.T + s * y.T * A0)/ ( STY )\n",
    "        A = A0 + bloc1 - bloc2\n",
    "        A0 = A\n",
    "        \n",
    "\n",
    "        x0 = x\n",
    "        D = Df(x0)\n",
    "\n",
    "        \n",
    "        epsi = np.linalg.norm(D, np.inf)\n",
    "\n",
    "    \n",
    "    if  epsi< tol:\n",
    "        print(\"Converged!\")\n",
    "        converged = True\n",
    "    \n",
    "    return x, converged, iter\n",
    "\n"
   ]
  },
  {
   "cell_type": "code",
   "execution_count": 75,
   "metadata": {},
   "outputs": [
    {
     "name": "stdout",
     "output_type": "stream",
     "text": [
      "[1604.  402.]\n",
      "S is [1606.  400.]\n",
      "Y is [ 1.65046083e+12 -5.14482400e+08]\n",
      "St y 2650434295542472.0\n",
      "[-9.95230193e+03  5.14561493e+08]\n",
      "S is [-1.15563019e+04  5.14561091e+08]\n",
      "Y is [1.65247459e+15 8.36171187e+10]\n",
      "St y 2.3929620579170345e+19\n",
      "[-9.56965048e+08 -5.33421111e+10]\n",
      "S is [-9.56955095e+08 -5.38566726e+10]\n",
      "Y is [-3.50548606e+29 -1.83156431e+20]\n",
      "St y 3.3545928442871096e+38\n",
      "[2.02656353e+18 1.18687457e+20]\n",
      "S is [2.02656353e+18 1.18687457e+20]\n",
      "Y is [ 3.32920594e+57 -8.21391950e+38]\n",
      "St y 6.746847352326344e+75\n",
      "[9.08842217e+36 5.32271355e+38]\n",
      "S is [9.08842217e+36 5.32271355e+38]\n",
      "Y is [ 3.00279351e+113 -1.65198835e+076]\n",
      "St y 2.729065514765434e+150\n",
      "[1.82786885e+74 1.07050730e+76]\n",
      "S is [1.82786885e+74 1.07050730e+76]\n",
      "Y is [ 2.44284035e+225 -6.68220905e+150]\n",
      "St y 4.465191779553804e+299\n",
      "[nan nan]\n",
      "S is [nan nan]\n",
      "Y is [nan nan]\n",
      "St y nan\n"
     ]
    },
    {
     "name": "stderr",
     "output_type": "stream",
     "text": [
      "C:\\ProgramData\\Anaconda3\\lib\\site-packages\\ipykernel_launcher.py:29: RuntimeWarning: overflow encountered in multiply\n",
      "C:\\ProgramData\\Anaconda3\\lib\\site-packages\\ipykernel_launcher.py:29: RuntimeWarning: overflow encountered in double_scalars\n",
      "C:\\ProgramData\\Anaconda3\\lib\\site-packages\\ipykernel_launcher.py:29: RuntimeWarning: invalid value encountered in true_divide\n"
     ]
    },
    {
     "data": {
      "text/plain": [
       "(array([nan, nan]), False, 7)"
      ]
     },
     "execution_count": 75,
     "metadata": {},
     "output_type": "execute_result"
    }
   ],
   "source": [
    "BFGS(df,[-2,2])"
   ]
  },
  {
   "cell_type": "markdown",
   "metadata": {},
   "source": [
    "### Exercise 3"
   ]
  },
  {
   "cell_type": "code",
   "execution_count": null,
   "metadata": {},
   "outputs": [],
   "source": [
    "import time\n",
    "def comparison(N):\n",
    "    x0 = np.random.uniform(low = -3, high = 3, size=(N,N))\n",
    "    speed1 = []\n",
    "    iter1 = []\n",
    "    speed2 = []\n",
    "    iter2 = []\n",
    "    speed3 = []\n",
    "    iter3 = []\n",
    "    for i in range(N)\n",
    "        x = x0[i,i]\n",
    "        start = time.time()\n",
    "        iter1.append(Newton(df, d2f, x)[2])\n",
    "        end = time.time() - start\n",
    "        speed1.append(end)\n",
    "\n",
    "        start = time.time()\n",
    "        iter2.append(BFGS(df, x)[2])\n",
    "        end = time.time() - start\n",
    "        speed2.append(end)\n",
    "\n",
    "        start = time.time()\n",
    "        opt.fmin_bfgs(f=f, x0=x, fprime=df, maxiter=50, disp=False, retall = True)\n",
    "        iter3.append()\n",
    "        end = time.time()\n",
    "        speed3.append(end)\n",
    "        \n",
    "    plt.scatter(speed1, iter1)\n",
    "    plt.scatter(speed2, iter2)\n",
    "    plt.scatter(speed3, iter3)\n",
    "    plt.legend(['Newton', 'BFGS', 'opt.fmin_bfgs'])\n",
    "    plt.show()\n"
   ]
  }
 ],
 "metadata": {
  "kernelspec": {
   "display_name": "Python 3",
   "language": "python",
   "name": "python3"
  },
  "language_info": {
   "codemirror_mode": {
    "name": "ipython",
    "version": 3
   },
   "file_extension": ".py",
   "mimetype": "text/x-python",
   "name": "python",
   "nbconvert_exporter": "python",
   "pygments_lexer": "ipython3",
   "version": "3.7.3"
  }
 },
 "nbformat": 4,
 "nbformat_minor": 2
}
