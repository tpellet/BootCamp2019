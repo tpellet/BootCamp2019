{
 "cells": [
  {
   "cell_type": "markdown",
   "metadata": {},
   "source": [
    "# Newton and Quasi-Newton Methods"
   ]
  },
  {
   "cell_type": "markdown",
   "metadata": {},
   "source": [
    "## Exercise 1: Newton's Method"
   ]
  },
  {
   "cell_type": "code",
   "execution_count": 224,
   "metadata": {},
   "outputs": [],
   "source": [
    "import numpy as np\n",
    "\n",
    "\n",
    "\n",
    "def Newton(Df, Hf, x0, maxiter=500, tol=1e-):\n",
    "    iter = 0\n",
    "    epsi = 1 \n",
    "    D = Df(x0)\n",
    "    H = Hf(x0)\n",
    "    converged = False\n",
    "    while (epsi > tol) & (iter < maxiter):\n",
    "        iter +=1\n",
    "        \n",
    "        z = np.linalg.solve(H, D.T)\n",
    "\n",
    "        x = x0 - z\n",
    "\n",
    "        x0 = x\n",
    "        D = Df(x0)\n",
    "        H = Hf(x0)\n",
    "        \n",
    "        epsi = np.linalg.norm(D, np.inf)\n",
    "\n",
    "    \n",
    "    if  epsi< tol:\n",
    "#         print(\"Converged!\")\n",
    "        converged = True\n",
    "    \n",
    "    return x, converged, iter\n",
    "\n"
   ]
  },
  {
   "cell_type": "code",
   "execution_count": 209,
   "metadata": {},
   "outputs": [
    {
     "name": "stdout",
     "output_type": "stream",
     "text": [
      "Optimization terminated successfully.\n",
      "         Current function value: 0.000000\n",
      "         Iterations: 35\n",
      "         Function evaluations: 42\n",
      "         Gradient evaluations: 42\n",
      "[array([-2,  2]), array([-1.01994107,  2.24409936]), array([-0.562813  ,  0.73585826]), array([-0.36827151,  0.18693516]), array([-0.32503271,  0.07231728]), array([-0.33815082,  0.10876181]), array([-0.33155626,  0.10065382]), array([-0.32008543,  0.0897776 ]), array([-0.29877807,  0.07223382]), array([-0.25810869,  0.04233263]), array([-0.18144513, -0.00617483]), array([-0.14828669, -0.01469884]), array([-0.10811225, -0.0128942 ]), array([ 0.01400379, -0.02662741]), array([0.12683461, 0.00832816]), array([0.18664968, 0.01372847]), array([0.25626686, 0.04271876]), array([0.34183051, 0.10297075]), array([0.45408563, 0.18528138]), array([0.54024058, 0.29449385]), array([0.59937917, 0.35059563]), array([0.64518344, 0.40214864]), array([0.69724825, 0.47211744]), array([0.7542323 , 0.56407697]), array([0.84367453, 0.69626482]), array([0.84669487, 0.71027411]), array([0.89923655, 0.80564747]), array([0.94268829, 0.88448428]), array([0.96907796, 0.93948559]), array([1.00007293, 0.99773648]), array([0.99380259, 0.9868262 ]), array([0.99660476, 0.99311247]), array([0.99903821, 0.99809252]), array([0.9999564 , 0.99991734]), array([1.00000103, 1.00000248]), array([1.00000021, 1.00000045])]\n"
     ]
    }
   ],
   "source": [
    "from scipy import optimize as opt\n",
    "f = opt.rosen # The Rosenbrock function.\n",
    "df = opt.rosen_der # The first derivative.\n",
    "d2f = opt.rosen_hess # The second derivative (Hessian).\n",
    "output = opt.fmin_bfgs(f=f, x0=[-2,2], fprime=df, maxiter=50, retall=True)\n",
    "\n"
   ]
  },
  {
   "cell_type": "code",
   "execution_count": 22,
   "metadata": {},
   "outputs": [
    {
     "name": "stdout",
     "output_type": "stream",
     "text": [
      "Converged!\n"
     ]
    },
    {
     "data": {
      "text/plain": [
       "(array([1., 1.]), True, 6)"
      ]
     },
     "execution_count": 22,
     "metadata": {},
     "output_type": "execute_result"
    }
   ],
   "source": [
    "Newton(df, d2f, [-2,2])"
   ]
  },
  {
   "cell_type": "markdown",
   "metadata": {},
   "source": [
    "## Exercise 2: BFGS"
   ]
  },
  {
   "cell_type": "code",
   "execution_count": 221,
   "metadata": {},
   "outputs": [],
   "source": [
    "import numpy as np\n",
    "\n",
    "\n",
    "\n",
    "def BFGS(Df, x0, maxiter=1000, tol=1e-8):\n",
    "    iter = 0\n",
    "    epsi = 1 \n",
    "    D = Df(x0)\n",
    "    A0 = np.eye(len(x0),len(x0))\n",
    "    converged = False\n",
    "    while (epsi > tol) & (iter < maxiter):\n",
    "        iter +=1\n",
    "\n",
    "        x = x0 - A0 @ D.T\n",
    "\n",
    "        \n",
    "        s = x - x0\n",
    "\n",
    "        y = Df(x).T - D.T\n",
    "\n",
    "#         if s\n",
    "\n",
    "        STY = s.T @ y\n",
    "        if STY == 0:\n",
    "            print(\"Dividing by zero!\")\n",
    "            break\n",
    "        \n",
    "        bloc1 = (STY + y.T @ A0 @ y) * np.outer(s,s.T) / ( STY )**2\n",
    "        bloc2 = (A0 @  np.outer(y,s.T) + np.outer(s,y.T) @ A0)/ ( STY )\n",
    "        A = A0 + bloc1 - bloc2\n",
    "        A0 = A\n",
    "\n",
    "\n",
    "        x0 = x\n",
    "        D = Df(x0)\n",
    "\n",
    "        \n",
    "        epsi = np.linalg.norm(D, np.inf)\n",
    "#         print(epsi)\n",
    "    \n",
    "    if  epsi< tol:\n",
    "#         print(\"Converged!\")\n",
    "        converged = True\n",
    "    \n",
    "    return x, converged, iter\n",
    "\n"
   ]
  },
  {
   "cell_type": "code",
   "execution_count": 207,
   "metadata": {},
   "outputs": [
    {
     "name": "stdout",
     "output_type": "stream",
     "text": [
      "1650460825606.0\n",
      "316719.64597053104\n",
      "1086827036.7061486\n",
      "8449.963316947576\n",
      "206.04962107212023\n",
      "5.983813919112525\n",
      "5.983204887348917\n",
      "5.801183801472974\n",
      "5.618548720790901\n",
      "5.2538782980511884\n",
      "4.706564773928992\n",
      "3.794654650060277\n",
      "2.3359897529025235\n",
      "1.5096675673555104\n",
      "3.8468638160603206\n",
      "9.993050809585192\n",
      "19.875835586494787\n",
      "34.99885926869326\n",
      "169.5527559130816\n",
      "51.62895820579609\n",
      "72.52764188719466\n",
      "2.449302279163792\n",
      "22.001471142135593\n",
      "29.691864616730232\n",
      "149.9532851799965\n",
      "2.153111117106299\n",
      "36.81350243722473\n",
      "29.033500627655954\n",
      "11.85789842196052\n",
      "66.84160527092483\n",
      "2.2710061541216864\n",
      "6.652337321581809\n",
      "376.4789811433079\n",
      "4.189856921118594\n",
      "2.9026285858201524\n",
      "3.051598616790141\n",
      "25691.869488219498\n",
      "1.632133584144535\n",
      "2.481240506590164\n",
      "6.622716470071074\n",
      "7.344791412357562\n",
      "12.10730751667693\n",
      "16.33206076709515\n",
      "20.578540132271947\n",
      "20.610020024386092\n",
      "14.926259083581098\n",
      "5.990955443010169\n",
      "32.67579203083692\n",
      "1.736379907165475\n",
      "2.1340861200326744\n",
      "323169.81828903337\n",
      "2.3523886808857273\n",
      "2.497017452989768\n",
      "3.058050592235729\n",
      "3.1750099706733006\n",
      "3.8432259765692147\n",
      "4.597694959148746\n",
      "5.857321874826654\n",
      "7.220913146647218\n",
      "7.940622750598587\n",
      "8.376603858142909\n",
      "6.661098690730985\n",
      "2.5015984907729614\n",
      "21.851414188963815\n",
      "1.9970730304250641\n",
      "1.9496924800356057\n",
      "2091.4142939001003\n",
      "1.9549029650538146\n",
      "1.9567559155786538\n",
      "42.90740825832902\n",
      "2.0466410285142027\n",
      "2.109623608464196\n",
      "6352.1037616736785\n",
      "1.8933630025623396\n",
      "1.8027922856838485\n",
      "1.6285746868177509\n",
      "1.5163284922949716\n",
      "2.6793071250756926\n",
      "4.103877338140116\n",
      "5.4806983116391805\n",
      "5.840124304684754\n",
      "3.888761489721376\n",
      "1.8222944289247367\n",
      "9.779602269521243\n",
      "2.3823424968732114\n",
      "0.4614196857003816\n",
      "36.033486914771046\n",
      "0.6426561226499843\n",
      "0.6597326437031404\n",
      "45.29071978891596\n",
      "1.1263475369924816\n",
      "1.229016249562581\n",
      "109.19820439546362\n",
      "1.3312211547680621\n",
      "1.363410624059853\n",
      "198.09690206042478\n",
      "1.349092948938197\n",
      "1.3277114366841234\n",
      "214.08551020070496\n",
      "1.2918752178459623\n",
      "1.2572681775699768\n",
      "143.2919436905228\n",
      "1.2489303404830385\n",
      "1.2247670038535512\n",
      "144.79750913731917\n",
      "1.2268555037630484\n",
      "1.21093590023625\n",
      "133.95705623047326\n",
      "1.2162536155494577\n",
      "1.2013623977176937\n",
      "124.28117579815128\n",
      "1.2039283694771483\n",
      "1.1858881166201838\n",
      "112.99106545597738\n",
      "1.1847836914810697\n",
      "1.162188450593297\n",
      "99.73059076416683\n",
      "1.1585157858033388\n",
      "1.1309252150999365\n",
      "85.7004007297182\n",
      "1.124978097202685\n",
      "1.0911352793064677\n",
      "71.5250906524058\n",
      "1.0813553139870662\n",
      "1.0380017279187808\n",
      "57.18232958445617\n",
      "1.019938271995393\n",
      "0.9599166978943343\n",
      "42.52761526745322\n",
      "0.9221882526258218\n",
      "0.8288312023850555\n",
      "27.70691370411068\n",
      "0.7368845258712594\n",
      "0.5655052748992653\n",
      "13.930547679222785\n",
      "0.2917618823045034\n",
      "0.17415785902883396\n",
      "4.580466645365494\n",
      "0.841856236127895\n",
      "1.1951249647885664\n",
      "1.9179956301610273\n",
      "1.6957311812777631\n",
      "0.11782159444105286\n",
      "0.37126068254860084\n",
      "0.03996564898835158\n",
      "0.014624286741694713\n",
      "0.002345061109532683\n",
      "7.02992298982673e-06\n",
      "1.3492985731569282e-07\n",
      "9.115153076811434e-10\n",
      "Converged!\n"
     ]
    },
    {
     "data": {
      "text/plain": [
       "(array([1., 1.]), True, 150)"
      ]
     },
     "execution_count": 207,
     "metadata": {},
     "output_type": "execute_result"
    }
   ],
   "source": [
    "BFGS(df,[-2,2])"
   ]
  },
  {
   "cell_type": "markdown",
   "metadata": {},
   "source": [
    "### Exercise 3"
   ]
  },
  {
   "cell_type": "code",
   "execution_count": 223,
   "metadata": {},
   "outputs": [
    {
     "name": "stdout",
     "output_type": "stream",
     "text": [
      "Dividing by zero!\n",
      "Dividing by zero!\n",
      "Dividing by zero!\n",
      "Dividing by zero!\n",
      "Dividing by zero!\n",
      "Dividing by zero!\n",
      "Dividing by zero!\n",
      "Dividing by zero!\n"
     ]
    },
    {
     "data": {
      "image/png": "[encoded data removed]",
      "text/plain": [
       "<Figure size 432x288 with 1 Axes>"
      ]
     },
     "metadata": {
      "needs_background": "light"
     },
     "output_type": "display_data"
    }
   ],
   "source": [
    "import time\n",
    "def comparison(N):\n",
    "    x0 = np.random.uniform(low = -3, high = 3, size=(N,2))\n",
    "    speed1 = []\n",
    "    iter1 = []\n",
    "    speed2 = []\n",
    "    iter2 = []\n",
    "    speed3 = []\n",
    "    iter3 = []\n",
    "    for i in range(N):\n",
    "        x = x0[i,:]\n",
    "        start = time.time()\n",
    "        iter1.append(Newton(df, d2f, x)[2])\n",
    "        end = time.time() - start\n",
    "        speed1.append(end)\n",
    "\n",
    "        start = time.time()\n",
    "        iter2.append(BFGS(df, x)[2])\n",
    "        end = time.time() - start\n",
    "        speed2.append(end)\n",
    "\n",
    "        start = time.time()\n",
    "        output = opt.fmin_bfgs(f=f, x0=x, fprime=df, maxiter=500, disp=False, retall = True)\n",
    "        iter3.append(len(output[1]))\n",
    "        end = time.time()  - start\n",
    "        speed3.append(end)\n",
    "        \n",
    "    plt.loglog(speed1, iter1, 'o')\n",
    "    plt.loglog(speed2, iter2, 'o')\n",
    "    plt.loglog(speed3, iter3, 'o')\n",
    "    plt.legend(['Newton', 'BFGS', 'opt.fmin_bfgs'])\n",
    "    plt.show()\n",
    "\n",
    "    \n",
    "comparison(1000)"
   ]
  },
  {
   "cell_type": "markdown",
   "metadata": {},
   "source": [
    "## Exercise 4: Gauss-Newton Method"
   ]
  },
  {
   "cell_type": "code",
   "execution_count": 137,
   "metadata": {},
   "outputs": [],
   "source": [
    "from matplotlib import pyplot as plt\n",
    "\n",
    "\n",
    "def gauss_newton(r, jac, x0, maxiter=100000, tol=1e-15):\n",
    "    iter = 0\n",
    "    epsi = 1 \n",
    "\n",
    "    JJ = lambda x: jac(x).T @ jac(x)\n",
    "    J = jac(x0)\n",
    "    converged = False\n",
    "    while (epsi > tol) & (iter < maxiter):\n",
    "        iter += 1\n",
    "\n",
    "        z = np.linalg.solve(JJ(x0), J.T @ r(x0))\n",
    "\n",
    "        x = x0 - z\n",
    "        epsi = np.linalg.norm(x-x0, 2)\n",
    "        print(\"Error is\", epsi)\n",
    "        #Update\n",
    "        x0 = x\n",
    "        J = jac(x0)\n",
    "\n",
    "        \n",
    "    \n",
    "    if  epsi< tol:\n",
    "        print(\"Converged!\")\n",
    "        converged = True\n",
    "        \n",
    "    result = [x, iter, converged]\n",
    "    return result\n"
   ]
  },
  {
   "cell_type": "code",
   "execution_count": 138,
   "metadata": {},
   "outputs": [],
   "source": [
    "import numpy as np\n",
    "from matplotlib import pyplot as plt\n",
    "# Generate random data for t = 0, 1, ..., 10.\n",
    "T = np.arange(10)\n",
    "y = 3*np.sin(0.5*T)+ 0.5*np.random.randn(10) # Perturbed data.\n",
    "# Define the model function and the residual (based on the data).\n",
    "model = lambda x, t: x[0]*np.sin(x[1]*t) # phi(x,t)\n",
    "residual = lambda x: model(x, T) - y # r(x) = phi(x,t) - y\n",
    "# Define the Jacobian of the residual function, computed by hand.\n",
    "jac = lambda x: np.column_stack((np.sin(x[1]*T, x[0]*T*np.cos(x[1]*T))))"
   ]
  },
  {
   "cell_type": "code",
   "execution_count": 139,
   "metadata": {},
   "outputs": [
    {
     "name": "stdout",
     "output_type": "stream",
     "text": [
      "Error is 0.19547691188815758\n",
      "Error is 0.4196304330885485\n",
      "Error is 0.0005939638349948274\n",
      "Error is 7.654137987334641e-05\n",
      "Error is 2.2542696714923755e-06\n",
      "Error is 8.349815863349683e-08\n",
      "Error is 3.0632483162103156e-09\n",
      "Error is 1.1241821554097212e-10\n",
      "Error is 4.125421380131389e-12\n",
      "Error is 1.5104583229974664e-13\n",
      "Error is 5.236911533344271e-15\n",
      "Error is 4.440892098500626e-16\n",
      "Converged!\n"
     ]
    },
    {
     "data": {
      "text/plain": [
       "[array([2.74758897, 0.50471225]), 12, True]"
      ]
     },
     "execution_count": 139,
     "metadata": {},
     "output_type": "execute_result"
    }
   ],
   "source": [
    "x0 = np.array([2.5,.6])\n",
    "jac = lambda x: np.column_stack((np.sin(x[1]*T), x[0]*T*np.cos(x[1]*T)))\n",
    "gauss_newton(residual, jac, x0)"
   ]
  },
  {
   "cell_type": "code",
   "execution_count": 140,
   "metadata": {
    "scrolled": true
   },
   "outputs": [
    {
     "data": {
      "text/plain": [
       "(array([2.74758889, 0.50471228]), 1)"
      ]
     },
     "execution_count": 140,
     "metadata": {},
     "output_type": "execute_result"
    }
   ],
   "source": [
    "opt.leastsq(func=residual, x0=np.array([2.5,.6]), Dfun=jac)"
   ]
  },
  {
   "cell_type": "markdown",
   "metadata": {},
   "source": [
    "## Exercise 5: Application of non-linear least square"
   ]
  },
  {
   "cell_type": "code",
   "execution_count": 145,
   "metadata": {},
   "outputs": [
    {
     "data": {
      "text/plain": [
       "array([[  0.   ,   3.929],\n",
       "       [  1.   ,   5.308],\n",
       "       [  2.   ,   7.24 ],\n",
       "       [  3.   ,   9.638],\n",
       "       [  4.   ,  12.866],\n",
       "       [  5.   ,  17.069],\n",
       "       [  6.   ,  23.192],\n",
       "       [  7.   ,  31.443],\n",
       "       [  8.   ,  38.558],\n",
       "       [  9.   ,  50.156],\n",
       "       [ 10.   ,  62.948],\n",
       "       [ 11.   ,  75.996],\n",
       "       [ 12.   ,  91.972],\n",
       "       [ 13.   , 105.711],\n",
       "       [ 14.   , 122.775],\n",
       "       [ 15.   , 131.669]])"
      ]
     },
     "execution_count": 145,
     "metadata": {},
     "output_type": "execute_result"
    }
   ],
   "source": [
    "from scipy.optimize import leastsq\n",
    "import pandas as pd\n",
    "\n",
    "data = np.load('population.npy')\n",
    "data"
   ]
  },
  {
   "cell_type": "code",
   "execution_count": 164,
   "metadata": {},
   "outputs": [
    {
     "name": "stdout",
     "output_type": "stream",
     "text": [
      "[1.67729595 0.18474177 9.11885064]\n"
     ]
    }
   ],
   "source": [
    "time = pd.date_range('1790', periods= 16, freq = '10Y' )\n",
    "\n",
    "dataset = pd.DataFrame(data[:,1], index = time)\n",
    "# dataset.plot()\n",
    "# # plt.plot(time, data[:,1])\n",
    "# # plt.show()\n",
    "\n",
    "x0 = np.array([1.5, .4, 2.5])\n",
    "model1 = lambda x, t: x[0]*np.exp(x[1]*(t + x[2]))\n",
    "T = data[:,0]\n",
    "y = data[:,1]\n",
    "residual = lambda x: model1(x, T) - y\n",
    "\n",
    "# Define the Jacobian of the residual function, computed by hand.\n",
    "jac = lambda x: np.column_stack((np.exp(x[1]*(T + x[2])), \\\n",
    "                                 (T + x[2])*x[0]*np.exp(x[1]*(T + x[2])), \\\n",
    "                                x[1]*x[0]*np.exp(x[1]*(T + x[2]))))\n",
    "                                \n",
    "                                \n",
    "X = leastsq(func=residual, x0=x0, Dfun=jac)[0]\n",
    "\n",
    "print(X)\n",
    "\n"
   ]
  },
  {
   "cell_type": "code",
   "execution_count": 165,
   "metadata": {},
   "outputs": [
    {
     "data": {
      "image/png": "[encoded data removed]",
      "text/plain": [
       "<Figure size 432x288 with 1 Axes>"
      ]
     },
     "metadata": {
      "needs_background": "light"
     },
     "output_type": "display_data"
    }
   ],
   "source": [
    "yhat = model1(X,T)\n",
    "plt.plot(time, data[:,1])\n",
    "plt.plot(time, yhat)\n",
    "plt.legend(['US Population', 'model'])\n",
    "plt.title('US Population since 1790')\n",
    "plt.show()"
   ]
  },
  {
   "cell_type": "code",
   "execution_count": 171,
   "metadata": {},
   "outputs": [
    {
     "name": "stdout",
     "output_type": "stream",
     "text": [
      "[175.92019886   0.33629982 -11.72522672]\n"
     ]
    }
   ],
   "source": [
    "#Different model\n",
    "\n",
    "x0 = np.array([150, .4, -15])\n",
    "model = lambda x, t: x[0]/(1 + np.exp(-x[1]*(t + x[2])))\n",
    "T = data[:,0]\n",
    "y = data[:,1]\n",
    "residual = lambda x: model(x, T) - y\n",
    "\n",
    "# Define the Jacobian of the residual function, computed by hand.\n",
    "jac = lambda x: np.column_stack((1/(1 + np.exp(-x[1]*(T + x[2]))), \\\n",
    "                                 x[0]*(T + x[2])*(1 + np.exp(-x[1]*(T + x[2])))**(-2), \\\n",
    "                                 x[0]*x[1]*(1 + np.exp(-x[1]*(T + x[2])))**(-2)))\n",
    "                                \n",
    "                                \n",
    "X = leastsq(func=residual, x0=x0, Dfun=jac)[0]\n",
    "print(X)"
   ]
  },
  {
   "cell_type": "code",
   "execution_count": 172,
   "metadata": {},
   "outputs": [
    {
     "data": {
      "image/png": "[encoded data removed]",
      "text/plain": [
       "<Figure size 432x288 with 1 Axes>"
      ]
     },
     "metadata": {
      "needs_background": "light"
     },
     "output_type": "display_data"
    }
   ],
   "source": [
    "yhat = model(X,T)\n",
    "plt.plot(time, data[:,1])\n",
    "plt.plot(time, yhat)\n",
    "plt.legend(['US Population', 'model'])\n",
    "plt.title('US Population since 1790')\n",
    "plt.show()"
   ]
  },
  {
   "cell_type": "code",
   "execution_count": null,
   "metadata": {},
   "outputs": [],
   "source": []
  }
 ],
 "metadata": {
  "kernelspec": {
   "display_name": "Python 3",
   "language": "python",
   "name": "python3"
  },
  "language_info": {
   "codemirror_mode": {
    "name": "ipython",
    "version": 3
   },
   "file_extension": ".py",
   "mimetype": "text/x-python",
   "name": "python",
   "nbconvert_exporter": "python",
   "pygments_lexer": "ipython3",
   "version": "3.7.3"
  }
 },
 "nbformat": 4,
 "nbformat_minor": 2
}
