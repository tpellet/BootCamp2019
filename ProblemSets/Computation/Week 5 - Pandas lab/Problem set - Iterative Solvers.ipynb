{
 "cells": [
  {
   "cell_type": "markdown",
   "metadata": {},
   "source": [
    "# Iterative Solvers\n",
    "## Exercise 1: Implement the Jacobi Method"
   ]
  },
  {
   "cell_type": "code",
   "execution_count": 38,
   "metadata": {},
   "outputs": [],
   "source": [
    "import numpy as np\n",
    "\n",
    "# Implement the Jacobi Method\n",
    "\n",
    "def Jacobi(A, b, tol, maxiter):\n",
    "    epsi = 1\n",
    "    iter =0\n",
    "    x0 = np.zeros_like(b)\n",
    "    x = np.zeros_like(b)\n",
    "    U = np.triu(A, k = 1)\n",
    "    L = np.tril(A, k = -1)\n",
    "    D = np.diagonal(A)\n",
    "    print(D)\n",
    "    print(np.reciprocal(D))\n",
    "    while (epsi > tol) & (iter < maxiter):\n",
    "        print(\"iteration number\", iter)\n",
    "\n",
    "        x    = x0 + np.reciprocal(D)*(b - A @ x0)\n",
    "#         print(x)\n",
    "        \n",
    "        epsi = np.linalg.norm(x-x0, np.inf)\n",
    "        print(\"error is\", epsi)\n",
    "        x0   = x\n",
    "        iter = iter + 1\n",
    "    print(\"Converged!\")\n",
    "    return x\n",
    "        \n",
    "def diag_dom(n, num_entries=None):\n",
    "    \"\"\"Generate a strictly diagonally dominant (n, n) matrix.\n",
    "    Parameters:\n",
    "    n (int): The dimension of the system.\n",
    "    num_entries (int): The number of nonzero values.\n",
    "    Defaults to n^(3/2)-n.\n",
    "    Returns:\n",
    "    A ((n,n) ndarray): A (n, n) strictly diagonally dominant matrix.\n",
    "    \"\"\"\n",
    "    if num_entries is None:\n",
    "        num_entries = int(n**1.5) - n\n",
    "    A = np.zeros((n,n))\n",
    "    rows = np.random.choice(np.arange(0,n), size=num_entries)\n",
    "    cols = np.random.choice(np.arange(0,n), size=num_entries)\n",
    "    data = np.random.randint(-4, 4, size=num_entries)\n",
    "    for i in range(num_entries):\n",
    "        A[rows[i], cols[i]] = data[i]\n",
    "    for i in range(n):\n",
    "        A[i,i] = np.sum(np.abs(A[i])) + 1\n",
    "    return A\n"
   ]
  },
  {
   "cell_type": "code",
   "execution_count": 39,
   "metadata": {},
   "outputs": [
    {
     "name": "stdout",
     "output_type": "stream",
     "text": [
      "[7. 6. 1. 3. 3. 5. 2. 9. 8. 1.]\n",
      "[0.14285714 0.16666667 1.         0.33333333 0.33333333 0.2\n",
      " 0.5        0.11111111 0.125      1.        ]\n",
      "iteration number 0\n",
      "error is 0.5170297425115593\n",
      "iteration number 1\n",
      "error is 0.3446864950077062\n",
      "iteration number 2\n",
      "error is 0.20681189700462377\n",
      "iteration number 3\n",
      "error is 0.06337907926520159\n",
      "iteration number 4\n",
      "error is 0.04225271951013437\n",
      "iteration number 5\n",
      "error is 0.019252927604935525\n",
      "iteration number 6\n",
      "error is 0.002263538545185781\n",
      "iteration number 7\n",
      "error is 0.0010314068359786877\n",
      "iteration number 8\n",
      "error is 0.0001212609934920783\n",
      "iteration number 9\n",
      "error is 5.52539376417055e-05\n",
      "iteration number 10\n",
      "error is 6.4961246513672855e-06\n",
      "iteration number 11\n",
      "error is 2.9600323736694856e-06\n",
      "iteration number 12\n",
      "error is 3.480066777666879e-07\n",
      "Converged!\n"
     ]
    }
   ],
   "source": [
    "tol = 1e-6\n",
    "maxiter = 1000\n",
    "n = 10\n",
    "b = np.random.random(n)\n",
    "A = diag_dom(n)\n",
    "\n",
    "result = Jacobi(A, b, tol, maxiter)"
   ]
  },
  {
   "cell_type": "code",
   "execution_count": 41,
   "metadata": {},
   "outputs": [
    {
     "data": {
      "text/plain": [
       "True"
      ]
     },
     "execution_count": 41,
     "metadata": {},
     "output_type": "execute_result"
    }
   ],
   "source": [
    "np.allclose(A @ result, b)"
   ]
  },
  {
   "cell_type": "markdown",
   "metadata": {},
   "source": [
    "## Exercise 2"
   ]
  },
  {
   "cell_type": "code",
   "execution_count": 50,
   "metadata": {},
   "outputs": [],
   "source": [
    "from matplotlib import pyplot as plt\n",
    "\n",
    "def Jacobi(A, b, tol, maxiter, plot=False):\n",
    "    epsi = 1\n",
    "    iter =0\n",
    "    x0 = np.zeros_like(b)\n",
    "    x = np.zeros_like(b)\n",
    "    U = np.triu(A, k = 1)\n",
    "    L = np.tril(A, k = -1)\n",
    "    D = np.diagonal(A)\n",
    "    error = []\n",
    "    while (epsi > tol) & (iter < maxiter):\n",
    "        print(\"iteration number\", iter)\n",
    "\n",
    "        x    = x0 + np.reciprocal(D)*(b - A @ x0)\n",
    "#       print(x)\n",
    "        \n",
    "        epsi = np.linalg.norm(x-x0, np.inf)\n",
    "        abserror = np.linalg.norm(A @ x - b, np.inf)\n",
    "        error.append(abserror)\n",
    "        print(\"error is\", epsi)\n",
    "        x0   = x\n",
    "        iter = iter + 1\n",
    "        \n",
    "    print(\"Converged!\")\n",
    "    if plot == True:\n",
    "        plt.semilogy(range(iter), error)\n",
    "        plt.xlabel('Iteration')\n",
    "        plt.ylabel('Absolute Error of Approximation')\n",
    "        plt.title('Convergence of Jacobi Method')\n",
    "        plt.show()\n",
    "        \n",
    "    return x\n"
   ]
  },
  {
   "cell_type": "code",
   "execution_count": 51,
   "metadata": {},
   "outputs": [
    {
     "name": "stdout",
     "output_type": "stream",
     "text": [
      "iteration number 0\n",
      "error is 0.9955261350246333\n",
      "iteration number 1\n",
      "error is 0.6508857325893177\n",
      "iteration number 2\n",
      "error is 0.4339238217262118\n",
      "iteration number 3\n",
      "error is 0.1085810782937236\n",
      "iteration number 4\n",
      "error is 0.04825825701943265\n",
      "iteration number 5\n",
      "error is 0.03217217134628836\n",
      "iteration number 6\n",
      "error is 0.008891927076440653\n",
      "iteration number 7\n",
      "error is 0.003951967589529204\n",
      "iteration number 8\n",
      "error is 0.002634645059686136\n",
      "iteration number 9\n",
      "error is 0.0007117689325655818\n",
      "iteration number 10\n",
      "error is 0.00031634174780692526\n",
      "iteration number 11\n",
      "error is 0.00021089449853795017\n",
      "iteration number 12\n",
      "error is 7.571360533054072e-05\n",
      "iteration number 13\n",
      "error is 2.558369732769128e-05\n",
      "iteration number 14\n",
      "error is 1.5949770581280553e-05\n",
      "iteration number 15\n",
      "error is 7.580354763891961e-06\n",
      "iteration number 16\n",
      "error is 2.3627653524815884e-06\n",
      "iteration number 17\n",
      "error is 1.135919999423196e-06\n",
      "iteration number 18\n",
      "error is 7.000786228505973e-07\n",
      "Converged!\n"
     ]
    },
    {
     "data": {
      "image/png": "[encoded data removed]",
      "text/plain": [
       "<Figure size 432x288 with 1 Axes>"
      ]
     },
     "metadata": {
      "needs_background": "light"
     },
     "output_type": "display_data"
    }
   ],
   "source": [
    "tol = 1e-6\n",
    "maxiter = 1000\n",
    "n = 10\n",
    "b = np.random.random(n)\n",
    "A = diag_dom(n)\n",
    "\n",
    "result = Jacobi(A, b, tol, maxiter, plot=True)"
   ]
  },
  {
   "cell_type": "markdown",
   "metadata": {},
   "source": [
    "## Exercise 3: Gauss-Seidel Method"
   ]
  },
  {
   "cell_type": "code",
   "execution_count": 79,
   "metadata": {},
   "outputs": [],
   "source": [
    "from matplotlib import pyplot as plt\n",
    "\n",
    "def GaussSeidel(A, b, tol, maxiter, plot=False):\n",
    "    epsi = 1\n",
    "    iter =0\n",
    "    x0 = np.zeros_like(b)\n",
    "    x = np.zeros_like(b)\n",
    "    D = np.diagonal(A)\n",
    "    error = []\n",
    "    while (epsi > tol) & (iter < maxiter):\n",
    "        print(\"iteration number\", iter)\n",
    "\n",
    "        for i,item in enumerate(b):\n",
    "            x0 = np.copy(x) # Copy update to get faster convergence\n",
    "            x[i] = x0[i] + D[i]**(-1) * (item - np.dot(A[i,:],x0))\n",
    "\n",
    "\n",
    "#       print(x)\n",
    "        \n",
    "        epsi = np.linalg.norm(x-x0, np.inf)\n",
    "        abserror = np.linalg.norm(A @ x - b, np.inf)\n",
    "        error.append(abserror)\n",
    "        print(\"error is\", epsi)\n",
    "        x0   = x\n",
    "        iter = iter + 1\n",
    "        \n",
    "    print(\"Converged!\")\n",
    "    if plot == True:\n",
    "        plt.semilogy(range(iter), error)\n",
    "        plt.xlabel('Iteration')\n",
    "        plt.ylabel('Absolute Error of Approximation')\n",
    "        plt.title('Convergence of Gauss-Seidel Method')\n",
    "        plt.show()\n",
    "        \n",
    "    return x\n"
   ]
  },
  {
   "cell_type": "code",
   "execution_count": 83,
   "metadata": {},
   "outputs": [
    {
     "name": "stdout",
     "output_type": "stream",
     "text": [
      "iteration number 0\n",
      "error is 0.0026433673462835637\n",
      "iteration number 1\n",
      "error is 9.804576968794072e-05\n",
      "iteration number 2\n",
      "error is 9.708811782014205e-06\n",
      "iteration number 3\n",
      "error is 7.033968281370921e-07\n",
      "Converged!\n"
     ]
    },
    {
     "data": {
      "image/png": "[encoded data removed]",
      "text/plain": [
       "<Figure size 432x288 with 1 Axes>"
      ]
     },
     "metadata": {
      "needs_background": "light"
     },
     "output_type": "display_data"
    }
   ],
   "source": [
    "tol = 1e-6\n",
    "maxiter = 1000\n",
    "n = 10000\n",
    "b = np.random.random(n)\n",
    "A = diag_dom(n)\n",
    "\n",
    "result = GaussSeidel(A, b, tol, maxiter, plot=True)"
   ]
  },
  {
   "cell_type": "markdown",
   "metadata": {},
   "source": [
    "## Problem 4: Solving Sparse Systems"
   ]
  },
  {
   "cell_type": "code",
   "execution_count": 91,
   "metadata": {},
   "outputs": [],
   "source": [
    "from matplotlib import pyplot as plt\n",
    "from scipy import sparse\n",
    "\n",
    "def GaussSeidel_sparse(A, b, tol, maxiter, plot=False):\n",
    "    epsi = 1\n",
    "    iter =0\n",
    "    x0 = np.zeros_like(b)\n",
    "    x = np.zeros_like(b)\n",
    "    D = sparse.csr_matrix.diagonal(A)\n",
    "    error = []\n",
    "    while (epsi > tol) & (iter < maxiter):\n",
    "        print(\"iteration number\", iter)\n",
    "\n",
    "        for i,item in enumerate(b):\n",
    "            # Get the indices of where the i-th row of A starts and ends if the\n",
    "            # nonzero entries of A were flattened.\n",
    "            rowstart = A.indptr[i]\n",
    "            rowend = A.indptr[i+1]\n",
    "            # Multiply only the nonzero elements of the i-th row of A with the\n",
    "            # corresponding elements of x.\n",
    "            Aix = A.data[rowstart:rowend] @ x[A.indices[rowstart:rowend]]\n",
    "            x0 = np.copy(x) # Copy update to get faster convergence\n",
    "            x[i] = x0[i] + D[i]**(-1) * (item - Aix)\n",
    "\n",
    "\n",
    "#       print(x)\n",
    "        \n",
    "        epsi = np.linalg.norm(x-x0, np.inf)\n",
    "        abserror = np.linalg.norm(A @ x - b, np.inf)\n",
    "        error.append(abserror)\n",
    "        print(\"error is\", epsi)\n",
    "        x0   = x\n",
    "        iter = iter + 1\n",
    "        \n",
    "    print(\"Converged!\")\n",
    "    if plot == True:\n",
    "        plt.semilogy(range(iter), error)\n",
    "        plt.xlabel('Iteration')\n",
    "        plt.ylabel('Absolute Error of Approximation')\n",
    "        plt.title('Convergence of Jacobi Method')\n",
    "        plt.show()\n",
    "        \n",
    "    return x\n"
   ]
  },
  {
   "cell_type": "code",
   "execution_count": 95,
   "metadata": {},
   "outputs": [
    {
     "name": "stdout",
     "output_type": "stream",
     "text": [
      "iteration number 0\n",
      "error is 0.0037268337422515525\n",
      "iteration number 1\n",
      "error is 7.049585897745151e-05\n",
      "iteration number 2\n",
      "error is 8.802198545417982e-06\n",
      "iteration number 3\n",
      "error is 8.621718271951788e-07\n",
      "iteration number 4\n",
      "error is 8.251450477015851e-08\n",
      "iteration number 5\n",
      "error is 7.964747701216107e-09\n",
      "iteration number 6\n",
      "error is 7.805145544638459e-10\n",
      "iteration number 7\n",
      "error is 7.541784644710114e-11\n",
      "iteration number 8\n",
      "error is 7.269448498020692e-12\n",
      "iteration number 9\n",
      "error is 7.004800385568277e-13\n",
      "iteration number 10\n",
      "error is 6.751977449370727e-14\n",
      "iteration number 11\n",
      "error is 6.5134529714239164e-15\n",
      "iteration number 12\n",
      "error is 6.2753621743461e-16\n",
      "Converged!\n"
     ]
    },
    {
     "data": {
      "image/png": "[encoded data removed]",
      "text/plain": [
       "<Figure size 432x288 with 1 Axes>"
      ]
     },
     "metadata": {
      "needs_background": "light"
     },
     "output_type": "display_data"
    }
   ],
   "source": [
    "tol = 1e-15\n",
    "maxiter = 1000\n",
    "n = 20000\n",
    "b = np.random.random(n)\n",
    "A = sparse.csr_matrix(diag_dom(n))\n",
    "\n",
    "result = GaussSeidel_sparse(A, b, tol, maxiter, plot=True)"
   ]
  },
  {
   "cell_type": "markdown",
   "metadata": {},
   "source": [
    "## Exercise 5: Successive Over-Relaxation"
   ]
  },
  {
   "cell_type": "code",
   "execution_count": 93,
   "metadata": {},
   "outputs": [],
   "source": [
    "from matplotlib import pyplot as plt\n",
    "from scipy import sparse\n",
    "\n",
    "def SOR(A, b, ω, tol, maxiter, plot=False):\n",
    "    epsi = 1\n",
    "    iter =0\n",
    "    x0 = np.zeros_like(b)\n",
    "    x = np.zeros_like(b)\n",
    "    D = sparse.csr_matrix.diagonal(A)\n",
    "    error = []\n",
    "    while (epsi > tol) & (iter < maxiter):\n",
    "        print(\"iteration number\", iter)\n",
    "\n",
    "        for i,item in enumerate(b):\n",
    "            # Get the indices of where the i-th row of A starts and ends if the\n",
    "            # nonzero entries of A were flattened.\n",
    "            rowstart = A.indptr[i]\n",
    "            rowend = A.indptr[i+1]\n",
    "            # Multiply only the nonzero elements of the i-th row of A with the\n",
    "            # corresponding elements of x.\n",
    "            Aix = A.data[rowstart:rowend] @ x[A.indices[rowstart:rowend]]\n",
    "            x0 = np.copy(x) # Copy update to get faster convergence\n",
    "            x[i] = x0[i] + ω * D[i]**(-1) * (item - Aix)\n",
    "\n",
    "\n",
    "#       print(x)\n",
    "        \n",
    "        epsi = np.linalg.norm(x-x0, np.inf)\n",
    "        abserror = np.linalg.norm(A @ x - b, np.inf)\n",
    "        error.append(abserror)\n",
    "        print(\"error is\", epsi)\n",
    "        x0   = x\n",
    "        iter = iter + 1\n",
    "        \n",
    "    print(\"Converged!\")\n",
    "    if plot == True:\n",
    "        plt.semilogy(range(iter), error)\n",
    "        plt.xlabel('Iteration')\n",
    "        plt.ylabel('Absolute Error of Approximation')\n",
    "        plt.title('Convergence of SOR Method')\n",
    "        plt.show()\n",
    "        \n",
    "    return x\n"
   ]
  },
  {
   "cell_type": "code",
   "execution_count": 96,
   "metadata": {},
   "outputs": [
    {
     "name": "stdout",
     "output_type": "stream",
     "text": [
      "iteration number 0\n",
      "error is 0.004458124995774325\n",
      "iteration number 1\n",
      "error is 0.002958659895793237\n",
      "iteration number 2\n",
      "error is 0.0018000727993078332\n",
      "iteration number 3\n",
      "error is 0.0010369657316016603\n",
      "iteration number 4\n",
      "error is 0.0005766509654048938\n",
      "iteration number 5\n",
      "error is 0.00031378708563838814\n",
      "iteration number 6\n",
      "error is 0.00016882967140863236\n",
      "iteration number 7\n",
      "error is 9.054552457335614e-05\n",
      "iteration number 8\n",
      "error is 4.8694903340071316e-05\n",
      "iteration number 9\n",
      "error is 2.6363243096470205e-05\n",
      "iteration number 10\n",
      "error is 1.4398406246497915e-05\n",
      "iteration number 11\n",
      "error is 7.93842139592757e-06\n",
      "iteration number 12\n",
      "error is 4.418061338135049e-06\n",
      "iteration number 13\n",
      "error is 2.4814454910246364e-06\n",
      "iteration number 14\n",
      "error is 1.4065230156653022e-06\n",
      "iteration number 15\n",
      "error is 8.048387142405022e-07\n",
      "iteration number 16\n",
      "error is 4.652186535590748e-07\n",
      "iteration number 17\n",
      "error is 2.718094644477663e-07\n",
      "iteration number 18\n",
      "error is 1.6057659615485373e-07\n",
      "iteration number 19\n",
      "error is 9.590421353984982e-08\n",
      "iteration number 20\n",
      "error is 5.786184225069907e-08\n",
      "iteration number 21\n",
      "error is 3.5218013801248393e-08\n",
      "iteration number 22\n",
      "error is 2.1587683222187154e-08\n",
      "iteration number 23\n",
      "error is 1.3301279209575884e-08\n",
      "iteration number 24\n",
      "error is 8.222818085289185e-09\n",
      "iteration number 25\n",
      "error is 5.091701969772711e-09\n",
      "iteration number 26\n",
      "error is 3.153650230715288e-09\n",
      "iteration number 27\n",
      "error is 1.951620661085063e-09\n",
      "iteration number 28\n",
      "error is 1.205745706403527e-09\n",
      "iteration number 29\n",
      "error is 7.432754086690585e-10\n",
      "iteration number 30\n",
      "error is 4.5700509912829923e-10\n",
      "iteration number 31\n",
      "error is 2.802083482779383e-10\n",
      "iteration number 32\n",
      "error is 1.7131323096220008e-10\n",
      "iteration number 33\n",
      "error is 1.0443486743796915e-10\n",
      "iteration number 34\n",
      "error is 6.348352616161734e-11\n",
      "iteration number 35\n",
      "error is 3.8482624638985774e-11\n",
      "iteration number 36\n",
      "error is 2.326413887920875e-11\n",
      "iteration number 37\n",
      "error is 1.4026712950865328e-11\n",
      "iteration number 38\n",
      "error is 8.43514234155629e-12\n",
      "iteration number 39\n",
      "error is 5.0594927553104796e-12\n",
      "iteration number 40\n",
      "error is 3.026892972379791e-12\n",
      "iteration number 41\n",
      "error is 1.8061155869497636e-12\n",
      "iteration number 42\n",
      "error is 1.0747765524787845e-12\n",
      "iteration number 43\n",
      "error is 6.377684838576592e-13\n",
      "iteration number 44\n",
      "error is 3.773188358979773e-13\n",
      "iteration number 45\n",
      "error is 2.2251471498702102e-13\n",
      "iteration number 46\n",
      "error is 1.3076735874695267e-13\n",
      "iteration number 47\n",
      "error is 7.655725012267744e-14\n",
      "iteration number 48\n",
      "error is 4.463139927080029e-14\n",
      "iteration number 49\n",
      "error is 2.589638573025077e-14\n",
      "iteration number 50\n",
      "error is 1.4945943788147176e-14\n",
      "iteration number 51\n",
      "error is 8.574738141753357e-15\n",
      "iteration number 52\n",
      "error is 4.885414989219683e-15\n",
      "iteration number 53\n",
      "error is 2.7603787311480943e-15\n",
      "iteration number 54\n",
      "error is 1.5447712553573467e-15\n",
      "iteration number 55\n",
      "error is 8.547849927875717e-16\n",
      "Converged!\n"
     ]
    },
    {
     "data": {
      "image/png": "[encoded data removed]",
      "text/plain": [
       "<Figure size 432x288 with 1 Axes>"
      ]
     },
     "metadata": {
      "needs_background": "light"
     },
     "output_type": "display_data"
    }
   ],
   "source": [
    "tol = 1e-15\n",
    "maxiter = 1000\n",
    "n = 20000\n",
    "b = np.random.random(n)\n",
    "A = sparse.csr_matrix(diag_dom(n))\n",
    "ω = 1.5\n",
    "result = SOR(A, b, ω, tol, maxiter, plot=True)"
   ]
  },
  {
   "cell_type": "markdown",
   "metadata": {},
   "source": [
    "## Exercise 6: Finite Difference Method"
   ]
  },
  {
   "cell_type": "code",
   "execution_count": 268,
   "metadata": {},
   "outputs": [],
   "source": [
    "from matplotlib import pyplot as plt\n",
    "from scipy import sparse\n",
    "from scipy import linalg\n",
    "\n",
    "def FDM(A, b, ω, tol=1e-8, maxiter=100, plot=False):\n",
    "    epsi = 1\n",
    "    iter =0\n",
    "    x0 = np.zeros_like(b)\n",
    "    x = np.zeros_like(b)\n",
    "    D = sparse.csr_matrix.diagonal(A)\n",
    "    error = []\n",
    "    while (epsi > tol) & (iter < maxiter):\n",
    "        print(\"iteration number\", iter)\n",
    "\n",
    "        for i,item in enumerate(b):\n",
    "            # Get the indices of where the i-th row of A starts and ends if the\n",
    "            # nonzero entries of A were flattened.\n",
    "            rowstart = A.indptr[i]\n",
    "            rowend = A.indptr[i+1]\n",
    "            # Multiply only the nonzero elements of the i-th row of A with the\n",
    "            # corresponding elements of x.\n",
    "            Aix = A.data[rowstart:rowend] @ x[A.indices[rowstart:rowend]]\n",
    "            x0 = np.copy(x) # Copy update to get faster convergence\n",
    "            x[i] = x0[i] + ω * D[i]**(-1) * (item - Aix)\n",
    "\n",
    "\n",
    "#       print(x)\n",
    "        \n",
    "        epsi = np.linalg.norm(x-x0, np.inf)\n",
    "        abserror = np.linalg.norm(A @ x - b, np.inf)\n",
    "        error.append(abserror)\n",
    "        print(\"error is\", epsi)\n",
    "        x0   = x\n",
    "        iter = iter + 1\n",
    "        \n",
    "    print(\"Converged!\")\n",
    "    if plot == True:\n",
    "        plt.semilogy(range(iter), error)\n",
    "        plt.xlabel('Iteration')\n",
    "        plt.ylabel('Absolute Error of Approximation')\n",
    "        plt.title('Convergence of SOR Method')\n",
    "        plt.show()\n",
    "        \n",
    "        U = x.reshape(n,n)\n",
    "        plt.pcolormesh(U, cmap='coolwarm')\n",
    "        plt.colorbar()\n",
    "        \n",
    "    return x\n"
   ]
  },
  {
   "cell_type": "code",
   "execution_count": 271,
   "metadata": {},
   "outputs": [
    {
     "name": "stdout",
     "output_type": "stream",
     "text": [
      "Size D 49\n",
      "Size b (49,)\n",
      "iteration number 0\n",
      "error is 27.28326772607081\n",
      "iteration number 1\n",
      "error is 13.764075594253836\n",
      "iteration number 2\n",
      "error is 5.476915820292739\n",
      "iteration number 3\n",
      "error is 1.6349218355700934\n",
      "iteration number 4\n",
      "error is 0.30476097218220843\n",
      "iteration number 5\n",
      "error is 0.0014358434938337439\n",
      "iteration number 6\n",
      "error is 0.022274555489669723\n",
      "iteration number 7\n",
      "error is 0.00630444133363639\n",
      "iteration number 8\n",
      "error is 0.0001493603289581813\n",
      "iteration number 9\n",
      "error is 0.0005569398700089323\n",
      "iteration number 10\n",
      "error is 0.00010287727426572246\n",
      "iteration number 11\n",
      "error is 1.569096513165391e-05\n",
      "iteration number 12\n",
      "error is 1.066685120676425e-05\n",
      "iteration number 13\n",
      "error is 2.0755416112905323e-05\n",
      "iteration number 14\n",
      "error is 1.0100611302021889e-05\n",
      "iteration number 15\n",
      "error is 1.2727185207950242e-06\n",
      "iteration number 16\n",
      "error is 1.0908737024806214e-06\n",
      "iteration number 17\n",
      "error is 8.426060169597349e-07\n",
      "iteration number 18\n",
      "error is 5.019374675896415e-07\n",
      "iteration number 19\n",
      "error is 3.773008252494492e-07\n",
      "iteration number 20\n",
      "error is 2.2970072777184214e-07\n",
      "iteration number 21\n",
      "error is 1.4107936152640832e-08\n",
      "iteration number 22\n",
      "error is 1.7932562812461583e-07\n",
      "iteration number 23\n",
      "error is 2.853307421446516e-07\n",
      "iteration number 24\n",
      "error is 3.01984684369927e-07\n",
      "iteration number 25\n",
      "error is 2.609425777677643e-07\n",
      "iteration number 26\n",
      "error is 1.9639642800939328e-07\n",
      "iteration number 27\n",
      "error is 1.3184211056227468e-07\n",
      "iteration number 28\n",
      "error is 7.918041688981248e-08\n",
      "iteration number 29\n",
      "error is 4.2038205805283724e-08\n",
      "iteration number 30\n",
      "error is 1.918766301400865e-08\n",
      "iteration number 31\n",
      "error is 7.115108502375733e-09\n",
      "Converged!\n"
     ]
    },
    {
     "data": {
      "image/png": "[encoded data removed]",
      "text/plain": [
       "<Figure size 432x288 with 1 Axes>"
      ]
     },
     "metadata": {
      "needs_background": "light"
     },
     "output_type": "display_data"
    },
    {
     "data": {
      "image/png": "[encoded data removed]",
      "text/plain": [
       "<Figure size 432x288 with 2 Axes>"
      ]
     },
     "metadata": {
      "needs_background": "light"
     },
     "output_type": "display_data"
    }
   ],
   "source": [
    "n = 7\n",
    "#Construct b\n",
    "b = np.zeros(n)\n",
    "b[0] = -100\n",
    "b[len(b)-1] = -100\n",
    "b = np.tile(b, n)\n",
    "\n",
    "#Construct B\n",
    "offsets = [-1,0,1]\n",
    "B = sparse.diags([1,-n,1], offsets, shape=(n,n))\n",
    "\n",
    "#Construct the Is\n",
    "offsets = [-n,n]\n",
    "I = sparse.diags([1,1], offsets, shape=(n**2,n**2))\n",
    "\n",
    "#Construct A\n",
    "A = sparse.block_diag([B]*n) + I\n",
    "\n",
    "\n",
    "\n",
    "ω = 1.5\n",
    "result = FDM(A, b, ω, plot=True)"
   ]
  },
  {
   "cell_type": "markdown",
   "metadata": {},
   "source": [
    "## Exercise 7"
   ]
  },
  {
   "cell_type": "code",
   "execution_count": 273,
   "metadata": {},
   "outputs": [],
   "source": [
    "from matplotlib import pyplot as plt\n",
    "from scipy import sparse\n",
    "from scipy import linalg\n",
    "\n",
    "def FDM(A, b, ω, tol=1e-8, maxiter=100, plot=False):\n",
    "    epsi = 1\n",
    "    iter =0\n",
    "    x0 = np.zeros_like(b)\n",
    "    x = np.zeros_like(b)\n",
    "    D = sparse.csr_matrix.diagonal(A)\n",
    "    error = []\n",
    "    while (epsi > tol) & (iter < maxiter):\n",
    "#         print(\"iteration number\", iter)\n",
    "\n",
    "        for i,item in enumerate(b):\n",
    "            # Get the indices of where the i-th row of A starts and ends if the\n",
    "            # nonzero entries of A were flattened.\n",
    "            rowstart = A.indptr[i]\n",
    "            rowend = A.indptr[i+1]\n",
    "            # Multiply only the nonzero elements of the i-th row of A with the\n",
    "            # corresponding elements of x.\n",
    "            Aix = A.data[rowstart:rowend] @ x[A.indices[rowstart:rowend]]\n",
    "            x0 = np.copy(x) # Copy update to get faster convergence\n",
    "            x[i] = x0[i] + ω * D[i]**(-1) * (item - Aix)\n",
    "\n",
    "\n",
    "#       print(x)\n",
    "        \n",
    "        epsi = np.linalg.norm(x-x0, np.inf)\n",
    "        abserror = np.linalg.norm(A @ x - b, np.inf)\n",
    "        error.append(abserror)\n",
    "#         print(\"error is\", epsi)\n",
    "        x0   = x\n",
    "        iter = iter + 1\n",
    "        \n",
    "    print(\"Converged!\")\n",
    "    if plot == True:\n",
    "        plt.semilogy(range(iter), error)\n",
    "        plt.xlabel('Iteration')\n",
    "        plt.ylabel('Absolute Error of Approximation')\n",
    "        plt.title('Convergence of SOR Method')\n",
    "        plt.show()\n",
    "        \n",
    "        U = x.reshape(n,n)\n",
    "        plt.pcolormesh(U, cmap='coolwarm')\n",
    "        plt.colorbar()\n",
    "        \n",
    "    return iter\n"
   ]
  },
  {
   "cell_type": "code",
   "execution_count": 278,
   "metadata": {},
   "outputs": [
    {
     "name": "stdout",
     "output_type": "stream",
     "text": [
      "Converged!\n",
      "Converged!\n",
      "Converged!\n",
      "Converged!\n",
      "Converged!\n",
      "Converged!\n",
      "Converged!\n",
      "Converged!\n",
      "Converged!\n",
      "Converged!\n",
      "Converged!\n",
      "Converged!\n",
      "Converged!\n",
      "Converged!\n",
      "Converged!\n",
      "Converged!\n",
      "Converged!\n",
      "Converged!\n",
      "Converged!\n",
      "Converged!\n"
     ]
    },
    {
     "data": {
      "image/png": "[encoded data removed]",
      "text/plain": [
       "<Figure size 432x288 with 1 Axes>"
      ]
     },
     "metadata": {
      "needs_background": "light"
     },
     "output_type": "display_data"
    }
   ],
   "source": [
    "n = 20\n",
    "#Construct b\n",
    "b = np.zeros(n)\n",
    "b[0] = -100\n",
    "b[len(b)-1] = -100\n",
    "b = np.tile(b, n)\n",
    "\n",
    "#Construct B\n",
    "offsets = [-1,0,1]\n",
    "B = sparse.diags([1,-n,1], offsets, shape=(n,n))\n",
    "\n",
    "#Construct the Is\n",
    "offsets = [-n,n]\n",
    "I = sparse.diags([1,1], offsets, shape=(n**2,n**2))\n",
    "\n",
    "#Construct A\n",
    "A = sparse.block_diag([B]*n) + I\n",
    "\n",
    "ω = np.arange(1,2,0.05)\n",
    "iter = []\n",
    "for i, item in enumerate(ω):\n",
    "    omega = item\n",
    "    iter.append(FDM(A, b, omega, plot=False))\n",
    "    \n",
    "plt.plot(ω, iter)\n",
    "plt.show()\n",
    "    \n",
    "    "
   ]
  },
  {
   "cell_type": "code",
   "execution_count": null,
   "metadata": {},
   "outputs": [],
   "source": []
  }
 ],
 "metadata": {
  "kernelspec": {
   "display_name": "Python 3",
   "language": "python",
   "name": "python3"
  },
  "language_info": {
   "codemirror_mode": {
    "name": "ipython",
    "version": 3
   },
   "file_extension": ".py",
   "mimetype": "text/x-python",
   "name": "python",
   "nbconvert_exporter": "python",
   "pygments_lexer": "ipython3",
   "version": "3.7.3"
  }
 },
 "nbformat": 4,
 "nbformat_minor": 2
}
