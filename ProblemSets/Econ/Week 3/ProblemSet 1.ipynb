{
 "cells": [
  {
   "cell_type": "markdown",
   "metadata": {},
   "source": [
    "## Problem Set 1:  DSGE models\n",
    "#### Thomas Pellet"
   ]
  },
  {
   "cell_type": "markdown",
   "metadata": {},
   "source": [
    "### Exercise 5"
   ]
  },
  {
   "cell_type": "code",
   "execution_count": 20,
   "metadata": {},
   "outputs": [
    {
     "name": "stdout",
     "output_type": "stream",
     "text": [
      "0.1214822771213749\n",
      "7.287497950683171 1.4845048188489616 1.327952768350645 0.07422524094244808 0.12148227712137485\n",
      "\n"
     ]
    }
   ],
   "source": [
    "import numpy as np\n",
    "from scipy import optimize\n",
    "\n",
    "\n",
    "def system(X,*params):\n",
    "    K,C,W,T,R = X\n",
    "    α,β,γ,τ,δ,Z = params\n",
    "    return [C - (1-τ)*(W + (R - δ)*K) - T, \\\n",
    "    1 - β*((R-δ)*(1-τ)+1), \\\n",
    "    R - α*K**(α-1)*np.exp(Z*(1-α)), \\\n",
    "    W - (1-α)*K**α*np.exp(Z*(1-α)),\\\n",
    "    T - τ*(W + (R-δ)*K)]\n",
    "\n",
    "params = 0.4,0.98,2.5,0.05,0.10,0.0\n",
    "α,β,γ,τ,δ,Z = params\n",
    "print((1-β)/(β*(1-τ)) + δ)\n",
    "\n",
    "def solution(params):\n",
    "    X0 = [1,1,1,1,1]                     \n",
    "    solve = optimize.root(system,X0,method='hybr',args=(params))\n",
    "    K,C,W,T,R = solve.x\n",
    "    print(K,C,W,T,R)\n",
    "   \n",
    "solution(params)"
   ]
  },
  {
   "cell_type": "markdown",
   "metadata": {},
   "source": [
    "### Exercise 6"
   ]
  },
  {
   "cell_type": "code",
   "execution_count": 77,
   "metadata": {},
   "outputs": [
    {
     "name": "stdout",
     "output_type": "stream",
     "text": [
      "0.1214822771213749\n",
      "1.414213562373095\n",
      "1.414213562373095\n",
      "1.414213562373095\n",
      "1.414213562373095\n",
      "1.414213562373095\n",
      "1.414213562373095\n",
      "1.414213562373095\n",
      "1.4142135939832319\n",
      "1.414213562373095\n",
      "1.867752605524463\n",
      "3.4327726341431832\n",
      "2.391505573248095\n",
      "2.849254960241912\n",
      "2.58640628400199\n",
      "2.7606378868784134\n",
      "2.849254960241912\n",
      "2.849254960241912\n",
      "2.849254960241912\n",
      "2.849254960241912\n",
      "2.8492550997373236\n",
      "2.849254960241912\n",
      "2.80755798031196\n",
      "2.6190331629672445\n",
      "2.405486122884535\n",
      "2.418199891587596\n",
      "2.3457240205329732\n",
      "2.3625754615859607\n",
      "2.361159545852322\n",
      "2.361083196387922\n",
      "2.3611230252527644\n",
      "2.361154449024104\n",
      "2.361151323218047\n",
      "2.3611513041937666\n",
      "4.698435241174018 0.65292438131447 0.8561649177115536 0.12148227712137491 0.6447254284958768 0.0326462190657235\n"
     ]
    }
   ],
   "source": [
    "import numpy as np\n",
    "from scipy import optimize\n",
    "\n",
    "\n",
    "def system(X,*params):\n",
    "    K,C,W,R,L,T = X\n",
    "    α,β,γ,τ,δ,Z,a,ξ = params\n",
    "    print(a/(1-L)**(ξ))\n",
    "    return [C - (1-τ)*(W*L + (R - δ)*K) - T, \\\n",
    "    1 - β*((R-δ)*(1-τ)+1), \\\n",
    "    a*(1-L)**(-ξ) - W*(1-τ)*C**(-γ), \\\n",
    "    R - α*K**(α-1)*np.exp(Z*(1-α))*L**(1-α), \\\n",
    "    W - (1-α)*K**α*np.exp(Z*(1-α))*L**(1-α), \\\n",
    "    T - τ*(W*L + (R-δ)*K)]\n",
    "\n",
    "params = 0.4,0.98,2.5,0.05,0.10,0.0,0.5,1.5\n",
    "α,β,γ,τ,δ,Z,a,ξ = params\n",
    "print((1-β)/(β*(1-τ)) + δ)\n",
    "\n",
    "def solution(params):\n",
    "    X0 = [0.5,0.5,0.5,0.5,0.5,0.5]                     \n",
    "    solve = optimize.root(system,X0,method='hybr',args=(params))\n",
    "    K,C,W,R,L,T = solve.x\n",
    "    print(K,C,W,R,L,T)\n",
    "solution(params)\n"
   ]
  },
  {
   "cell_type": "markdown",
   "metadata": {},
   "source": [
    "### Exercise 7"
   ]
  },
  {
   "cell_type": "code",
   "execution_count": 86,
   "metadata": {},
   "outputs": [
    {
     "name": "stdout",
     "output_type": "stream",
     "text": [
      "4.698435241174018 0.65292438131447 0.8561649177115536 0.12148227712137491 0.6447254284958768 0.0326462190657235\n",
      "<function unary_to_nary.<locals>.nary_operator.<locals>.nary_f at 0x000001AA40C5B048>\n",
      "<function unary_to_nary.<locals>.nary_operator.<locals>.nary_f at 0x000001AA40C5B510>\n",
      "<function unary_to_nary.<locals>.nary_operator.<locals>.nary_f at 0x000001AA40C1AB70>\n",
      "<function unary_to_nary.<locals>.nary_operator.<locals>.nary_f at 0x000001AA40C37BF8>\n",
      "<function unary_to_nary.<locals>.nary_operator.<locals>.nary_f at 0x000001AA40C5B048>\n",
      "<function unary_to_nary.<locals>.nary_operator.<locals>.nary_f at 0x000001AA40C5B400>\n",
      "<function unary_to_nary.<locals>.nary_operator.<locals>.nary_f at 0x000001AA40C5B1E0>\n",
      "<function unary_to_nary.<locals>.nary_operator.<locals>.nary_f at 0x000001AA40C5B2F0>\n",
      "<function unary_to_nary.<locals>.nary_operator.<locals>.nary_f at 0x000001AA40C5B598>\n",
      "<function unary_to_nary.<locals>.nary_operator.<locals>.nary_f at 0x000001AA40C5B6A8>\n",
      "<function unary_to_nary.<locals>.nary_operator.<locals>.nary_f at 0x000001AA40C5B7B8>\n",
      "<function unary_to_nary.<locals>.nary_operator.<locals>.nary_f at 0x000001AA40C5B8C8>\n",
      "<function unary_to_nary.<locals>.nary_operator.<locals>.nary_f at 0x000001AA40C5B9D8>\n",
      "<function unary_to_nary.<locals>.nary_operator.<locals>.nary_f at 0x000001AA40C5BAE8>\n",
      "<function unary_to_nary.<locals>.nary_operator.<locals>.nary_f at 0x000001AA40C5BBF8>\n",
      "<function unary_to_nary.<locals>.nary_operator.<locals>.nary_f at 0x000001AA40C5BD08>\n",
      "<function unary_to_nary.<locals>.nary_operator.<locals>.nary_f at 0x000001AA40C5BE18>\n",
      "<function unary_to_nary.<locals>.nary_operator.<locals>.nary_f at 0x000001AA40C5BF28>\n",
      "<function unary_to_nary.<locals>.nary_operator.<locals>.nary_f at 0x000001AA40C9E0D0>\n",
      "<function unary_to_nary.<locals>.nary_operator.<locals>.nary_f at 0x000001AA40C9E1E0>\n",
      "<function unary_to_nary.<locals>.nary_operator.<locals>.nary_f at 0x000001AA40C9E2F0>\n",
      "<function unary_to_nary.<locals>.nary_operator.<locals>.nary_f at 0x000001AA40C9E400>\n",
      "<function unary_to_nary.<locals>.nary_operator.<locals>.nary_f at 0x000001AA40C9E510>\n",
      "<function unary_to_nary.<locals>.nary_operator.<locals>.nary_f at 0x000001AA40C9E620>\n",
      "<function unary_to_nary.<locals>.nary_operator.<locals>.nary_f at 0x000001AA40C9E730>\n",
      "<function unary_to_nary.<locals>.nary_operator.<locals>.nary_f at 0x000001AA40C9E840>\n",
      "<function unary_to_nary.<locals>.nary_operator.<locals>.nary_f at 0x000001AA40C9E950>\n",
      "<function unary_to_nary.<locals>.nary_operator.<locals>.nary_f at 0x000001AA40C9EA60>\n",
      "<function unary_to_nary.<locals>.nary_operator.<locals>.nary_f at 0x000001AA40C9EB70>\n",
      "<function unary_to_nary.<locals>.nary_operator.<locals>.nary_f at 0x000001AA40C9EC80>\n",
      "<function unary_to_nary.<locals>.nary_operator.<locals>.nary_f at 0x000001AA40C9ED90>\n",
      "<function unary_to_nary.<locals>.nary_operator.<locals>.nary_f at 0x000001AA40C9EEA0>\n",
      "<function unary_to_nary.<locals>.nary_operator.<locals>.nary_f at 0x000001AA40CA2048>\n",
      "<function unary_to_nary.<locals>.nary_operator.<locals>.nary_f at 0x000001AA40CA2158>\n",
      "<function unary_to_nary.<locals>.nary_operator.<locals>.nary_f at 0x000001AA40CA2268>\n",
      "<function unary_to_nary.<locals>.nary_operator.<locals>.nary_f at 0x000001AA40CA2378>\n",
      "<function unary_to_nary.<locals>.nary_operator.<locals>.nary_f at 0x000001AA40CA2488>\n",
      "<function unary_to_nary.<locals>.nary_operator.<locals>.nary_f at 0x000001AA40CA2598>\n",
      "<function unary_to_nary.<locals>.nary_operator.<locals>.nary_f at 0x000001AA40CA26A8>\n",
      "<function unary_to_nary.<locals>.nary_operator.<locals>.nary_f at 0x000001AA40CA27B8>\n",
      "<function unary_to_nary.<locals>.nary_operator.<locals>.nary_f at 0x000001AA40CA28C8>\n",
      "<function unary_to_nary.<locals>.nary_operator.<locals>.nary_f at 0x000001AA40CA29D8>\n",
      "<function unary_to_nary.<locals>.nary_operator.<locals>.nary_f at 0x000001AA40CA2AE8>\n",
      "<function unary_to_nary.<locals>.nary_operator.<locals>.nary_f at 0x000001AA40CA2BF8>\n",
      "<function unary_to_nary.<locals>.nary_operator.<locals>.nary_f at 0x000001AA40CA2D08>\n",
      "<function unary_to_nary.<locals>.nary_operator.<locals>.nary_f at 0x000001AA40CA2E18>\n",
      "<function unary_to_nary.<locals>.nary_operator.<locals>.nary_f at 0x000001AA40CA2F28>\n",
      "<function unary_to_nary.<locals>.nary_operator.<locals>.nary_f at 0x000001AA40CA10D0>\n",
      "<function unary_to_nary.<locals>.nary_operator.<locals>.nary_f at 0x000001AA40CA11E0>\n",
      "<function unary_to_nary.<locals>.nary_operator.<locals>.nary_f at 0x000001AA40CA12F0>\n",
      "<function unary_to_nary.<locals>.nary_operator.<locals>.nary_f at 0x000001AA40CA1400>\n",
      "<function unary_to_nary.<locals>.nary_operator.<locals>.nary_f at 0x000001AA40CA1510>\n",
      "<function unary_to_nary.<locals>.nary_operator.<locals>.nary_f at 0x000001AA40CA1620>\n",
      "<function unary_to_nary.<locals>.nary_operator.<locals>.nary_f at 0x000001AA40CA1730>\n",
      "<function unary_to_nary.<locals>.nary_operator.<locals>.nary_f at 0x000001AA40CA1840>\n",
      "<function unary_to_nary.<locals>.nary_operator.<locals>.nary_f at 0x000001AA40C5BE18>\n"
     ]
    }
   ],
   "source": [
    "from scipy import optimize\n",
    "from autograd import grad\n",
    "import numpy as np\n",
    "from autograd import numpy as anp\n",
    "\n",
    "params = 0.4,0.98,2.5,0.10,1.5,0.05,0.5,0.0\n",
    "α,β,γ,δ,ξ,τ,a,Z = params\n",
    "\n",
    "# Production function\n",
    "def F(K,L,Z):\n",
    "    return np.power(K,α)*np.exp(Z*(1-α))*np.power(L,1-α)\n",
    "\n",
    "Fk = grad(F,0)\n",
    "Fl = grad(F,1)\n",
    "Fz = grad(F,2)\n",
    "\n",
    "# Utility function\n",
    "def U(C,L):\n",
    "    return np.divide(np.power(C,1-γ)-1,1-γ) + a*np.divide(np.power(1-L,1-ξ) - 1,1-ξ)\n",
    "\n",
    "Uc = grad(U,0)\n",
    "Ul = grad(U,1)\n",
    "\n",
    "def system(X,*params):\n",
    "    K,C,W,R,L,T = X\n",
    "    α,β,γ,δ,ξ,τ,a,Z = params\n",
    "    return [C - (1-τ)*(W*L + (R - δ)*K) - T, \\\n",
    "    1 - β*((R-δ)*(1-τ)+1), \\\n",
    "    a*(1-L)**(-ξ) - W*(1-τ)*C**(-γ), \\\n",
    "    R - α*K**(α-1)*np.exp(Z*(1-α))*L**(1-α), \\\n",
    "    W - (1-α)*K**α*np.exp(Z*(1-α))*L**(1-α), \\\n",
    "    T - τ*(W*L + (R-δ)*K)]\n",
    "\n",
    "def solution(params):\n",
    "    X0 = [0.5,0.5,0.5,0.5,0.5,0.5]                     \n",
    "    solve = optimize.root(system,X0,method='hybr',args=(params))\n",
    "    K,C,W,R,L,T = solve.x\n",
    "    print(K,C,W,R,L,T)\n",
    "    return K,C,W,R,L,T\n",
    "\n",
    "K,C,W,R,L,T = solution(params)\n",
    "variables = K,C,W,R,L,T\n",
    "# Give k,l,y,w,r,T,c\n",
    "def comparative(params):\n",
    "    α,β,γ,δ,ξ,τ,a,Z = params\n",
    "    K,C,W,R,L,T = variables\n",
    "    return [np.power(R/α*np.exp((1-α)*Z)*np.power(L,α-1),np.divide(1,α-1)),\\\n",
    "            1 - np.power(np.divide(np.power(C,γ),W*(1-τ)),np.divide(1,ξ)),\\\n",
    "            np.power(K,α)*np.exp(Z*(1-α))*np.power(L,1-α),\\\n",
    "            (1-α)*K**α*np.exp(Z*(1-α))*L**(1-α),\\\n",
    "            np.divide(1 - β,β*(1-τ)) + δ, \\\n",
    "            τ*(W*L + (R-δ)*K),\\\n",
    "            (1-τ)*(W*L + (R - δ)*K) + T]\n",
    "Jacobian = []\n",
    "for y in range(7):\n",
    "    for x in range(len(params)):\n",
    "        d = grad(comparative,x)\n",
    "        Jacobian[y,x] = d(params)\n",
    "        print(grad(comparative,x))\n",
    "    \n",
    "\n",
    "\n"
   ]
  },
  {
   "cell_type": "code",
   "execution_count": 84,
   "metadata": {},
   "outputs": [
    {
     "data": {
      "text/plain": [
       "8"
      ]
     },
     "execution_count": 84,
     "metadata": {},
     "output_type": "execute_result"
    }
   ],
   "source": [
    "len(params)"
   ]
  },
  {
   "cell_type": "code",
   "execution_count": null,
   "metadata": {},
   "outputs": [],
   "source": []
  }
 ],
 "metadata": {
  "kernelspec": {
   "display_name": "Python 3",
   "language": "python",
   "name": "python3"
  },
  "language_info": {
   "codemirror_mode": {
    "name": "ipython",
    "version": 3
   },
   "file_extension": ".py",
   "mimetype": "text/x-python",
   "name": "python",
   "nbconvert_exporter": "python",
   "pygments_lexer": "ipython3",
   "version": "3.7.3"
  }
 },
 "nbformat": 4,
 "nbformat_minor": 2
}
