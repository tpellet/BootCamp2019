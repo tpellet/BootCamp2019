{
 "cells": [
  {
   "cell_type": "markdown",
   "metadata": {},
   "source": [
    "## Problem Set 1:  DSGE models\n",
    "#### Thomas Pellet"
   ]
  },
  {
   "cell_type": "markdown",
   "metadata": {},
   "source": [
    "### Exercise 5"
   ]
  },
  {
   "cell_type": "code",
   "execution_count": 20,
   "metadata": {},
   "outputs": [
    {
     "name": "stdout",
     "output_type": "stream",
     "text": [
      "0.1214822771213749\n",
      "7.287497950683171 1.4845048188489616 1.327952768350645 0.07422524094244808 0.12148227712137485\n",
      "\n"
     ]
    }
   ],
   "source": [
    "import numpy as np\n",
    "from scipy import optimize\n",
    "\n",
    "\n",
    "def system(X,*params):\n",
    "    K,C,W,T,R = X\n",
    "    α,β,γ,τ,δ,Z = params\n",
    "    return [C - (1-τ)*(W + (R - δ)*K) - T, \\\n",
    "    1 - β*((R-δ)*(1-τ)+1), \\\n",
    "    R - α*K**(α-1)*np.exp(Z*(1-α)), \\\n",
    "    W - (1-α)*K**α*np.exp(Z*(1-α)),\\\n",
    "    T - τ*(W + (R-δ)*K)]\n",
    "\n",
    "params = 0.4,0.98,2.5,0.05,0.10,0.0\n",
    "α,β,γ,τ,δ,Z = params\n",
    "print((1-β)/(β*(1-τ)) + δ)\n",
    "\n",
    "def solution(params):\n",
    "    X0 = [1,1,1,1,1]                     \n",
    "    solve = optimize.root(system,X0,method='hybr',args=(params))\n",
    "    K,C,W,T,R = solve.x\n",
    "    print(K,C,W,T,R)\n",
    "   \n",
    "solution(params)"
   ]
  },
  {
   "cell_type": "markdown",
   "metadata": {},
   "source": [
    "### Exercise 2"
   ]
  },
  {
   "cell_type": "code",
   "execution_count": 36,
   "metadata": {},
   "outputs": [
    {
     "name": "stdout",
     "output_type": "stream",
     "text": [
      "0.1214822771213749\n",
      "1.414213562373095\n",
      "1.414213562373095\n",
      "1.414213562373095\n",
      "1.414213562373095\n",
      "1.414213562373095\n",
      "1.414213562373095\n",
      "1.414213562373095\n",
      "1.4142135939832319\n",
      "1.414213562373095\n",
      "nan\n",
      "nan\n",
      "1.414213562373095\n",
      "1.414213562373095\n",
      "1.414213562373095\n",
      "1.414213562373095\n",
      "1.4142135939832319\n",
      "1.414213562373095\n",
      "nan\n",
      "nan\n",
      "nan\n",
      "nan\n",
      "nan\n",
      "nan\n",
      "nan\n",
      "nan\n",
      "0.5 0.5 0.5 0.5 0.5 0.5\n"
     ]
    },
    {
     "name": "stderr",
     "output_type": "stream",
     "text": [
      "C:\\ProgramData\\Anaconda3\\lib\\site-packages\\ipykernel_launcher.py:8: RuntimeWarning: invalid value encountered in double_scalars\n",
      "  \n",
      "C:\\ProgramData\\Anaconda3\\lib\\site-packages\\ipykernel_launcher.py:11: RuntimeWarning: invalid value encountered in double_scalars\n",
      "  # This is added back by InteractiveShellApp.init_path()\n"
     ]
    }
   ],
   "source": [
    "import numpy as np\n",
    "from scipy import optimize\n",
    "\n",
    "\n",
    "def system(X,*params):\n",
    "    K,C,W,R,L,T = X\n",
    "    α,β,γ,τ,δ,Z,a,ξ = params\n",
    "    print(a/(1-L)**(ξ))\n",
    "    return [C - (1-τ)*(W + (R - δ)*K) - T, \\\n",
    "    1 - β*((R-δ)*(1-τ)+1), \\\n",
    "    a*(1-L)**(-ξ) - W*(1-τ)*C**(-γ), \\\n",
    "    R - α*K**(α-1)*np.exp(Z*(1-α))*L**(1-α), \\\n",
    "    W - (1-α)*K**α*np.exp(Z*(1-α))*L**(1-α), \\\n",
    "    T - τ*(W + (R-δ)*K)]\n",
    "\n",
    "params = 0.4,0.98,2.5,0.05,0.10,0.0,0.5,1.5\n",
    "α,β,γ,τ,δ,Z,a,ξ = params\n",
    "print((1-β)/(β*(1-τ)) + δ)\n",
    "\n",
    "def solution(params):\n",
    "    X0 = [0.5,0.5,0.5,0.5,0.5,0.5]                     \n",
    "    solve = optimize.root(system,X0,method='hybr',args=(params))\n",
    "    K,C,W,R,L,T = solve.x\n",
    "    print(K,C,W,R,L,T)\n",
    "   \n",
    "solution(params)\n"
   ]
  }
 ],
 "metadata": {
  "kernelspec": {
   "display_name": "Python 3",
   "language": "python",
   "name": "python3"
  },
  "language_info": {
   "codemirror_mode": {
    "name": "ipython",
    "version": 3
   },
   "file_extension": ".py",
   "mimetype": "text/x-python",
   "name": "python",
   "nbconvert_exporter": "python",
   "pygments_lexer": "ipython3",
   "version": "3.7.3"
  }
 },
 "nbformat": 4,
 "nbformat_minor": 2
}
