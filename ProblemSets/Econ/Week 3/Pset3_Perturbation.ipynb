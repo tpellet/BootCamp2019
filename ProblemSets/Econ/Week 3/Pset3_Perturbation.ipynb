{
 "cells": [
  {
   "cell_type": "markdown",
   "metadata": {},
   "source": [
    "# DSGE: Perturbation Methods"
   ]
  },
  {
   "cell_type": "markdown",
   "metadata": {},
   "source": [
    "## Exercise 2"
   ]
  },
  {
   "cell_type": "code",
   "execution_count": 5,
   "metadata": {},
   "outputs": [
    {
     "name": "stdout",
     "output_type": "stream",
     "text": [
      "w0:  [0.62736178]\n",
      "check:  [0.]\n",
      "[0.04154998] [-0.00557955] [-0.00148512]\n",
      "[-39.01934826] [1.62125302] [251.16231558] [-7.83775508] [0.] [-2019.75664471] [50.4376543] [-5.55111512e-10] [2.22044605e-09]\n"
     ]
    },
    {
     "data": {
      "image/png": "[encoded data removed]",
      "text/plain": [
       "<Figure size 432x288 with 1 Axes>"
      ]
     },
     "metadata": {
      "needs_background": "light"
     },
     "output_type": "display_data"
    }
   ],
   "source": [
    "import numpy as np\n",
    "import scipy.optimize as opt\n",
    "import matplotlib.pyplot as plt\n",
    "\n",
    "# choose approximation point\n",
    "k0 = 5.\n",
    "\n",
    "# set value for epsilon\n",
    "eps = .01\n",
    "α=0.33\n",
    "h = 24.\n",
    "t = .1\n",
    "b = 2.\n",
    "z= 1.\n",
    "\n",
    "# create excess demand function\n",
    "def excess(w,k):\n",
    "    nd = (((1-α)*z)/w)**(1/α)*k\n",
    "    pr = z*k**α*(nd)**(1-α) - w*nd\n",
    "    ns = h - (b/(w*(1+b))) * (w*h + pr  - t)\n",
    "    return nd - ns\n",
    "\n",
    "#  create anonymous function\n",
    "f = lambda w: excess(w, k0)\n",
    "\n",
    "#  use fsolve to find equlibrium wage\n",
    "w0 = opt.fsolve(f, .1)\n",
    "print ('w0: ', w0)\n",
    "\n",
    "#  check solution\n",
    "check = excess(w0, k0)\n",
    "print ('check: ', check)\n",
    "\n",
    "\n",
    "# Write the function that gets you the 1st, 2nd and 3rd derivative\n",
    "# See section 5.1 bivariate numerical derivatives\n",
    "# expressions for fxxx, fyyy, fxxy, fxyy are corrected for typos.\n",
    "def BivariateNumericalDiff(f, x0, y0, eps):\n",
    "    #Define the points\n",
    "    fK = f(x0, y0)\n",
    "    fL = f(x0+eps, y0)\n",
    "    fJ = f(x0-eps, y0)\n",
    "    fF = f(x0, y0+eps)\n",
    "    fQ = f(x0, y0-eps)\n",
    "    fE = f(x0-eps, y0+eps)\n",
    "    fG = f(x0+eps, y0+eps)\n",
    "    fP = f(x0-eps, y0-eps)\n",
    "    fR = f(x0+eps, y0-eps)\n",
    "    fA = f(x0-eps, y0+2*eps)\n",
    "    fB = f(x0, y0+2*eps)\n",
    "    fC = f(x0+eps, y0+2*eps)\n",
    "    fD = f(x0-2*eps, y0+eps)\n",
    "    fH = f(x0+2*eps, y0+eps)\n",
    "    fI = f(x0-2*eps, y0)\n",
    "    fM = f(x0+2*eps, y0)\n",
    "    fN = f(x0-2*eps, y0-eps)\n",
    "    fS = f(x0+2*eps, y0-eps)\n",
    "    fT = f(x0-eps, y0-2*eps)\n",
    "    fV = f(x0+eps, y0-2*eps)\n",
    "    fU = f(x0, y0-2*eps)\n",
    "    \n",
    "    fx = (fL - fJ)/(2*eps)\n",
    "    fy = (fF - fQ)/(2*eps)\n",
    "    fxx = (fL - 2*fK + fJ)/(eps**2)\n",
    "    fyy = (fF - 2*fK + fQ)/(eps**2)\n",
    "    fxy = (fG - fE - fR + fP)/(4*eps**2)\n",
    "    fxxx = (fM - 2*fL+2*fJ-fI)/(2*eps**3)\n",
    "    fxxy = (fH - 2*fF - fS + fD + 2*fQ -fN)/(8*eps**3)\n",
    "    fxyy = (fA - 2*fJ-fC+fT+2*fL-fV)/(8*eps**3)\n",
    "    fyyy = (fB-2*fF+2*fQ-fU)/(2*eps**3)\n",
    "    return fx, fy, fxx, fxy, fyy, fxxx, fxxy, fxyy, fyyy\n",
    "\n",
    "Fw, Fk, Fww, Fkw, Fkk, Fwww, Fkww, Fkkw, Fkkk = BivariateNumericalDiff(excess, w0, k0, eps)\n",
    "    \n",
    "# get coefficients using perturbation formulas\n",
    "w1 = - Fk/Fw\n",
    "w2 = -(Fww*w1**2 + 2*Fkw*w1 + Fkk)/Fw\n",
    "w3 = -(Fwww*w1**3 + 3*Fww*w2*w1 + 2*Fkw*w2 + 2*Fkww*w1**2 + Fkkk) / Fw\n",
    "\n",
    "print(w1, w2, w3)\n",
    "print(Fw, Fk, Fww, Fkw, Fkk, Fwww, Fkww, Fkkw, Fkkk)\n",
    "# set up a grid\n",
    "min = 1\n",
    "max = 15\n",
    "nstep = 50\n",
    "kgrid = np.linspace(min, max, num=nstep)\n",
    "wgrid = np.zeros(nstep)\n",
    "w1grid = np.zeros(nstep)\n",
    "w2grid = np.zeros(nstep)\n",
    "w3grid = np.zeros(nstep)\n",
    "\n",
    "#  get solutions at each point on the grid\n",
    "for i in range(0, nstep):\n",
    "    # find exact solutions\n",
    "    # create anonymous function\n",
    "    f = lambda w: excess(w, kgrid[i])\n",
    "    # use fsolve to find equilibrium wage\n",
    "    wgrid[i] = opt.fsolve(f, .1)\n",
    "    # evaluate approximations \n",
    "    w1grid[i] = w0 + w1*(kgrid[i] - k0)\n",
    "    w2grid[i] = w1grid[i] + .5*w2*(kgrid[i] - k0)**2\n",
    "    w3grid[i] = w2grid[i] + (1/6)*w3*(kgrid[i]-k0)**3\n",
    "\n",
    "# plot results\n",
    "plt.plot(kgrid, wgrid, 'k-',\n",
    "         kgrid, w1grid, 'r-',\n",
    "         kgrid, w2grid, 'b-',\n",
    "         kgrid, w3grid, 'g-')\n",
    "plt.legend(['Exact', '1st', '2nd', '3rd'], loc=1)\n",
    "plt.title('Exact and Approximate Functions')\n",
    "plt.xlabel('k')\n",
    "plt.ylabel('w')\n",
    "plt.show()"
   ]
  },
  {
   "cell_type": "code",
   "execution_count": null,
   "metadata": {},
   "outputs": [],
   "source": []
  }
 ],
 "metadata": {
  "@webio": {
   "lastCommId": null,
   "lastKernelId": null
  },
  "kernelspec": {
   "display_name": "Python 3",
   "language": "python",
   "name": "python3"
  },
  "language_info": {
   "codemirror_mode": {
    "name": "ipython",
    "version": 3
   },
   "file_extension": ".py",
   "mimetype": "text/x-python",
   "name": "python",
   "nbconvert_exporter": "python",
   "pygments_lexer": "ipython3",
   "version": "3.7.3"
  }
 },
 "nbformat": 4,
 "nbformat_minor": 2
}
