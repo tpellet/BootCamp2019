{
 "cells": [
  {
   "cell_type": "markdown",
   "metadata": {},
   "source": [
    "# Problem Set 4: Overlapping Generation Models\n",
    "## Chapter 2: 3-period-lived agents with exogenous labor supply"
   ]
  },
  {
   "cell_type": "markdown",
   "metadata": {},
   "source": [
    "### Exercise 2.1"
   ]
  },
  {
   "cell_type": "code",
   "execution_count": 1,
   "metadata": {},
   "outputs": [],
   "source": [
    "import numpy as np\n",
    "from scipy.optimize import root\n",
    "\n",
    "# Initialize parameters\n",
    "β = 0.442\n",
    "δ = 0.6415\n",
    "σ = 3\n",
    "A = 1\n",
    "α = 0.35\n",
    "nvec = np.array([1., 1., 0.2])\n",
    "L = np.sum(nvec)\n",
    "\n",
    "# Define functions\n",
    "r_f = lambda b2, b3 : (α * A * (np.sum(nvec) / (b2 + b3))**(1-α) - δ)\n",
    "w_f = lambda b2, b3 : ((1-α) * A * ((b2 + b3)/np.sum(nvec))**(α))\n",
    "up = lambda c : c**(-σ)\n",
    "\n",
    "# Def system of equations to solve for the optimization pb\n",
    "def system(bvec_guess): \n",
    "    '''\n",
    "    This function defines the system of 2 FOC EE equations for the HH maximization problem\n",
    "    '''\n",
    "    b2 = bvec_guess[0]\n",
    "    b3 = bvec_guess[1]\n",
    "    r = r_f(b2,b3)\n",
    "    w = w_f(b2, b3)\n",
    "    \n",
    "    vp1 = up(w*nvec[0] - b2) - β*(1+r)*up(w*nvec[1] + (1+ r)*b2-b3)\n",
    "    vp2 = up(w*nvec[1] + (1 + r)*b2 - b3) - β*(1+ r)*up((1+r)*b3 + nvec[2]*w)\n",
    "    \n",
    "    return[vp1, vp2]\n",
    "\n",
    "def solve(bvec_guess):\n",
    "    '''\n",
    "    This function solves the system of equations defined above for a given bvec guess.\n",
    "    It then computes c1, c2, c3 and returns\n",
    "    [b2, b3, c1, c2, c3]\n",
    "    '''\n",
    "    b2, b3 = root(system, bvec_guess).x\n",
    "    \n",
    "    c1 = w_f(b2, b3)*nvec[0] - b2\n",
    "    c2 = w_f(b2, b3)*nvec[1] - b3 + b2*(1+r_f(b2, b3))\n",
    "    c3 = w_f(b2, b3)*nvec[2] + b3*(1+r_f(b2, b3))\n",
    "\n",
    "    return[b2, b3, c1, c2, c3]\n",
    "\n",
    "\n",
    "def feasible(f_params, bvec_guess):\n",
    "    '''\n",
    "    This function checks whether the different constraints (on saving and consumption) are binding.\n",
    "    '''\n",
    "    nvec, A, α, δ, β = f_params\n",
    "    \n",
    "    # Set up pb\n",
    "    b_cnstr = np.empty([2,], dtype='bool_')\n",
    "    c_cnstr = np.empty([3,], dtype='bool_')\n",
    "    K_cnstr = np.empty([1,], dtype='bool_')    \n",
    "    \n",
    "    # Compute Cs & bs (optimize)\n",
    "    X = solve(bvec_guess)\n",
    "    Bs = X[0:2]\n",
    "    Cs = X[2:5]\n",
    "    K = np.sum(Bs)\n",
    "    \n",
    "    # Print results\n",
    "    print(\"Expected return is\", r_f(Bs[0], Bs[1]))\n",
    "\n",
    "    print(\"Savings in periods 1 and 2 are \", Bs)\n",
    "    print(\"Consumption in periods 1, 2 and 3 are \", Cs)\n",
    "\n",
    "    ### Check constrains       \n",
    "    # K_cnstr\n",
    "    if K <= 0:\n",
    "        K_cnstr[0] = True \n",
    "    else:\n",
    "        K_cnstr[0] = False\n",
    "    \n",
    "    # C_cnstr\n",
    "    for i in range(3):\n",
    "        if Cs[i] <= 0:\n",
    "            c_cnstr[i] = True\n",
    "        else:\n",
    "            c_cnstr[i] = False\n",
    "            \n",
    "    # b_cnstr\n",
    "    b_cnstr[:] = False\n",
    "        \n",
    "    if c_cnstr[0] == True:\n",
    "        b_cnstr[0] = True\n",
    "    if c_cnstr[1] == True:\n",
    "        b_cnstr[0] = True\n",
    "        b_cnstr[1] = True\n",
    "    if c_cnstr[2] == True:\n",
    "        b_cnstr[1] = True\n",
    "\n",
    "    \n",
    "    return print(\"\\n Borrowing constraints in periods 1 and 2 are violated \\t \\t: \", b_cnstr, \\\n",
    "                 \"\\n Consumption constrains in periods 1, 2 and 3 are violated \\t: \", c_cnstr, \\\n",
    "                 \"\\n The captial market clearing condition is violated \\t \\t: \", K_cnstr)"
   ]
  },
  {
   "cell_type": "markdown",
   "metadata": {},
   "source": [
    "#### 2.2.A"
   ]
  },
  {
   "cell_type": "code",
   "execution_count": 2,
   "metadata": {},
   "outputs": [
    {
     "name": "stdout",
     "output_type": "stream",
     "text": [
      "Expected return is -0.6415\n",
      "Savings in periods 1 and 2 are  [5.044998368424099e+45, 1.0865691165800383e+45]\n",
      "Consumption in periods 1, 2 and 3 are  [-5.044998368424099e+45, 7.220627985000014e+44, 3.895350282939438e+44]\n",
      "\n",
      " Borrowing constraints in periods 1 and 2 are violated \t \t:  [ True False] \n",
      " Consumption constrains in periods 1, 2 and 3 are violated \t:  [ True False False] \n",
      " The captial market clearing condition is violated \t \t:  [False]\n"
     ]
    }
   ],
   "source": [
    "f_params = (nvec, A, α, δ, β)\n",
    "bvec_guess = np.array([1.0, 1.2])\n",
    "feasible(f_params, bvec_guess)"
   ]
  },
  {
   "cell_type": "markdown",
   "metadata": {},
   "source": [
    "#### 2.2.B"
   ]
  },
  {
   "cell_type": "code",
   "execution_count": 3,
   "metadata": {},
   "outputs": [
    {
     "name": "stdout",
     "output_type": "stream",
     "text": [
      "Expected return is 3.036307374780331\n",
      "Savings in periods 1 and 2 are  [0.06, -0.001]\n",
      "Consumption in periods 1, 2 and 3 are  [0.12317391275691647, 0.4263523552437363, 0.03259847517660297]\n",
      "\n",
      " Borrowing constraints in periods 1 and 2 are violated \t \t:  [False False] \n",
      " Consumption constrains in periods 1, 2 and 3 are violated \t:  [False False False] \n",
      " The captial market clearing condition is violated \t \t:  [False]\n"
     ]
    },
    {
     "name": "stderr",
     "output_type": "stream",
     "text": [
      "/anaconda3/lib/python3.7/site-packages/ipykernel_launcher.py:14: RuntimeWarning: invalid value encountered in double_scalars\n",
      "  \n",
      "/anaconda3/lib/python3.7/site-packages/ipykernel_launcher.py:15: RuntimeWarning: invalid value encountered in double_scalars\n",
      "  from ipykernel import kernelapp as app\n"
     ]
    }
   ],
   "source": [
    "f_params = (nvec, A, α, δ, β)\n",
    "bvec_guess = np.array([0.06, -0.001])\n",
    "feasible(f_params, bvec_guess)"
   ]
  },
  {
   "cell_type": "markdown",
   "metadata": {},
   "source": [
    "#### 2.2.C"
   ]
  },
  {
   "cell_type": "code",
   "execution_count": 4,
   "metadata": {},
   "outputs": [
    {
     "name": "stdout",
     "output_type": "stream",
     "text": [
      "Expected return is 2.433062339127069\n",
      "Savings in periods 1 and 2 are  [0.019312529832027088, 0.05841109592113676]\n",
      "Consumption in periods 1, 2 and 3 are  [0.18241212755849867, 0.20961468030898922, 0.24087386507209851]\n",
      "\n",
      " Borrowing constraints in periods 1 and 2 are violated \t \t:  [False False] \n",
      " Consumption constrains in periods 1, 2 and 3 are violated \t:  [False False False] \n",
      " The captial market clearing condition is violated \t \t:  [False]\n"
     ]
    }
   ],
   "source": [
    "f_params = (nvec, A, α, δ, β)\n",
    "bvec_guess = np.array([0.1, 0.1])\n",
    "feasible(f_params, bvec_guess)"
   ]
  },
  {
   "cell_type": "markdown",
   "metadata": {},
   "source": [
    "## Exercise 2.2"
   ]
  },
  {
   "cell_type": "code",
   "execution_count": 5,
   "metadata": {},
   "outputs": [],
   "source": [
    "import time\n",
    "from matplotlib import pyplot as plt\n",
    "\n",
    "\n",
    "def get_SS(params, bvec_guess, SS_graphs, exercise):\n",
    "    \n",
    "    \n",
    "    start_time = time.clock()\n",
    "\n",
    "    # Initialize parameters\n",
    "    nvec, A, α, δ, β = params\n",
    "    \n",
    "    # Solve the optimal c and s\n",
    "    X = solve(bvec_guess)\n",
    "    b_ss = X[0:2]\n",
    "    c_ss = X[2:6]\n",
    "    K_ss = np.sum(b_ss)\n",
    "    L_ss = np.sum(nvec)\n",
    "    \n",
    "\n",
    "    # Compute Euler error\n",
    "    if (exercise==23):\n",
    "        r_ss = r_f(b_ss)\n",
    "        w_ss = w_f(b_ss)\n",
    "        \n",
    "    else:\n",
    "        r_ss = r_f(b_ss[0], b_ss[1])\n",
    "        w_ss = w_f(b_ss[0], b_ss[1])\n",
    "        \n",
    "    EulErr_ss = np.array([0., 0.])\n",
    "    EulErr_ss[0] = up(w_ss*nvec[0] - b_ss[0]) - β*(1+r_ss)*up(w_ss*nvec[1] + (1+ r_ss)*b_ss[0]-b_ss[1])\n",
    "    EulErr_ss[1] = up(w_ss*nvec[1] + (1 + r_ss)* b_ss[0] -  b_ss[1]) - β*(1+ r_ss)*up((1+r_ss)* b_ss[1] + nvec[2]*w_ss)\n",
    "    \n",
    "    # Compute resource constraint errors\n",
    "    Y_ss = A*K_ss**α*L_ss**(1-α)\n",
    "    RCerr_ss = 0\n",
    "    RCerr_ss = Y_ss - np.sum(c_ss) - δ*K_ss\n",
    "    \n",
    "    ss_time = time.clock() - start_time\n",
    "    ss_output = {\n",
    "        \"b_ss\": b_ss,\n",
    "        \"c_ss\": c_ss,\n",
    "        \"w_ss\": w_ss,\n",
    "        \"r_ss\": r_ss,\n",
    "        \"K_ss\": K_ss,\n",
    "        \"Y_ss\": Y_ss,\n",
    "        \"C_ss\": c_ss,\n",
    "        \"EulErr_ss\": EulErr_ss,\n",
    "        \"RCerr_ss\": RCerr_ss,\n",
    "        \"ss_time\": ss_time}\n",
    "    \n",
    "    if SS_graphs == True:\n",
    "        plt.plot([20, 40, 60], c_ss, '-r')\n",
    "        plt.title(\"Consumption Distribution over lifetime\")\n",
    "        plt.show()\n",
    "        plt.plot([20, 40, 60], [b_ss[0], b_ss[1], 0], '-g')\n",
    "        plt.title(\"Savings Distribution over lifetime\")\n",
    "        plt.show()\n",
    "        \n",
    "    return ss_output"
   ]
  },
  {
   "cell_type": "code",
   "execution_count": 6,
   "metadata": {},
   "outputs": [
    {
     "name": "stderr",
     "output_type": "stream",
     "text": [
      "/anaconda3/lib/python3.7/site-packages/ipykernel_launcher.py:8: DeprecationWarning: time.clock has been deprecated in Python 3.3 and will be removed from Python 3.8: use time.perf_counter or time.process_time instead\n",
      "  \n",
      "/anaconda3/lib/python3.7/site-packages/ipykernel_launcher.py:39: DeprecationWarning: time.clock has been deprecated in Python 3.3 and will be removed from Python 3.8: use time.perf_counter or time.process_time instead\n"
     ]
    },
    {
     "data": {
      "image/png": "[encoded data removed]",
      "text/plain": [
       "<Figure size 432x288 with 1 Axes>"
      ]
     },
     "metadata": {
      "needs_background": "light"
     },
     "output_type": "display_data"
    },
    {
     "data": {
      "image/png": "[encoded data removed]",
      "text/plain": [
       "<Figure size 432x288 with 1 Axes>"
      ]
     },
     "metadata": {
      "needs_background": "light"
     },
     "output_type": "display_data"
    },
    {
     "data": {
      "text/plain": [
       "{'b_ss': [0.019312529832027088, 0.05841109592113676],\n",
       " 'c_ss': [0.18241212755849867, 0.20961468030898922, 0.24087386507209851],\n",
       " 'w_ss': 0.20172465739052575,\n",
       " 'r_ss': 2.433062339127069,\n",
       " 'K_ss': 0.07772362575316386,\n",
       " 'Y_ss': 0.6827603788602411,\n",
       " 'C_ss': [0.18241212755849867, 0.20961468030898922, 0.24087386507209851],\n",
       " 'EulErr_ss': array([-1.39266376e-12,  2.62900812e-12]),\n",
       " 'RCerr_ss': 8.326672684688674e-17,\n",
       " 'ss_time': 0.0007310000000000372}"
      ]
     },
     "execution_count": 6,
     "metadata": {},
     "output_type": "execute_result"
    }
   ],
   "source": [
    "params = (nvec, A, α, δ, β)\n",
    "bvec_guess = np.array([0.1, 0.1])\n",
    "SS_graphs = True\n",
    "\n",
    "\n",
    "\n",
    "get_SS(params, bvec_guess, True, 22)\n"
   ]
  },
  {
   "cell_type": "code",
   "execution_count": 7,
   "metadata": {},
   "outputs": [
    {
     "name": "stderr",
     "output_type": "stream",
     "text": [
      "/anaconda3/lib/python3.7/site-packages/ipykernel_launcher.py:8: DeprecationWarning: time.clock has been deprecated in Python 3.3 and will be removed from Python 3.8: use time.perf_counter or time.process_time instead\n",
      "  \n",
      "/anaconda3/lib/python3.7/site-packages/ipykernel_launcher.py:39: DeprecationWarning: time.clock has been deprecated in Python 3.3 and will be removed from Python 3.8: use time.perf_counter or time.process_time instead\n"
     ]
    },
    {
     "data": {
      "image/png": "[encoded data removed]",
      "text/plain": [
       "<Figure size 432x288 with 1 Axes>"
      ]
     },
     "metadata": {
      "needs_background": "light"
     },
     "output_type": "display_data"
    },
    {
     "data": {
      "image/png": "[encoded data removed]",
      "text/plain": [
       "<Figure size 432x288 with 1 Axes>"
      ]
     },
     "metadata": {
      "needs_background": "light"
     },
     "output_type": "display_data"
    },
    {
     "data": {
      "text/plain": [
       "{'b_ss': [0.028176918915182085, 0.07686545131079861],\n",
       " 'c_ss': [0.19597527701928497, 0.2286159413839988, 0.26669307195186887],\n",
       " 'w_ss': 0.22415219593446706,\n",
       " 'r_ss': 1.8863765057189819,\n",
       " 'K_ss': 0.1050423702259807,\n",
       " 'Y_ss': 0.7586689708551193,\n",
       " 'C_ss': [0.19597527701928497, 0.2286159413839988, 0.26669307195186887],\n",
       " 'EulErr_ss': array([6.87805368e-12, 2.52953214e-12]),\n",
       " 'RCerr_ss': 9.71445146547012e-17,\n",
       " 'ss_time': 0.0006119999999998349}"
      ]
     },
     "execution_count": 7,
     "metadata": {},
     "output_type": "execute_result"
    }
   ],
   "source": [
    "β = 0.55\n",
    "params = (nvec, A, α, δ, β)\n",
    "bvec_guess = np.array([0.1, 0.1])\n",
    "SS_graphs = True\n",
    "\n",
    "get_SS(params, bvec_guess, True, 22)\n"
   ]
  },
  {
   "cell_type": "markdown",
   "metadata": {},
   "source": [
    "If $\\beta$ increases, ie households become more patient: people save more in each period of their life ($b$ increases). This increases the capital in the production function and therefore the total production $Y$. \n",
    "This allows households to consume more in each period of their life."
   ]
  },
  {
   "cell_type": "markdown",
   "metadata": {},
   "source": [
    "## Exercise 2.3"
   ]
  },
  {
   "cell_type": "code",
   "execution_count": 8,
   "metadata": {},
   "outputs": [],
   "source": [
    "import numpy as np\n",
    "from scipy.optimize import root\n",
    "import numpy as np\n",
    "import time\n",
    "import scipy.optimize as opt\n",
    "import matplotlib.pyplot as plt\n",
    "import scipy.linalg as la\n",
    "\n",
    "def euleryoung(X, *params):\n",
    "    '''\n",
    "    Solves for the young guy's saving decision : b2 & b3\n",
    "    Return 2 errors : error1 from EE in period 1 & error2 from EE in period 2\n",
    "    '''\n",
    "    \n",
    "    w1,w2,w3, r2,r3 = params\n",
    "    \n",
    "    # Consumption in each period\n",
    "    c1 = w1 - X[0]\n",
    "    c2 = w2 + (1+r2)*X[0] - X[1]\n",
    "    c3 = w3*0.2 + (1+r3)*X[1]\n",
    "    \n",
    "    # MU Consumption\n",
    "    MU1 = uprime(c1)\n",
    "    MU2 = uprime(c2)\n",
    "    MU3 = uprime(c3)\n",
    "    \n",
    "    # Error\n",
    "    error1 = MU1 - β*(1+r2)*MU2\n",
    "    error2 = MU2 - β*(1+r3)*MU3\n",
    "    error = [error1, error2]\n",
    "\n",
    "    return error\n",
    "    \n",
    "\n",
    "def eulerma(X,*params):\n",
    "    '''\n",
    "    Solves for the medium age guy's saving decision : b3\n",
    "    Returns the error for the guess X\n",
    "    '''\n",
    "    b3 = X\n",
    "    w1,w2,r1,r2,b2 = params\n",
    "    \n",
    "    # Compute consumption from each period from BC\n",
    "    c2 = w1 + (1+r1)*b2 - b3\n",
    "    c3 = (1+r2)*b3 + 0.2*w2\n",
    "    \n",
    "    # Compute MU\n",
    "    MU1 = uprime(c2)\n",
    "    MU2 = uprime(c3)\n",
    "    # Error\n",
    "    error = MU1 - β*(1-r2)*MU2\n",
    "    \n",
    "    return error\n",
    "\n",
    "\n",
    "r_f = lambda bvec : (α * A * (np.sum(nvec) / (np.sum(bvec)))**(1-α) - δ)\n",
    "w_f = lambda bvec : ((1-α) * A * ((np.sum(bvec))/np.sum(nvec))**(α))\n",
    "uprime = lambda c : c**(-σ)\n",
    "\n",
    "def solve(bvec_guess):\n",
    "    '''\n",
    "    This function solves the system of equations defined above for a given bvec guess.\n",
    "    It then computes c1, c2, c3 and returns\n",
    "    [b2, b3, c1, c2, c3]\n",
    "    '''\n",
    "    b2, b3 = root(system, bvec_guess).x\n",
    "    bvec = np.array([b2, b3])\n",
    "    nvec = np.array([1.0, 1.0, 0.2])\n",
    "    c1 = w_f(bvec)*nvec[0] - b2\n",
    "    c2 = w_f(bvec)*nvec[1] - b3 + b2*(1+r_f(bvec))\n",
    "    c3 = w_f(bvec)*nvec[2] + b3*(1+r_f(bvec))\n",
    "\n",
    "    return[b2, b3, c1, c2, c3]\n",
    "\n",
    "def system(bvec_guess): \n",
    "    '''\n",
    "    This function defines the system of 2 FOC EE equations for the HH maximization problem\n",
    "    '''\n",
    "\n",
    "    r = r_f(bvec_guess)\n",
    "    w = w_f(bvec_guess)\n",
    "    nvec = np.array([1.0, 1.0, 0.2])\n",
    "\n",
    "    vp1 = uprime(w*nvec[0] - bvec_guess[0]) - β*(1+r)*uprime(w*nvec[1] + (1+ r)*bvec_guess[0]-bvec_guess[1])\n",
    "    vp2 = uprime(w*nvec[1] + (1 + r)*bvec_guess[0] - bvec_guess[1]) - β*(1+ r)*uprime((1+r)*bvec_guess[1] + nvec[2]*w)\n",
    "    \n",
    "    return[vp1, vp2]\n"
   ]
  },
  {
   "cell_type": "code",
   "execution_count": 9,
   "metadata": {},
   "outputs": [],
   "source": [
    "### Time Path Iteration\n",
    "\n",
    "def TPI(nvec, A, α, δ, β, maxIter, tol, T, bvec_guess):\n",
    "    '''\n",
    "    This function solves for the Time path equilibrium of savings & agg capital\n",
    "    '''\n",
    "    start_time = time.clock()\n",
    "\n",
    "    # Set parameters\n",
    "    params = nvec, A, α, δ, β \n",
    "    \n",
    "    ### Get Steady State\n",
    "    b_ss = get_SS(params, bvec_guess, False, 23)[\"b_ss\"]\n",
    "    r_ss = r_f(b_ss)\n",
    "    w_ss = w_f(b_ss)\n",
    "    \n",
    "    \n",
    "    ### Initial guess of aggregate capital\n",
    "    bvec_init = np.array([0.8 * b_ss[0], 1.1 * b_ss[1]])\n",
    "    K_init = np.sum(bvec_init)\n",
    "    KSS = np.sum(b_ss)\n",
    "    \n",
    "    #print(\"KSS is \", KSS)\n",
    "    #print(\"K_init is\", K_init)\n",
    "\n",
    "    ### Initial guess on transition = linear\n",
    "    Kpath = np.linspace(K_init, KSS, T)\n",
    "    # One more period in the SS to match indices\n",
    "    Kpath = np.append(Kpath, KSS)\n",
    "\n",
    "    ###Initial wage & interest rate paths\n",
    "    r_path = np.zeros_like(Kpath)\n",
    "    w_path = np.zeros_like(Kpath)\n",
    "    for i in range(T+1):\n",
    "        r_path[i] = r_f(Kpath[i])\n",
    "        w_path[i] = w_f(Kpath[i])\n",
    "        \n",
    "    r_path = np.append(r_path, r_ss)\n",
    "    w_path = np.append(w_path, w_ss)\n",
    "\n",
    "    #print(\"Rpath is \", r_path)\n",
    "    #print(\"Wpath is\", w_path)\n",
    "    ### Prepare iteration\n",
    "    it = 1\n",
    "    eps = 1\n",
    "    \n",
    "    \n",
    "    \n",
    "    while (it < maxIter and eps > tol):\n",
    "        #print(\"Iteration \", it)\n",
    "\n",
    "        #print(\"Kpath is \", Kpath)\n",
    "        \n",
    "        ## initialize matrices for the whole time period T\n",
    "        # For each period: b2 & b3\n",
    "        \n",
    "        b_all = np.zeros((T+1, 2))\n",
    "        EulErrs = np.zeros((T+1, 2))\n",
    "        # Initial values = always trye\n",
    "        b_all[0,0] = bvec_init[0]\n",
    "        b_all[0,1] = bvec_init[1]\n",
    "        \n",
    "        \n",
    "    \n",
    "        \n",
    "        # Solve for b32 (the middle age guy problem, only appears once at the beginning)\n",
    "        params = w_path[0], w_path[1], r_path[0], r_path[1], bvec_init[0]\n",
    "        middleagepb = root(eulerma, b_all[0,1], args =(params))\n",
    "        b_all[1,1] = middleagepb.x\n",
    "        EulErrs[1,1] = middleagepb.fun\n",
    "        \n",
    "        \n",
    "        # Time Path Iteration\n",
    "        # Solve for b_{2,t} and b_{3,t+1} using the twisted donut method\n",
    "        for tt in range(1,T):\n",
    "            # Solve the \"young guy's problem\"\n",
    "            paramyoung = w_path[tt-1], w_path[tt], w_path[tt+1], r_path[tt], r_path[tt+1]\n",
    "            # Guess = linear initial guess\n",
    "            solve_young = root(euleryoung,np.array([0.1, 0.1]),args=(paramyoung))\n",
    "            b_all[tt, 0] = solve_young.x[0]\n",
    "            b_all[tt+1, 1] = solve_young.x[1]\n",
    "            EulErrs[tt, 0] = solve_young.fun[0]\n",
    "            EulErrs[tt+1, 1] = solve_young.fun[1]\n",
    "            #print(\"Period \", tt, \" Error1 is \", EulErrs[tt, 0], \"and Eurror2 is \", EulErrs[tt+1, 1])\n",
    "        \n",
    "        \n",
    "        # Maximum error on the euler\n",
    "        max_Error = np.abs(EulErrs).max(axis = 0)\n",
    "        #print(\"Max error is \", max_Error)\n",
    "        # New capital path\n",
    "        Kpath_new = b_all[:-1].sum(axis = 1)\n",
    "        Kpath_new = np.append(Kpath_new, KSS)\n",
    "        #print(\"New Kpath is\", Kpath_new)\n",
    "        #print(\"b_all is\", b_all)\n",
    "        \n",
    "        # Error improvement (difference between the last guess)\n",
    "        # Using L2 norm\n",
    "        eps = la.norm(Kpath_new - Kpath, 2)\n",
    "        #print(\"eps is \", eps)\n",
    "\n",
    "        # Update Kpath, interest rate & wage\n",
    "        Kpathcopy = ξ * Kpath_new + (1 - ξ)*Kpath\n",
    "        Kpath = np.copy(Kpathcopy)\n",
    "        \n",
    "        \n",
    "        for i in range(T+1):\n",
    "            r_path[i] = r_f(Kpath[i])\n",
    "            w_path[i] = w_f(Kpath[i])\n",
    "        \n",
    "        it = it+1\n",
    "        \n",
    "    \n",
    "    # Output\n",
    "    TPI_output = {\n",
    "        'b_path': b_all, \n",
    "        'w_path': w_path, \n",
    "        'r_path': r_path,\n",
    "        \"Kpath\": Kpath,\n",
    "        \"max_Error\": max_Error,\n",
    "    \"Kss\" : KSS,\n",
    "    \"r_ss\": r_ss,\n",
    "    \"w_ss\": w_ss}\n",
    "        \n",
    "    return TPI_output"
   ]
  },
  {
   "cell_type": "code",
   "execution_count": 10,
   "metadata": {},
   "outputs": [
    {
     "name": "stderr",
     "output_type": "stream",
     "text": [
      "/anaconda3/lib/python3.7/site-packages/ipykernel_launcher.py:7: DeprecationWarning: time.clock has been deprecated in Python 3.3 and will be removed from Python 3.8: use time.perf_counter or time.process_time instead\n",
      "  import sys\n",
      "/anaconda3/lib/python3.7/site-packages/ipykernel_launcher.py:8: DeprecationWarning: time.clock has been deprecated in Python 3.3 and will be removed from Python 3.8: use time.perf_counter or time.process_time instead\n",
      "  \n",
      "/anaconda3/lib/python3.7/site-packages/ipykernel_launcher.py:39: DeprecationWarning: time.clock has been deprecated in Python 3.3 and will be removed from Python 3.8: use time.perf_counter or time.process_time instead\n"
     ]
    }
   ],
   "source": [
    "tol = 1e-9\n",
    "ξ = .8\n",
    "T = 25\n",
    "maxIter = 1000\n",
    "β = 0.55\n",
    "bvec_guess = np.array([0.1, 0.1])\n",
    "\n",
    "\n",
    "\n",
    "result = TPI(nvec, A, α, δ, β, maxIter, tol, T, bvec_guess)\n",
    "max_error = result[\"max_Error\"]\n",
    "b_path = result[\"b_path\"]\n",
    "w_path = result[\"w_path\"]\n",
    "r_path = result[\"r_path\"]\n",
    "Kpath = result[\"Kpath\"]\n",
    "KSS = result[\"Kss\"]\n",
    "wss = result[\"w_ss\"]\n",
    "rss = result[\"r_ss\"]"
   ]
  },
  {
   "cell_type": "code",
   "execution_count": 11,
   "metadata": {},
   "outputs": [
    {
     "name": "stdout",
     "output_type": "stream",
     "text": [
      "b_ss is  [0.02817691 0.07686544]\n"
     ]
    }
   ],
   "source": [
    "tol = 1e-9\n",
    "ξ = .8\n",
    "T = 25\n",
    "maxIter = 1000\n",
    "β = 0.55\n",
    "bvec_guess = np.array([0.1, 0.1])\n",
    "\n",
    "params = nvec, A, α, δ, β \n",
    "    \n",
    "### Get Steady State\n",
    "#b_ss2 = get_SS(params, bvec_guess, False, 23)[\"b_ss\"]\n",
    "\n",
    "print(\"b_ss is \",b_path[T-1])\n",
    "#print(\"b_ssout is\", b_ss2)"
   ]
  },
  {
   "cell_type": "code",
   "execution_count": 12,
   "metadata": {},
   "outputs": [
    {
     "name": "stdout",
     "output_type": "stream",
     "text": [
      "[1.13520571e-08 1.27380951e+02]\n"
     ]
    }
   ],
   "source": [
    "#Maximum absolute error from the Euler errors\n",
    "print(max_error)"
   ]
  },
  {
   "cell_type": "code",
   "execution_count": 13,
   "metadata": {},
   "outputs": [
    {
     "data": {
      "image/png": "[encoded data removed]",
      "text/plain": [
       "<Figure size 432x288 with 1 Axes>"
      ]
     },
     "metadata": {
      "needs_background": "light"
     },
     "output_type": "display_data"
    }
   ],
   "source": [
    "# Plot the equilibrium time paths of the aggregate capital stock\n",
    "plt.plot(Kpath)\n",
    "plt.hlines(KSS, -1, T)\n",
    "plt.xlabel(\"Periods\")\n",
    "plt.ylabel(\"Aggregate capital stock\")\n",
    "plt.show()"
   ]
  },
  {
   "cell_type": "code",
   "execution_count": 14,
   "metadata": {},
   "outputs": [
    {
     "data": {
      "image/png": "[encoded data removed]",
      "text/plain": [
       "<Figure size 432x288 with 1 Axes>"
      ]
     },
     "metadata": {
      "needs_background": "light"
     },
     "output_type": "display_data"
    }
   ],
   "source": [
    "# Plot the equilibrium time paths of the wage \n",
    "plt.plot(w_path)\n",
    "plt.hlines(wss, -1, T)\n",
    "plt.xlabel(\"Periods\")\n",
    "plt.ylabel(\"Wage\")\n",
    "plt.show()"
   ]
  },
  {
   "cell_type": "code",
   "execution_count": 15,
   "metadata": {},
   "outputs": [
    {
     "data": {
      "image/png": "[encoded data removed]",
      "text/plain": [
       "<Figure size 432x288 with 1 Axes>"
      ]
     },
     "metadata": {
      "needs_background": "light"
     },
     "output_type": "display_data"
    }
   ],
   "source": [
    "# Plot the equilibrium time paths of the Interest Rate \n",
    "plt.plot(r_path)\n",
    "plt.hlines(rss, -1, T)\n",
    "plt.xlabel(\"Periods\")\n",
    "plt.ylabel(\"Interest Rate\")\n",
    "plt.show()"
   ]
  },
  {
   "cell_type": "code",
   "execution_count": 22,
   "metadata": {},
   "outputs": [
    {
     "name": "stdout",
     "output_type": "stream",
     "text": [
      "[ 2.05116135e-03 -6.28057061e-03 -8.08268600e-04 -1.58701224e-03\n",
      " -5.02911321e-04 -4.57293890e-04 -2.05712071e-04 -1.43924770e-04\n",
      " -7.50467849e-05 -4.72891615e-05 -2.63232580e-05 -1.58845530e-05\n",
      " -9.09437491e-06 -5.38711394e-06 -3.12017516e-06 -1.83350312e-06\n",
      " -1.06737921e-06 -6.25274826e-07 -3.64820452e-07 -2.13407366e-07\n",
      " -1.24617687e-07 -7.28496228e-08 -4.25560388e-08 -2.48568326e-08\n",
      " -1.41648933e-08  0.00000000e+00]\n"
     ]
    },
    {
     "data": {
      "text/plain": [
       "array([12, 13, 14, 15, 16, 17, 18, 19, 20, 21, 22, 23, 24, 25])"
      ]
     },
     "execution_count": 22,
     "metadata": {},
     "output_type": "execute_result"
    }
   ],
   "source": [
    "To_ss = Kpath - KSS\n",
    "print(To_ss)\n",
    "To_ss_dummy = np.abs(To_ss) < 0.00001\n",
    "np.where(To_ss_dummy)[0]"
   ]
  },
  {
   "cell_type": "markdown",
   "metadata": {},
   "source": [
    "It takes 12 periods for the economy to get back to its steady state."
   ]
  },
  {
   "cell_type": "code",
   "execution_count": null,
   "metadata": {},
   "outputs": [],
   "source": []
  }
 ],
 "metadata": {
  "@webio": {
   "lastCommId": null,
   "lastKernelId": null
  },
  "kernelspec": {
   "display_name": "Python 3",
   "language": "python",
   "name": "python3"
  },
  "language_info": {
   "codemirror_mode": {
    "name": "ipython",
    "version": 3
   },
   "file_extension": ".py",
   "mimetype": "text/x-python",
   "name": "python",
   "nbconvert_exporter": "python",
   "pygments_lexer": "ipython3",
   "version": "3.7.3"
  }
 },
 "nbformat": 4,
 "nbformat_minor": 2
}
