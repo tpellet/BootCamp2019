{
 "cells": [
  {
   "cell_type": "markdown",
   "metadata": {},
   "source": [
    "## Exercise 3.2"
   ]
  },
  {
   "cell_type": "code",
   "execution_count": 15,
   "metadata": {},
   "outputs": [],
   "source": [
    "import time\n",
    "from matplotlib import pyplot as plt\n",
    "import numpy as np\n",
    "from scipy.optimize import root\n",
    "\n",
    "# Set traditional parameters\n",
    "S = 80\n",
    "β = 0.96**(80/S)\n",
    "α = 0.35\n",
    "A = 1\n",
    "σ = 3\n",
    "δ = 1 - (1-0.05)*(80/S)\n",
    "\n",
    "\n",
    "# Return on labor\n",
    "def wf(bvec, nvec):\n",
    "    b = np.sum(bvec)\n",
    "    n = np.sum(nvec)\n",
    "    w = (1-α)*A*(b/n)**α\n",
    "    return(w)\n",
    "\n",
    "# Return on capital\n",
    "def rf(bvec, nvec):\n",
    "    b = np.sum(bvec)\n",
    "    n = np.sum(nvec)\n",
    "    r = α*A*(n/b)**(1-α)-δ\n",
    "    return(r)\n",
    "\n",
    "\n",
    "# Uprime\n",
    "def uprime(c):\n",
    "    if c > 0: \n",
    "        return c**(-σ)\n",
    "    else:\n",
    "        return 5000000000\n",
    "    \n",
    "def cf(b_ss, nvec):\n",
    "    c_ss = np.empty(S)\n",
    "    c_ss[0] = wf(b_ss, nvec) - b_ss[0]\n",
    "    for i in range(1, S-1):\n",
    "        c_ss[i] = wf(b_ss, nvec) - b_ss[i] + b_ss[i-1]*(1+rf(b_ss, nvec))\n",
    "    \n",
    "    c_ss[-1] = wf(b_ss, nvec) * nvec[-1] + (1+rf(b_ss, nvec))*b_ss[-1]\n",
    "    \n",
    "    return c_ss\n",
    "    \n",
    "\n",
    "def system(bvec):\n",
    "    \n",
    "    c = cf(bvec, nvec)\n",
    "    wc = wf(bvec, nvec)\n",
    "    rc = rf(bvec, nvec)\n",
    "    Sol = []\n",
    "\n",
    "    for i in range(S-1):\n",
    "        Sol.append(uprime(c[i]) - β*(1+rc)*uprime(c[i+1]))\n",
    "\n",
    "    return(Sol)\n",
    "\n",
    "\n",
    "\n",
    "def solve(bvec_guess):\n",
    "    \n",
    "    print(\"running solve\")\n",
    "    b_ss = root(system, bvec_guess).x\n",
    "    c_ss = cf(b_ss, nvec)\n",
    "    print(\"b_ss is \", b_ss)\n",
    "    print(\"c_ss is \", c_ss)\n",
    "\n",
    "    return b_ss, c_ss #, wc, rc, K_ss, L\n",
    "    \n",
    "\n",
    "\n",
    "def get_SS(params, bvec_guess, SS_graphs):\n",
    "    nvec, A, α, δ, β, S = params\n",
    "    \n",
    "    start_time = time.clock()\n",
    "    \n",
    "    # Solve for the optimal c, b\n",
    "    b_ss, c_ss = solve(bvec_guess)\n",
    "    \n",
    "    K_ss = np.sum(b_ss)\n",
    "    L_ss = np.sum(nvec)\n",
    "    \n",
    "    # Compute Euler Error\n",
    "    r_ss = rf(b_ss, nvec)\n",
    "    w_ss = wf(b_ss, nvec)\n",
    "    Y_ss = A * K_ss**α * L_ss**(1-α)\n",
    "    C_ss = np.sum(c_ss)\n",
    "    \n",
    "    # The euler errors\n",
    "    EulerErrors = system(b_ss)\n",
    "    \n",
    "    # Resource counstraint\n",
    "    \n",
    "    ss_time = time.clock() - start_time # Place at end of get_SS()\n",
    "    print('It took %1.3s seconds to solve the OLG model' % ss_time)\n",
    "    \n",
    "    ss_output = {\n",
    "    'b_ss': b_ss, 'c_ss': c_ss, 'w_ss': w_ss, 'r_ss': r_ss,\n",
    "    'K_ss': K_ss, \n",
    "    'EulerErrors': EulerErrors, \n",
    "    'ss_time': ss_time}\n",
    "    \n",
    "\n",
    "    return ss_output"
   ]
  },
  {
   "cell_type": "code",
   "execution_count": 16,
   "metadata": {},
   "outputs": [
    {
     "name": "stdout",
     "output_type": "stream",
     "text": [
      "(79,)\n"
     ]
    },
    {
     "data": {
      "text/plain": [
       "11.399999999999997"
      ]
     },
     "execution_count": 16,
     "metadata": {},
     "output_type": "execute_result"
    }
   ],
   "source": [
    "bvec = \\\n",
    "    np.array([-0.01, 0.1, 0.2, 0.23, 0.25, 0.23, 0.2, 0.1,\n",
    "    -0.01, 0.1, 0.2, 0.23, 0.25, 0.23, 0.2, 0.1,\n",
    "    -0.01, 0.1, 0.2, 0.23, 0.25, 0.23, 0.2, 0.1,\n",
    "    -0.01, 0.1, 0.2, 0.23, 0.25, 0.23, 0.2, 0.1,\n",
    "    -0.01, 0.1, 0.2, 0.23, 0.25, 0.23, 0.2, 0.1,\n",
    "    -0.01, 0.1, 0.2, 0.23, 0.25, 0.23, 0.2, 0.1,\n",
    "    -0.01, 0.1, 0.2, 0.23, 0.25, 0.23, 0.2, 0.1,\n",
    "    0.1, 0.1, 0.1, 0.1, 0.1, 0.1, 0.1, 0.1,\n",
    "    0.1, 0.1, 0.1, 0.1, 0.1, 0.1, 0.1, 0.1,\n",
    "    0.1, 0.1, 0.1, 0.1, 0.1, 0.1, 0.1])\n",
    "\n",
    "print(bvec.shape)\n",
    "np.sum(bvec)"
   ]
  },
  {
   "cell_type": "code",
   "execution_count": 17,
   "metadata": {},
   "outputs": [
    {
     "name": "stderr",
     "output_type": "stream",
     "text": [
      "/anaconda3/lib/python3.7/site-packages/ipykernel_launcher.py:75: DeprecationWarning: time.clock has been deprecated in Python 3.3 and will be removed from Python 3.8: use time.perf_counter or time.process_time instead\n"
     ]
    },
    {
     "name": "stdout",
     "output_type": "stream",
     "text": [
      "running solve\n",
      "b_ss is  [0.13150092 0.2636643  0.3964732  0.5299091  0.66395181 0.79857936\n",
      " 0.93376786 1.06949139 1.20572185 1.34242883 1.47957942 1.61713809\n",
      " 1.75506647 1.89332321 2.03186372 2.17064    2.3096004  2.44868937\n",
      " 2.58784721 2.72700979 2.86610824 3.00506868 3.14381183 3.2822527\n",
      " 3.42030017 3.55785664 3.69481752 3.83107086 3.96649679 4.10096703\n",
      " 4.23434435 4.36648192 4.49722275 4.62639897 4.75383111 4.87932738\n",
      " 5.00268281 5.12367841 5.24208024 5.35763843 5.47008609 5.57913826\n",
      " 5.68449067 5.78581849 5.88277497 5.97498999 6.06206855 6.14358911\n",
      " 6.21910185 6.2881268  6.35015192 6.40463089 6.45098095 6.48858045\n",
      " 6.51676633 6.53483138 6.54202133 6.5375318  6.52050498 6.49002611\n",
      " 6.44511978 6.38474592 6.30779557 6.21308633 6.0993576  5.96526539\n",
      " 5.80937686 5.6301645  5.42599995 5.19514732 4.93575616 4.64585397\n",
      " 4.32333816 3.96596754 3.57135322 3.13694891 2.6600406  2.13773557\n",
      " 1.56695068]\n",
      "c_ss is  [1.0489989  1.05695684 1.06497515 1.0730543  1.08119473 1.08939692\n",
      " 1.09766133 1.10598844 1.11437871 1.12283264 1.13135071 1.13993339\n",
      " 1.14858118 1.15729458 1.16607408 1.17492018 1.18383339 1.19281422\n",
      " 1.20186318 1.21098078 1.22016756 1.22942403 1.23875072 1.24814816\n",
      " 1.25761689 1.26715746 1.2767704  1.28645627 1.29621562 1.30604901\n",
      " 1.31595699 1.32594014 1.33599902 1.34613421 1.35634629 1.36663584\n",
      " 1.37700345 1.38744971 1.39797522 1.40858057 1.41926639 1.43003327\n",
      " 1.44088182 1.45181267 1.46282645 1.47392379 1.48510531 1.49637165\n",
      " 1.50772347 1.51916141 1.53068609 1.54229823 1.55399846 1.56578744\n",
      " 1.57766586 1.58963439 1.60169372 1.61384453 1.62608752 1.63842339\n",
      " 1.65085284 1.66337658 1.67599533 1.68870981 1.70152075 1.71442887\n",
      " 1.72743491 1.74053963 1.75374375 1.76704805 1.78045328 1.7939602\n",
      " 1.80756959 1.82128222 1.83509888 1.84902036 1.86304744 1.87718094\n",
      " 1.89142166 1.90577042]\n",
      "It took 0.6 seconds to solve the OLG model\n"
     ]
    },
    {
     "name": "stderr",
     "output_type": "stream",
     "text": [
      "/anaconda3/lib/python3.7/site-packages/ipykernel_launcher.py:94: DeprecationWarning: time.clock has been deprecated in Python 3.3 and will be removed from Python 3.8: use time.perf_counter or time.process_time instead\n"
     ]
    }
   ],
   "source": [
    "S= 80\n",
    "nvec = np.ones(S)\n",
    "index = round(2*S/3)+1\n",
    "nvec[index:] = 0.2\n",
    "params = nvec, A, α, δ, β, S\n",
    "result = get_SS(params, bvec, False)"
   ]
  },
  {
   "cell_type": "code",
   "execution_count": 18,
   "metadata": {},
   "outputs": [
    {
     "data": {
      "text/plain": [
       "<function matplotlib.pyplot.show(*args, **kw)>"
      ]
     },
     "execution_count": 18,
     "metadata": {},
     "output_type": "execute_result"
    },
    {
     "data": {
      "image/png": "[encoded data removed]",
      "text/plain": [
       "<Figure size 432x288 with 1 Axes>"
      ]
     },
     "metadata": {
      "needs_background": "light"
     },
     "output_type": "display_data"
    }
   ],
   "source": [
    "plt.plot(result['b_ss'])\n",
    "plt.title('Distribution of savings by age')\n",
    "plt.show"
   ]
  },
  {
   "cell_type": "code",
   "execution_count": 19,
   "metadata": {},
   "outputs": [
    {
     "data": {
      "text/plain": [
       "<function matplotlib.pyplot.show(*args, **kw)>"
      ]
     },
     "execution_count": 19,
     "metadata": {},
     "output_type": "execute_result"
    },
    {
     "data": {
      "image/png": "[encoded data removed]",
      "text/plain": [
       "<Figure size 432x288 with 1 Axes>"
      ]
     },
     "metadata": {
      "needs_background": "light"
     },
     "output_type": "display_data"
    }
   ],
   "source": [
    "plt.plot(result['c_ss'])\n",
    "plt.title('Distribution of Consumption by age')\n",
    "plt.show"
   ]
  }
 ],
 "metadata": {
  "kernelspec": {
   "display_name": "Python 3",
   "language": "python",
   "name": "python3"
  },
  "language_info": {
   "codemirror_mode": {
    "name": "ipython",
    "version": 3
   },
   "file_extension": ".py",
   "mimetype": "text/x-python",
   "name": "python",
   "nbconvert_exporter": "python",
   "pygments_lexer": "ipython3",
   "version": "3.7.3"
  }
 },
 "nbformat": 4,
 "nbformat_minor": 2
}
