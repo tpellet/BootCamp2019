{
 "cells": [
  {
   "cell_type": "markdown",
   "metadata": {},
   "source": [
    "## Exercise 3.2"
   ]
  },
  {
   "cell_type": "code",
   "execution_count": 41,
   "metadata": {},
   "outputs": [],
   "source": [
    "import time\n",
    "from matplotlib import pyplot as plt\n",
    "import numpy as np\n",
    "from scipy.optimize import root\n",
    "\n",
    "# Set traditional parameters\n",
    "S = 80\n",
    "β = 0.96**(80/S)\n",
    "α = 0.35\n",
    "A = 1\n",
    "σ = 3\n",
    "δ = 1 - (1-0.05)*(80/S)\n",
    "\n",
    "\n",
    "# Return on labor\n",
    "def wf(bvec, nvec):\n",
    "    b = np.sum(bvec)\n",
    "    n = np.sum(nvec)\n",
    "    w = (1-α)*A*(b/n)**α\n",
    "    return(w)\n",
    "\n",
    "# Return on capital\n",
    "def rf(bvec, nvec):\n",
    "    b = np.sum(bvec)\n",
    "    n = np.sum(nvec)\n",
    "    r = α*A*(n/b)**(1-α)-δ\n",
    "    return(r)\n",
    "\n",
    "\n",
    "# Uprime\n",
    "def uprime(c):\n",
    "    if c > 0: \n",
    "        return c**(-σ)\n",
    "    else:\n",
    "        return 5000000000\n",
    "    \n",
    "def cf(b_ss, nvec):\n",
    "    c_ss = np.empty(S)\n",
    "    c_ss[0] = wf(b_ss, nvec)*nvec[0] - b_ss[0]\n",
    "    for i in range(1, S-1):\n",
    "        c_ss[i] = wf(b_ss, nvec)*nvec[i] - b_ss[i] + b_ss[i-1]*(1+rf(b_ss, nvec))\n",
    "    \n",
    "    c_ss[-1] = wf(b_ss, nvec) * nvec[-1] + (1+rf(b_ss, nvec))*b_ss[-1]\n",
    "    \n",
    "    return c_ss\n",
    "    \n",
    "\n",
    "def system(bvec):\n",
    "    \n",
    "    c = cf(bvec, nvec)\n",
    "    wc = wf(bvec, nvec)\n",
    "    rc = rf(bvec, nvec)\n",
    "    Sol = []\n",
    "\n",
    "    for i in range(S-1):\n",
    "        Sol.append(uprime(c[i]) - β*(1+rc)*uprime(c[i+1]))\n",
    "\n",
    "    return(Sol)\n",
    "\n",
    "\n",
    "\n",
    "def solve(bvec_guess):\n",
    "    \n",
    "    print(\"running solve\")\n",
    "    b_ss = root(system, bvec_guess).x\n",
    "    c_ss = cf(b_ss, nvec)\n",
    "    print(\"b_ss is \", b_ss)\n",
    "    print(\"c_ss is \", c_ss)\n",
    "\n",
    "    return b_ss, c_ss #, wc, rc, K_ss, L\n",
    "    \n",
    "\n",
    "\n",
    "def get_SS(params, bvec_guess, SS_graphs):\n",
    "    nvec, A, α, δ, β, S = params\n",
    "    \n",
    "    start_time = time.clock()\n",
    "    \n",
    "    # Solve for the optimal c, b\n",
    "    b_ss, c_ss = solve(bvec_guess)\n",
    "    \n",
    "    K_ss = np.sum(b_ss)\n",
    "    L_ss = np.sum(nvec)\n",
    "    print(\"LSS is\", L_ss)\n",
    "    \n",
    "    # Compute Euler Error\n",
    "    r_ss = rf(b_ss, nvec)\n",
    "    w_ss = wf(b_ss, nvec)\n",
    "    Y_ss = A * K_ss**α * L_ss**(1-α)\n",
    "    C_ss = np.sum(c_ss)\n",
    "    \n",
    "    # The euler errors\n",
    "    EulerErrors = system(b_ss)\n",
    "    \n",
    "    # Resource counstraint\n",
    "    \n",
    "    ss_time = time.clock() - start_time # Place at end of get_SS()\n",
    "    print('It took %1.3s seconds to solve the OLG model' % ss_time)\n",
    "    \n",
    "    ss_output = {\n",
    "    'b_ss': b_ss, 'c_ss': c_ss, 'w_ss': w_ss, 'r_ss': r_ss,\n",
    "    'K_ss': K_ss, \n",
    "    'EulerErrors': EulerErrors, \n",
    "    'ss_time': ss_time}\n",
    "    \n",
    "\n",
    "    return ss_output"
   ]
  },
  {
   "cell_type": "code",
   "execution_count": 42,
   "metadata": {},
   "outputs": [
    {
     "name": "stdout",
     "output_type": "stream",
     "text": [
      "(79,)\n"
     ]
    },
    {
     "data": {
      "text/plain": [
       "11.399999999999997"
      ]
     },
     "execution_count": 42,
     "metadata": {},
     "output_type": "execute_result"
    }
   ],
   "source": [
    "bvec = \\\n",
    "    np.array([-0.01, 0.1, 0.2, 0.23, 0.25, 0.23, 0.2, 0.1,\n",
    "    -0.01, 0.1, 0.2, 0.23, 0.25, 0.23, 0.2, 0.1,\n",
    "    -0.01, 0.1, 0.2, 0.23, 0.25, 0.23, 0.2, 0.1,\n",
    "    -0.01, 0.1, 0.2, 0.23, 0.25, 0.23, 0.2, 0.1,\n",
    "    -0.01, 0.1, 0.2, 0.23, 0.25, 0.23, 0.2, 0.1,\n",
    "    -0.01, 0.1, 0.2, 0.23, 0.25, 0.23, 0.2, 0.1,\n",
    "    -0.01, 0.1, 0.2, 0.23, 0.25, 0.23, 0.2, 0.1,\n",
    "    0.1, 0.1, 0.1, 0.1, 0.1, 0.1, 0.1, 0.1,\n",
    "    0.1, 0.1, 0.1, 0.1, 0.1, 0.1, 0.1, 0.1,\n",
    "    0.1, 0.1, 0.1, 0.1, 0.1, 0.1, 0.1])\n",
    "\n",
    "print(bvec.shape)\n",
    "np.sum(bvec)"
   ]
  },
  {
   "cell_type": "code",
   "execution_count": 45,
   "metadata": {},
   "outputs": [
    {
     "name": "stdout",
     "output_type": "stream",
     "text": [
      "nvec is  [1.  1.  1.  1.  1.  1.  1.  1.  1.  1.  1.  1.  1.  1.  1.  1.  1.  1.\n",
      " 1.  1.  1.  1.  1.  1.  1.  1.  1.  1.  1.  1.  1.  1.  1.  1.  1.  1.\n",
      " 1.  1.  1.  1.  1.  1.  1.  1.  1.  1.  1.  1.  1.  1.  1.  1.  1.  1.\n",
      " 0.2 0.2 0.2 0.2 0.2 0.2 0.2 0.2 0.2 0.2 0.2 0.2 0.2 0.2 0.2 0.2 0.2 0.2\n",
      " 0.2 0.2 0.2 0.2 0.2 0.2 0.2 0.2]\n",
      "running solve\n"
     ]
    },
    {
     "name": "stderr",
     "output_type": "stream",
     "text": [
      "/anaconda3/lib/python3.7/site-packages/ipykernel_launcher.py:77: DeprecationWarning: time.clock has been deprecated in Python 3.3 and will be removed from Python 3.8: use time.perf_counter or time.process_time instead\n"
     ]
    },
    {
     "name": "stdout",
     "output_type": "stream",
     "text": [
      "b_ss is  [ 0.06305282  0.12998531  0.20094373  0.27607994  0.35555157  0.43952227\n",
      "  0.52816194  0.62164696  0.72016043  0.82389244  0.93304031  1.04780892\n",
      "  1.16841095  1.29506718  1.42800683  1.56746784  1.71369724  1.86695149\n",
      "  2.02749681  2.19560959  2.37157675  2.55569615  2.74827704  2.94964042\n",
      "  3.16011956  3.38006044  3.60982222  3.84977777  4.10031417  4.36183327\n",
      "  4.63475225  4.91950419  5.21653869  5.52632248  5.84934012  6.18609462\n",
      "  6.5371082   6.90292297  7.28410172  7.68122872  8.09491049  8.52577671\n",
      "  8.97448106  9.44170213  9.92814442 10.43453928 10.96164595 11.51025261\n",
      " 12.08117753 12.67527015 13.29341232 13.93651952 14.60554212 15.30146677\n",
      " 14.93260314 14.55106182 14.1563578  13.74798761 13.32542855 12.88813801\n",
      " 12.43555269 11.9670878  11.48213627 10.98006786 10.46022833  9.92193847\n",
      "  9.36449317  8.78716047  8.18918045  7.56976425  6.92809292  6.26331628\n",
      "  5.57455175  4.86088307  4.12135906  3.35499228  2.56075762  1.73759088\n",
      "  0.88438731]\n",
      "c_ss is  [1.30284038 1.30136504 1.29989137 1.29841936 1.29694903 1.29548036\n",
      " 1.29401335 1.29254801 1.29108432 1.28962229 1.28816192 1.2867032\n",
      " 1.28524613 1.28379071 1.28233694 1.28088482 1.27943434 1.2779855\n",
      " 1.27653831 1.27509275 1.27364883 1.27220655 1.27076589 1.26932687\n",
      " 1.26788948 1.26645372 1.26501958 1.26358707 1.26215618 1.26072691\n",
      " 1.25929926 1.25787322 1.2564488  1.25502599 1.2536048  1.25218521\n",
      " 1.25076723 1.24935086 1.24793609 1.24652292 1.24511135 1.24370138\n",
      " 1.24229301 1.24088623 1.23948105 1.23807745 1.23667545 1.23527503\n",
      " 1.2338762  1.23247896 1.23108329 1.22968921 1.22829671 1.22690578\n",
      " 1.22551642 1.22412864 1.22274244 1.2213578  1.21997473 1.21859322\n",
      " 1.21721328 1.21583491 1.21445809 1.21308283 1.21170913 1.21033699\n",
      " 1.2089664  1.20759736 1.20622987 1.20486393 1.20349954 1.20213669\n",
      " 1.20077539 1.19941563 1.1980574  1.19670072 1.19534557 1.19399195\n",
      " 1.19263987 1.19128932]\n",
      "LSS is 59.2\n",
      "It took 0.9 seconds to solve the OLG model\n"
     ]
    },
    {
     "name": "stderr",
     "output_type": "stream",
     "text": [
      "/anaconda3/lib/python3.7/site-packages/ipykernel_launcher.py:97: DeprecationWarning: time.clock has been deprecated in Python 3.3 and will be removed from Python 3.8: use time.perf_counter or time.process_time instead\n"
     ]
    }
   ],
   "source": [
    "### Standard retirement\n",
    "\n",
    "S= 80\n",
    "nvec = np.ones(S)\n",
    "index = round(2*S/3)+1\n",
    "nvec[index:] = 0.2\n",
    "print(\"nvec is \", nvec)\n",
    "params = nvec, A, α, δ, β, S\n",
    "result = get_SS(params, bvec, False)\n",
    "\n"
   ]
  },
  {
   "cell_type": "code",
   "execution_count": 46,
   "metadata": {},
   "outputs": [
    {
     "name": "stdout",
     "output_type": "stream",
     "text": [
      "nvec_early is  [1.  1.  1.  1.  1.  1.  1.  1.  1.  1.  1.  1.  1.  1.  1.  1.  1.  1.\n",
      " 1.  1.  1.  1.  1.  1.  1.  1.  1.  1.  1.  1.  1.  1.  1.  1.  1.  1.\n",
      " 1.  1.  1.  1.  0.2 0.2 0.2 0.2 0.2 0.2 0.2 0.2 0.2 0.2 0.2 0.2 0.2 0.2\n",
      " 0.2 0.2 0.2 0.2 0.2 0.2 0.2 0.2 0.2 0.2 0.2 0.2 0.2 0.2 0.2 0.2 0.2 0.2\n",
      " 0.2 0.2 0.2 0.2 0.2 0.2 0.2 0.2]\n",
      "running solve\n"
     ]
    },
    {
     "name": "stderr",
     "output_type": "stream",
     "text": [
      "/anaconda3/lib/python3.7/site-packages/ipykernel_launcher.py:77: DeprecationWarning: time.clock has been deprecated in Python 3.3 and will be removed from Python 3.8: use time.perf_counter or time.process_time instead\n"
     ]
    },
    {
     "name": "stdout",
     "output_type": "stream",
     "text": [
      "b_ss is  [ 0.12750186  0.26877057  0.42394716  0.59317577  0.77660375  0.97438164\n",
      "  1.18666326  1.41360578  1.65536971  1.91211899  2.18402106  2.47124688\n",
      "  2.77397097  3.09237154  3.42663045  3.77693334  4.14346965  4.52643272\n",
      "  4.92601977  5.34243208  5.77587492  6.22655773  6.69469412  7.18050193\n",
      "  7.68420335  8.20602495  8.74619773  9.30495725  9.88254364 10.47920172\n",
      " 11.09518106 11.73073603 12.38612593 13.06161499 13.75747256 14.47397307\n",
      " 15.2113962  15.97002694 16.75015566 17.55207821 17.10917075 16.66717719\n",
      " 16.22604588 15.78572483 15.3461617  14.9073038  14.46909804 14.03149098\n",
      " 13.59442876 13.15785714 12.72172146 12.28596662 11.8505371  11.41537693\n",
      " 10.98042966 10.54563841 10.11094578  9.67629388  9.24162434  8.80687824\n",
      "  8.37199615  7.93691806  7.50158346  7.06593121  6.62989962  6.1934264\n",
      "  5.75644864  5.3189028   4.88072472  4.44184957  4.00221184  3.56174537\n",
      "  3.12038329  2.67805799  2.23470117  1.79024375  1.34461593  0.89774709\n",
      "  0.44956585]\n",
      "c_ss is  [1.45615469 1.44455041 1.4330386  1.42161854 1.41028948 1.3990507\n",
      " 1.38790149 1.37684112 1.3658689  1.35498412 1.34418607 1.33347408\n",
      " 1.32284746 1.31230552 1.30184759 1.291473   1.28118109 1.27097119\n",
      " 1.26084266 1.25079484 1.2408271  1.23093879 1.22112928 1.21139795\n",
      " 1.20174416 1.19216731 1.18266677 1.17324195 1.16389224 1.15461703\n",
      " 1.14541574 1.13628778 1.12723255 1.11824949 1.10933802 1.10049757\n",
      " 1.09172756 1.08302744 1.07439666 1.06583466 1.05734088 1.0489148\n",
      " 1.04055586 1.03226354 1.0240373  1.01587662 1.00778097 0.99974983\n",
      " 0.9917827  0.98387905 0.9760384  0.96826022 0.96054403 0.95288933\n",
      " 0.94529564 0.93776246 0.93028931 0.92287571 0.9155212  0.90822529\n",
      " 0.90098753 0.89380745 0.88668458 0.87961848 0.87260869 0.86565476\n",
      " 0.85875624 0.8519127  0.8451237  0.8383888  0.83170758 0.82507959\n",
      " 0.81850443 0.81198166 0.80551088 0.79909166 0.79272359 0.78640628\n",
      " 0.78013931 0.77392228]\n",
      "LSS is 48.00000000000001\n",
      "It took 1.1 seconds to solve the OLG model\n"
     ]
    },
    {
     "name": "stderr",
     "output_type": "stream",
     "text": [
      "/anaconda3/lib/python3.7/site-packages/ipykernel_launcher.py:97: DeprecationWarning: time.clock has been deprecated in Python 3.3 and will be removed from Python 3.8: use time.perf_counter or time.process_time instead\n"
     ]
    }
   ],
   "source": [
    "\n",
    "### Early retirement\n",
    "nvec = np.ones(S)\n",
    "nvec[40:] = 0.2\n",
    "print(\"nvec_early is \", nvec)\n",
    "params = nvec, A, α, δ, β, S\n",
    "result_early = get_SS(params, bvec, False)"
   ]
  },
  {
   "cell_type": "code",
   "execution_count": 51,
   "metadata": {},
   "outputs": [
    {
     "data": {
      "text/plain": [
       "<function matplotlib.pyplot.show(*args, **kw)>"
      ]
     },
     "execution_count": 51,
     "metadata": {},
     "output_type": "execute_result"
    },
    {
     "data": {
      "image/png": "[encoded data removed]",
      "text/plain": [
       "<Figure size 432x288 with 1 Axes>"
      ]
     },
     "metadata": {
      "needs_background": "light"
     },
     "output_type": "display_data"
    }
   ],
   "source": [
    "plt.plot(result['b_ss'], label=\"Savings\")\n",
    "plt.plot(result_early['b_ss'], label=\"Savings early retirement\")\n",
    "plt.title('Distribution of savings by age')\n",
    "plt.legend()\n",
    "plt.show"
   ]
  },
  {
   "cell_type": "code",
   "execution_count": 50,
   "metadata": {},
   "outputs": [
    {
     "data": {
      "text/plain": [
       "<function matplotlib.pyplot.show(*args, **kw)>"
      ]
     },
     "execution_count": 50,
     "metadata": {},
     "output_type": "execute_result"
    },
    {
     "data": {
      "image/png": "[encoded data removed]",
      "text/plain": [
       "<Figure size 432x288 with 1 Axes>"
      ]
     },
     "metadata": {
      "needs_background": "light"
     },
     "output_type": "display_data"
    }
   ],
   "source": [
    "plt.plot(result['c_ss'], label=\"Consumption\")\n",
    "plt.plot(result_early['c_ss'], label=\"Consumption Early retirement\")\n",
    "plt.legend()\n",
    "plt.title('Distribution of Consumption by age')\n",
    "plt.show"
   ]
  },
  {
   "cell_type": "code",
   "execution_count": 53,
   "metadata": {},
   "outputs": [
    {
     "name": "stdout",
     "output_type": "stream",
     "text": [
      "1.3658932020704153\n",
      "0.0381319101218989\n",
      "1.5836565519646952\n",
      "0.016961075029896744\n"
     ]
    }
   ],
   "source": [
    "print(result[\"w_ss\"])\n",
    "print(result[\"r_ss\"])\n",
    "print(result_early[\"w_ss\"])\n",
    "print(result_early[\"r_ss\"])"
   ]
  },
  {
   "cell_type": "markdown",
   "metadata": {},
   "source": [
    "When individuals retire early the wage increase because the labor supply decreases. On the other hand, the interest rate decreases because people want to save more as they are forward looking and planning their retirement"
   ]
  },
  {
   "cell_type": "code",
   "execution_count": null,
   "metadata": {},
   "outputs": [],
   "source": []
  }
 ],
 "metadata": {
  "kernelspec": {
   "display_name": "Python 3",
   "language": "python",
   "name": "python3"
  },
  "language_info": {
   "codemirror_mode": {
    "name": "ipython",
    "version": 3
   },
   "file_extension": ".py",
   "mimetype": "text/x-python",
   "name": "python",
   "nbconvert_exporter": "python",
   "pygments_lexer": "ipython3",
   "version": "3.7.3"
  }
 },
 "nbformat": 4,
 "nbformat_minor": 2
}
