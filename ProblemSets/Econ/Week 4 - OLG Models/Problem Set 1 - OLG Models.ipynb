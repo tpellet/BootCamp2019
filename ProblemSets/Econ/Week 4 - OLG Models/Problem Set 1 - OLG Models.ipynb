{
 "cells": [
  {
   "cell_type": "markdown",
   "metadata": {},
   "source": [
    "# Problem Set 4: Overlapping Generations Models\n",
    "## Thomas Pellet\n",
    "### Week 4 - OSE Lab\n"
   ]
  },
  {
   "cell_type": "code",
   "execution_count": null,
   "metadata": {},
   "outputs": [],
   "source": [
    "# Example\n",
    "\n",
    "def get_L(n1, n2, n3):\n",
    "    '''\n",
    "    -----------------\n",
    "    Labor Market clearing\n",
    "    '''\n",
    "    L = n1 + n2 + n3\n",
    "    return L\n",
    "\n",
    "def get_K(b2, b3):\n",
    "    K = b2 + b3\n",
    "    return K\n",
    "\n",
    "def get_r(b2, b3, params):\n",
    "    α, A, δ = params\n",
    "    r = \n",
    "    return r\n",
    "    \n",
    "    \n",
    "def get_w(b2, b3)"
   ]
  },
  {
   "cell_type": "markdown",
   "metadata": {},
   "source": [
    "#### Exercise 2.1"
   ]
  },
  {
   "cell_type": "code",
   "execution_count": 184,
   "metadata": {},
   "outputs": [],
   "source": [
    "import numpy as np\n",
    "from scipy.optimize import root\n",
    "\n",
    "\n",
    "β, A, α, δ, σ = .96**20,1,.35,.6415, 3\n",
    "nvec = np.array([1,1,0.2])\n",
    "f_params = (nvec, A, α, δ, β)\n",
    "\n",
    "\n",
    "# Return on labor\n",
    "w = lambda b2, b3: (1-α)*A*((b2 + b3)/np.sum(nvec))**α\n",
    "\n",
    "# Return on capital\n",
    "r = lambda b2, b3: (α)*A*(np.sum(nvec)/(b2 + b3))**(1-α) - δ\n",
    "\n",
    "# Uprime\n",
    "uprime = lambda c: c**(-σ)\n",
    "\n",
    "def SS(X):\n",
    "    b2, b3 = X\n",
    "\n",
    "    return [uprime(w(b2,b3)*nvec[0] - b2) - β*(1 + r(b2,b3))*uprime(w(b2,b3)*nvec[1] + \\\n",
    "            (1 + r(b2,b3))*b2 - b3), \\\n",
    "           uprime(w(b2,b3)*nvec[1] + (1 + r(b2,b3))*b2 - b3) - β*(1 + r(b2,b3))* \\\n",
    "           uprime((1 + r(b2,b3))*b3 + nvec[2]*w(b2,b3))]\n",
    "    \n",
    "def solveSS(bvec_guess):\n",
    "    \n",
    "    solve = root(SS,bvec_guess)\n",
    "    b2_ss, b3_ss = solve.x\n",
    "    \n",
    "    k = b2_ss + b3_ss\n",
    "    c1 = nvec[0]*w(b2_ss,b3_ss) - b2_ss\n",
    "    c2 = nvec[1]*w(b2_ss,b3_ss) + (1+r(b2_ss,b3_ss))*b2_ss -b3_ss\n",
    "    c3 = nvec[2]*w(b2_ss,b3_ss) + (1+r(b2_ss,b3_ss))*b3_ss\n",
    "    \n",
    "    return b2_ss, b3_ss, c1, c2, c3, k\n",
    "    \n",
    "\n",
    "def feasible(f_params, bvec_guess):\n",
    "    \n",
    "    #Initiate vector of outputs\n",
    "    b_cnstr = np.empty([2,], dtype='bool_')\n",
    "    c_cnstr = np.empty([3,], dtype='bool_')\n",
    "    K_cnstr = np.empty([1,], dtype='bool_')\n",
    "    K_cnstr[0] = False\n",
    "    c = np.empty([3,], dtype='float')\n",
    "    \n",
    "\n",
    "    b2_ss, b3_ss, c1, c2, c3, k = solveSS(bvec_guess)\n",
    "    print(\"B2 \",b2_ss, \"B3 \", b3_ss)\n",
    "    c = np.array([c1,c2,c3])\n",
    "    print(c)\n",
    "    if k <= 0:\n",
    "        K_cnstr[0] = True\n",
    "    \n",
    "    for i, item in enumerate(c):\n",
    "        if item <= 0:\n",
    "            c_cnstr[i] = True           \n",
    "        else:\n",
    "            c_cnstr[i] = False\n",
    "    \n",
    "    b_cnstr[:] = False\n",
    "    if   c_cnstr[0] == True:\n",
    "        b_cnstr[0] = True\n",
    "        \n",
    "    elif c_cnstr[1] == True:\n",
    "        b_cnstr[0] = True\n",
    "        b_cnstr[1] = True\n",
    "        \n",
    "    elif c_cnstr[2] == True:\n",
    "        b_cnstr[1] = True\n",
    "    print(\" \\t \\t Period 1 \", \"Period 2 \", \"Period 3 \\n\",\"C constrained \\t\", c_cnstr[0], \"\\t\", c_cnstr[1], \"\\t\", c_cnstr[2], \"\\n\", \"B constrained \\t\", b_cnstr[0], \"\\t\", b_cnstr[1])\n",
    "    \n",
    "    return b_cnstr, c_cnstr, K_cnstr\n",
    "\n",
    "\n",
    "\n",
    "\n",
    "    "
   ]
  },
  {
   "cell_type": "code",
   "execution_count": 185,
   "metadata": {},
   "outputs": [
    {
     "name": "stdout",
     "output_type": "stream",
     "text": [
      "B2  1.9468539249297103e+46 B3  4.191494645495242e+45\n",
      "[-1.94685392e+46  2.78797668e+45  1.50265083e+45]\n",
      " \t \t Period 1  Period 2  Period 3 \n",
      " C constrained \t True \t False \t False \n",
      " B constrained \t True \t False\n"
     ]
    }
   ],
   "source": [
    "bvec_guess = np.array([1.0, 1.2])\n",
    "result = feasible(f_params, bvec_guess)"
   ]
  },
  {
   "cell_type": "code",
   "execution_count": 186,
   "metadata": {},
   "outputs": [
    {
     "name": "stdout",
     "output_type": "stream",
     "text": [
      "B2  0.06 B3  -0.001\n",
      "[0.12317391 0.42635236 0.03259848]\n",
      " \t \t Period 1  Period 2  Period 3 \n",
      " C constrained \t False \t False \t False \n",
      " B constrained \t False \t False\n"
     ]
    },
    {
     "name": "stderr",
     "output_type": "stream",
     "text": [
      "C:\\ProgramData\\Anaconda3\\lib\\site-packages\\ipykernel_launcher.py:11: RuntimeWarning: invalid value encountered in double_scalars\n",
      "  # This is added back by InteractiveShellApp.init_path()\n",
      "C:\\ProgramData\\Anaconda3\\lib\\site-packages\\ipykernel_launcher.py:14: RuntimeWarning: invalid value encountered in double_scalars\n",
      "  \n"
     ]
    }
   ],
   "source": [
    "bvec_guess = np.array([0.06, -0.001])\n",
    "result = feasible(f_params, bvec_guess)"
   ]
  },
  {
   "cell_type": "code",
   "execution_count": 187,
   "metadata": {},
   "outputs": [
    {
     "name": "stdout",
     "output_type": "stream",
     "text": [
      "B2  0.01931271933217477 B3  0.05841151349308521\n",
      "[0.18241249 0.20961516 0.2408745 ]\n",
      " \t \t Period 1  Period 2  Period 3 \n",
      " C constrained \t False \t False \t False \n",
      " B constrained \t False \t False\n"
     ]
    }
   ],
   "source": [
    "bvec_guess = np.array([0.1, 0.1])\n",
    "result = feasible(f_params, bvec_guess)"
   ]
  },
  {
   "cell_type": "markdown",
   "metadata": {},
   "source": [
    "### Exercise 2.2"
   ]
  },
  {
   "cell_type": "code",
   "execution_count": 188,
   "metadata": {},
   "outputs": [],
   "source": [
    "import time\n",
    "from matplotlib import pyplot as plt\n",
    "\n",
    "\n",
    "\n",
    "def get_SS(params, bvec_guess, SS_graphs):\n",
    "    β, A, α, δ, σ, nvec, L, SS_tol = params\n",
    "    start_time = time.clock()\n",
    "    EulErr_ss = np.empty([2,], dtype='float')\n",
    "    \n",
    "    b2_ss, b3_ss, c1, c2, c3, K_ss = solveSS(bvec_guess)\n",
    "    b_ss = np.array([b2_ss,b3_ss])\n",
    "    c_ss = np.array([c1,c2,c3])\n",
    "    C_ss = c1 + c2 + c3\n",
    "    Y_ss = A*K_ss**α*L**(1-α)\n",
    "    w_ss = w(b2_ss,b3_ss)\n",
    "    r_ss = r(b2_ss,b3_ss)\n",
    "    EulErr_ss = SS([b2_ss,b3_ss]) \n",
    "    RCerr_ss = Y_ss - C_ss - δ*K_ss\n",
    "      \n",
    "    ss_time = time.clock() - start_time # Place at end of get_SS()\n",
    "  \n",
    "    ss_output = {\n",
    "    'b_ss': b_ss, 'c_ss': c_ss, 'w_ss': w_ss, 'r_ss': r_ss,\n",
    "    'K_ss': K_ss, 'Y_ss': Y_ss, 'C_ss': C_ss,\n",
    "    'EulErr_ss': EulErr_ss, 'RCerr_ss': RCerr_ss,\n",
    "    'ss_time': ss_time}\n",
    "    \n",
    "    if SS_graphs == True:\n",
    "        plt.plot([20,40,60], ss_output['c_ss'], '-r')\n",
    "        plt.title('Consumption distribution')\n",
    "        plt.show()\n",
    "        plt.plot([40,60],ss_output['b_ss'],'-g')\n",
    "        plt.title('Savings distribution')\n",
    "        plt.show()\n",
    "        \n",
    "    \n",
    "    return ss_output\n",
    "    \n",
    "    \n",
    "    \n"
   ]
  },
  {
   "cell_type": "code",
   "execution_count": 7,
   "metadata": {},
   "outputs": [
    {
     "name": "stderr",
     "output_type": "stream",
     "text": [
      "C:\\ProgramData\\Anaconda3\\lib\\site-packages\\ipykernel_launcher.py:8: DeprecationWarning: time.clock has been deprecated in Python 3.3 and will be removed from Python 3.8: use time.perf_counter or time.process_time instead\n",
      "  \n",
      "C:\\ProgramData\\Anaconda3\\lib\\site-packages\\ipykernel_launcher.py:21: DeprecationWarning: time.clock has been deprecated in Python 3.3 and will be removed from Python 3.8: use time.perf_counter or time.process_time instead\n"
     ]
    },
    {
     "data": {
      "image/png": "[encoded data removed]",
      "text/plain": [
       "<Figure size 432x288 with 1 Axes>"
      ]
     },
     "metadata": {
      "needs_background": "light"
     },
     "output_type": "display_data"
    },
    {
     "data": {
      "image/png": "[encoded data removed]",
      "text/plain": [
       "<Figure size 432x288 with 1 Axes>"
      ]
     },
     "metadata": {
      "needs_background": "light"
     },
     "output_type": "display_data"
    }
   ],
   "source": [
    "L = np.sum(nvec)\n",
    "SS_tol = 1e10-5\n",
    "params = β, A, α, δ, σ, nvec, L, SS_tol\n",
    "bvec_guess = np.array([0.1, 0.1])\n",
    "SS_graphs = True\n",
    "ss_output = get_SS(params, bvec_guess, SS_graphs)"
   ]
  },
  {
   "cell_type": "code",
   "execution_count": 8,
   "metadata": {},
   "outputs": [
    {
     "name": "stdout",
     "output_type": "stream",
     "text": [
      "{'b_ss': array([0.01931272, 0.05841151]), 'c_ss': array([0.18241249, 0.20961516, 0.2408745 ]), 'w_ss': 0.20172520884942252, 'r_ss': 2.4330467299114265, 'K_ss': 0.07772423282525998, 'Y_ss': 0.682762245336507, 'C_ss': 0.6329021499791027, 'EulErr_ss': [-1.3926637620897964e-12, 2.6432189770275727e-12], 'RCerr_ss': 4.85722573273506e-17, 'ss_time': 0.0023334000000012622}\n"
     ]
    }
   ],
   "source": [
    "print(ss_output)"
   ]
  },
  {
   "cell_type": "code",
   "execution_count": 9,
   "metadata": {},
   "outputs": [
    {
     "name": "stderr",
     "output_type": "stream",
     "text": [
      "C:\\ProgramData\\Anaconda3\\lib\\site-packages\\ipykernel_launcher.py:8: DeprecationWarning: time.clock has been deprecated in Python 3.3 and will be removed from Python 3.8: use time.perf_counter or time.process_time instead\n",
      "  \n",
      "C:\\ProgramData\\Anaconda3\\lib\\site-packages\\ipykernel_launcher.py:21: DeprecationWarning: time.clock has been deprecated in Python 3.3 and will be removed from Python 3.8: use time.perf_counter or time.process_time instead\n"
     ]
    },
    {
     "data": {
      "image/png": "[encoded data removed]",
      "text/plain": [
       "<Figure size 432x288 with 1 Axes>"
      ]
     },
     "metadata": {
      "needs_background": "light"
     },
     "output_type": "display_data"
    },
    {
     "data": {
      "image/png": "[encoded data removed]",
      "text/plain": [
       "<Figure size 432x288 with 1 Axes>"
      ]
     },
     "metadata": {
      "needs_background": "light"
     },
     "output_type": "display_data"
    }
   ],
   "source": [
    "L = np.sum(nvec)\n",
    "SS_tol = 1e10-5\n",
    "β = 0.55\n",
    "params = β, A, α, δ, σ, nvec, L, SS_tol\n",
    "bvec_guess = np.array([0.1, 0.1])\n",
    "SS_graphs = True\n",
    "ss_output = get_SS(params, bvec_guess, SS_graphs)"
   ]
  },
  {
   "cell_type": "markdown",
   "metadata": {},
   "source": [
    "If $\\beta$ increases, agents save more because they are more patient and consume more because the return on capital is higher. The saving rate however is higher."
   ]
  },
  {
   "cell_type": "markdown",
   "metadata": {},
   "source": [
    "#### Exercise 2.3"
   ]
  },
  {
   "cell_type": "code",
   "execution_count": 222,
   "metadata": {},
   "outputs": [],
   "source": [
    "import numpy as np\n",
    "from scipy.optimize import root\n",
    "nvec = np.array([1.0, 1.0, 0.2])\n",
    "L = np.sum(nvec)\n",
    "tol = 1e-7\n",
    "T = 50\n",
    "ξ = 0.2\n",
    "bvec_guess = np.array([0.1, 0.1])\n",
    "β, A, α, δ, σ = .96**20,1,.35,.6415, 3\n",
    "\n",
    "def uprime(c):\n",
    "    if c > 0: \n",
    "        return c**(-σ)\n",
    "    else:\n",
    "        return 5000\n",
    "\n",
    "\n",
    "def euleryoung(X, *params):\n",
    "    #print(\"params\", params)\n",
    "    b2, b3 = X\n",
    "    w1,w2,w3,r1,r2,r3 = params\n",
    "    # Problem for the young\n",
    "    error1 = uprime(w1 - b2) - β*(1+r2)*uprime(w2 + (1+r2)*b2 - b3)\n",
    "    error2 = uprime(w2 + (1+r2)*b2 - b3) - β*(1+r3)*uprime((1+r3)*b3+0.2*w3)\n",
    "\n",
    "    error = [error1, error2]\n",
    "\n",
    "    return error\n",
    "    \n",
    "\n",
    "def eulerma(X,*params):\n",
    "    b3 = X\n",
    "    w1,w2,r1,r2,b2 = params\n",
    "    # Problem for the middle aged\n",
    "    error = uprime(w1 + (1+r1)*b2 - b3) - β*(1+r2)*uprime((1+r2)*b3+0.2*w2)\n",
    "    return error\n",
    "\n",
    "# Return on labor\n",
    "w_f = lambda b2, b3: (1-α)*A*((b2 + b3)/L)**α\n",
    "\n",
    "# Return on capital\n",
    "r_f = lambda b2, b3: α*A*(L/(b2 + b3))**(1-α) - δ\n",
    "\n",
    "\n",
    "def TPI(tol,T,w_f,r_f,euleryoung,eulerma,L,nvec):\n",
    "    \n",
    "    params = β, A, α, δ, σ, nvec, L, SS_tol\n",
    "    ss_output = get_SS(params, bvec_guess, False)\n",
    "    print(\"Steady state savings: \", ss_output['b_ss'])\n",
    "    bvec_init = np.array([ss_output['b_ss'][0]*0.8, \\\n",
    "                           ss_output['b_ss'][0]*1.1])\n",
    "    \n",
    "    K_init = np.sum(bvec_init)\n",
    "    print(\"Initial Capital: \", K_init)\n",
    "\n",
    "    #Linear guess for path of aggregate capital\n",
    "    K = np.zeros(T+6)\n",
    "    K[0:T] = np.linspace(K_init,ss_output['K_ss'],T)\n",
    "    K[T:T+7] = ss_output['K_ss']\n",
    "    \n",
    "    plt.plot(range(T+6),K)\n",
    "    plt.title(\"Initial path for capital\")\n",
    "    plt.show\n",
    "    \n",
    "    b = np.empty([T+6,2])\n",
    "    W = np.empty([T+6,1])\n",
    "    R = np.empty([T+6,1])\n",
    "    C = np.empty([T+6,2])\n",
    "    Y = np.empty([T+6,2])\n",
    "    ProdErr = np.empty([T+6,2])\n",
    "    EulerErr = np.empty([T+6,2])\n",
    "    # Iterate over the K path\n",
    "    while True:\n",
    "        # Update prices\n",
    "        W = w_f(K/2,K/2)\n",
    "        R = r_f(K/2,K/2)\n",
    "        \n",
    "        #Solve the Middle Age problem\n",
    "        params = W[0],W[1],R[0],R[1],b[0,0]\n",
    "        b[1,1] = root(eulerma,b[0,1],args=(params)).x\n",
    "        print(\"Initial savings\",  b[1,1])\n",
    "        # Time Path Iteration\n",
    "        for i,item in enumerate(K[:T+4]):\n",
    "            #print(\"period \", i)\n",
    "            paramyoung = W[i],W[i+1],W[i+2],R[i],R[i+1],R[i+2]\n",
    "            guess = [b[i,0],b[i+1,1]]\n",
    "            solve = root(euleryoung,guess,args=(paramyoung)).x\n",
    "            b[i+1,0], b[i+2,1] = solve\n",
    "            #print(\"Updated savings rule\", b[i+1,0], b[i+2,1])\n",
    "#             C[i,0] =  W[i] + (1+R[i])*b[i,0] - b[i+1,1]\n",
    "#             C[i,1] =  0.2*W[i] + (1+R[i])*b[i,1]\n",
    "#             Y[i] = A*K[i]**α*L**(1-α)\n",
    "#             ProdErr[i] = Y[i] - np.sum(C[i,:]) - b[i+1,0] - b[i+1,1] + (1-δ)*(b[i,0] - b[i,1])\n",
    "\n",
    "        \n",
    "        Knew = np.sum(b,axis=1)\n",
    "        #print(\"Updated Capital Path: \", Knew)\n",
    "        #print(abs(Knew - K))\n",
    "        ϵ = np.sum(abs(Knew - K),axis=0)\n",
    "        print(ϵ)\n",
    "        if ϵ < tol:\n",
    "            print(\"Converged\")\n",
    "            print(ϵ)\n",
    "            break\n",
    "        \n",
    "        # Update the path of capital\n",
    "        else: K = ξ*Knew + (1-ξ)*K\n",
    "    \n",
    "    TPI_output = {\n",
    "    'b': b, 'W': W, 'R': R,\n",
    "    'K': K}\n",
    "#     'EulErr': EulErr, 'ProdErr': ProdErr}\n",
    "    return TPI_output\n",
    "\n",
    "        "
   ]
  },
  {
   "cell_type": "code",
   "execution_count": 223,
   "metadata": {},
   "outputs": [
    {
     "name": "stderr",
     "output_type": "stream",
     "text": [
      "C:\\ProgramData\\Anaconda3\\lib\\site-packages\\ipykernel_launcher.py:8: DeprecationWarning: time.clock has been deprecated in Python 3.3 and will be removed from Python 3.8: use time.perf_counter or time.process_time instead\n",
      "  \n",
      "C:\\ProgramData\\Anaconda3\\lib\\site-packages\\ipykernel_launcher.py:21: DeprecationWarning: time.clock has been deprecated in Python 3.3 and will be removed from Python 3.8: use time.perf_counter or time.process_time instead\n"
     ]
    },
    {
     "name": "stdout",
     "output_type": "stream",
     "text": [
      "Steady state savings:  [0.01931272 0.05841151]\n",
      "Initial Capital:  0.036694166731132065\n",
      "Initial savings 6.93040574495e-312\n",
      "3.326805385861361\n",
      "Initial savings 6.93040574495e-312\n",
      "2.661444308689089\n",
      "Initial savings 6.93040574495e-312\n",
      "2.1291554469512715\n",
      "Initial savings 6.93040574495e-312\n",
      "1.7033243575610169\n",
      "Initial savings 6.93040574495e-312\n",
      "1.3626594860488137\n",
      "Initial savings 6.93040574495e-312\n",
      "1.090127588839051\n",
      "Initial savings 6.93040574495e-312\n",
      "0.8721020710712408\n",
      "Initial savings 6.93040574495e-312\n",
      "0.6976816568569927\n",
      "Initial savings 6.93040574495e-312\n",
      "0.5581453254855941\n",
      "Initial savings 6.93040574495e-312\n",
      "0.44651626038847536\n",
      "Initial savings 6.93040574495e-312\n",
      "0.3572130083107803\n",
      "Initial savings 6.93040574495e-312\n",
      "0.28577040664862424\n",
      "Initial savings 6.93040574495e-312\n",
      "0.22861632531889942\n",
      "Initial savings 6.93040574495e-312\n",
      "0.18289306025511956\n",
      "Initial savings 6.93040574495e-312\n",
      "0.14631444820409564\n",
      "Initial savings 6.93040574495e-312\n",
      "0.11705155856327652\n",
      "Initial savings 6.93040574495e-312\n",
      "0.09364124685062122\n",
      "Initial savings 6.93040574495e-312\n",
      "0.07491299748049698\n",
      "Initial savings 6.93040574495e-312\n",
      "0.059930397984397595\n",
      "Initial savings 6.93040574495e-312\n",
      "0.04794431838751808\n",
      "Initial savings 6.93040574495e-312\n",
      "0.03835545471001446\n",
      "Initial savings 6.93040574495e-312\n",
      "0.03068436376801157\n",
      "Initial savings 6.93040574495e-312\n",
      "0.024547491014409256\n",
      "Initial savings 6.93040574495e-312\n",
      "0.019637992811527408\n",
      "Initial savings 6.93040574495e-312\n",
      "0.015710394249221927\n",
      "Initial savings 6.93040574495e-312\n",
      "0.012568315399377543\n",
      "Initial savings 6.93040574495e-312\n",
      "0.010054652319502035\n",
      "Initial savings 6.93040574495e-312\n",
      "0.008043721855601628\n",
      "Initial savings 6.93040574495e-312\n",
      "0.006434977484481302\n",
      "Initial savings 6.93040574495e-312\n",
      "0.005147981987585043\n",
      "Initial savings 6.93040574495e-312\n",
      "0.004118385590068035\n",
      "Initial savings 6.93040574495e-312\n",
      "0.0032947084720544276\n",
      "Initial savings 6.93040574495e-312\n",
      "0.002635766777643542\n",
      "Initial savings 6.93040574495e-312\n",
      "0.002108613422114834\n",
      "Initial savings 6.93040574495e-312\n",
      "0.0016868907376918671\n",
      "Initial savings 6.93040574495e-312\n",
      "0.0013495125901534938\n",
      "Initial savings 6.93040574495e-312\n",
      "0.001079610072122795\n",
      "Initial savings 6.93040574495e-312\n",
      "0.0008636880576982362\n",
      "Initial savings 6.93040574495e-312\n",
      "0.000690950446158589\n",
      "Initial savings 6.93040574495e-312\n",
      "0.0005527603569268712\n",
      "Initial savings 6.93040574495e-312\n",
      "0.00044220828554149695\n",
      "Initial savings 6.93040574495e-312\n",
      "0.00035376662843319756\n",
      "Initial savings 6.93040574495e-312\n",
      "0.0002830133027465581\n",
      "Initial savings 6.93040574495e-312\n",
      "0.00022641064219724647\n",
      "Initial savings 6.93040574495e-312\n",
      "0.00018112851375779717\n",
      "Initial savings 6.93040574495e-312\n",
      "0.00014490281100623776\n",
      "Initial savings 6.93040574495e-312\n",
      "0.00011592224880499022\n",
      "Initial savings 6.93040574495e-312\n",
      "9.273779904399218e-05\n",
      "Initial savings 6.93040574495e-312\n",
      "7.419023923519374e-05\n",
      "Initial savings 6.93040574495e-312\n",
      "5.9352191388154996e-05\n",
      "Initial savings 6.93040574495e-312\n",
      "4.7481753110524005e-05\n",
      "Initial savings 6.93040574495e-312\n",
      "3.7985402488419204e-05\n",
      "Initial savings 6.93040574495e-312\n",
      "3.0388321990735366e-05\n",
      "Initial savings 6.93040574495e-312\n",
      "2.4310657592588295e-05\n",
      "Initial savings 6.93040574495e-312\n",
      "1.9448526074070636e-05\n",
      "Initial savings 6.93040574495e-312\n",
      "1.5558820859256512e-05\n",
      "Initial savings 6.93040574495e-312\n",
      "1.2447056687405209e-05\n",
      "Initial savings 6.93040574495e-312\n",
      "9.957645349924168e-06\n",
      "Initial savings 6.93040574495e-312\n",
      "7.966116279939334e-06\n",
      "Initial savings 6.93040574495e-312\n",
      "6.372893023951467e-06\n",
      "Initial savings 6.93040574495e-312\n",
      "5.098314419161174e-06\n",
      "Initial savings 6.93040574495e-312\n",
      "4.07865153532894e-06\n",
      "Initial savings 6.93040574495e-312\n",
      "3.262921228263152e-06\n",
      "Initial savings 6.93040574495e-312\n",
      "2.6103369826105218e-06\n",
      "Initial savings 6.93040574495e-312\n",
      "2.0882695860884175e-06\n",
      "Initial savings 6.93040574495e-312\n",
      "1.6706156688707342e-06\n",
      "Initial savings 6.93040574495e-312\n",
      "1.3364925350965873e-06\n",
      "Initial savings 6.93040574495e-312\n",
      "1.06919402807727e-06\n",
      "Initial savings 6.93040574495e-312\n",
      "8.55355222461816e-07\n",
      "Initial savings 6.93040574495e-312\n",
      "6.842841779694529e-07\n",
      "Initial savings 6.93040574495e-312\n",
      "5.474273423755623e-07\n",
      "Initial savings 6.93040574495e-312\n",
      "4.3794187390044984e-07\n",
      "Initial savings 6.93040574495e-312\n",
      "3.5035349912035994e-07\n",
      "Initial savings 6.93040574495e-312\n",
      "2.8028279929628795e-07\n",
      "Initial savings 6.93040574495e-312\n",
      "2.2422623943703036e-07\n",
      "Initial savings 6.93040574495e-312\n",
      "1.793809915496243e-07\n",
      "Initial savings 6.93040574495e-312\n",
      "1.4350479323969945e-07\n",
      "Initial savings 6.93040574495e-312\n",
      "1.1480383459175956e-07\n",
      "Initial savings 6.93040574495e-312\n",
      "9.184306767340766e-08\n",
      "Converged\n",
      "9.184306767340766e-08\n"
     ]
    },
    {
     "data": {
      "image/png": "[encoded data removed]",
      "text/plain": [
       "<Figure size 432x288 with 1 Axes>"
      ]
     },
     "metadata": {
      "needs_background": "light"
     },
     "output_type": "display_data"
    }
   ],
   "source": [
    "result = TPI(tol,T,w,r,euleryoung,eulerma, L, nvec)  \n"
   ]
  },
  {
   "cell_type": "code",
   "execution_count": 224,
   "metadata": {},
   "outputs": [
    {
     "data": {
      "text/plain": [
       "<function matplotlib.pyplot.show(*args, **kw)>"
      ]
     },
     "execution_count": 224,
     "metadata": {},
     "output_type": "execute_result"
    },
    {
     "data": {
      "image/png": "[encoded data removed]",
      "text/plain": [
       "<Figure size 432x288 with 1 Axes>"
      ]
     },
     "metadata": {
      "needs_background": "light"
     },
     "output_type": "display_data"
    }
   ],
   "source": [
    "from matplotlib import pyplot as plt\n",
    "plt.plot(range(T+6), result['K'])\n",
    "plt.show\n",
    "\n"
   ]
  },
  {
   "cell_type": "code",
   "execution_count": 220,
   "metadata": {},
   "outputs": [
    {
     "name": "stdout",
     "output_type": "stream",
     "text": [
      "[410196.26131091 404224.18579457 398467.9913936  392915.41332386\n",
      " 387555.12640642 382376.65524705 377370.29463857 372527.03884349\n",
      " 367838.51861356 363296.94496873 358895.05889776 354626.08625955\n",
      " 350483.6972639  346461.96999385 342555.35750356 338758.65808599\n",
      " 335066.98835724 331475.75884849 327980.65183509 324577.60116531\n",
      " 321262.77387983 318032.55343766 314883.52438591 311812.45832913\n",
      " 308816.30107067 305892.16081236 303037.29731154 300249.11190529\n",
      " 297525.13832134 294863.03420373 292260.57328859 289715.63817215\n",
      " 287226.21361892 284790.38036323 282406.3093617  280072.25645875\n",
      " 277786.55743047 275547.62337573 273353.93642625 271204.04574995\n",
      " 269096.56382427 267030.16295819 265003.57204382 263015.57351963\n",
      " 261065.00052966 259150.7342636  257271.70146465 255426.87209264\n",
      " 253615.25713126 251835.90652903 251835.90652903 251835.90652903\n",
      " 251835.90652903 251835.90652903 251835.90652903 251835.90652903]\n"
     ]
    },
    {
     "data": {
      "image/png": "[encoded data removed]",
      "text/plain": [
       "<Figure size 432x288 with 1 Axes>"
      ]
     },
     "metadata": {
      "needs_background": "light"
     },
     "output_type": "display_data"
    }
   ],
   "source": [
    "plt.plot(range(T+6), result['R'])\n",
    "plt.show\n",
    "print(result['R'])"
   ]
  },
  {
   "cell_type": "code",
   "execution_count": 225,
   "metadata": {},
   "outputs": [
    {
     "data": {
      "text/plain": [
       "<function matplotlib.pyplot.show(*args, **kw)>"
      ]
     },
     "execution_count": 225,
     "metadata": {},
     "output_type": "execute_result"
    },
    {
     "data": {
      "image/png": "[encoded data removed]",
      "text/plain": [
       "<Figure size 432x288 with 1 Axes>"
      ]
     },
     "metadata": {
      "needs_background": "light"
     },
     "output_type": "display_data"
    }
   ],
   "source": [
    "plt.plot(range(T+6), result['W'])\n",
    "plt.show"
   ]
  },
  {
   "cell_type": "markdown",
   "metadata": {},
   "source": [
    "#### Exercise 3.2"
   ]
  },
  {
   "cell_type": "code",
   "execution_count": 290,
   "metadata": {},
   "outputs": [],
   "source": [
    "import time\n",
    "from matplotlib import pyplot as plt\n",
    "\n",
    "import numpy as np\n",
    "from scipy.optimize import root\n",
    "\n",
    "S = 80\n",
    "β = 0.96**(80/S)\n",
    "α = 0.35\n",
    "A = 1\n",
    "σ = 3\n",
    "δ = 1 - (1-0.05)*(80/S)\n",
    "nvec = np.ones(S)\n",
    "bvec = np.ones(S)\n",
    "f_params = (nvec, A, α, δ, β)\n",
    "\n",
    "b_all = np.sum(bvec)\n",
    "l_all = np.sum(nvec)\n",
    "\n",
    "# Return on labor\n",
    "def w(bvec, nvec):\n",
    "    b = np.sum(bvec[1:S+1])\n",
    "    n = np.sum(nvec)\n",
    "    \n",
    "    w = (1-α)*A*(b/n)**α\n",
    "    return(w)\n",
    "\n",
    "# Return on capital\n",
    "def r(bvec, nvec):\n",
    "    b = np.sum(bvec[1:S+1])\n",
    "    n = np.sum(nvec)\n",
    "    \n",
    "    r = α*A*(n/b)**(1-α)-δ\n",
    "    return(r)\n",
    "\n",
    "\n",
    "# Uprime\n",
    "def uprime(c):\n",
    "    if c > 0: \n",
    "        return c**(-σ)\n",
    "    else:\n",
    "        return 5000\n",
    "\n",
    "def SS(bvec, *param):\n",
    "    S, nvec = param\n",
    "    \n",
    "    wc = w(bvec, nvec)\n",
    "    #print(\"Wage is \", wc)\n",
    "    rc = r(bvec, nvec)\n",
    "    #print(\"R is \", rc)\n",
    "    Sol = []\n",
    "    \n",
    "    for i in range(S-3):\n",
    "        Soli = uprime(wc*nvec[i] + (1+rc)*bvec[i] - bvec[i+1]) - β*(1+rc)* \\\n",
    "                    uprime(wc*nvec[i+1] + (1+rc)*bvec[i+1] - bvec[i+2])\n",
    "        Sol.append(Soli)\n",
    "        \n",
    "    i = S-3\n",
    "    #print(nvec[i])\n",
    "    #print(bvec[i])\n",
    "    #print(bvec[i+1])\n",
    "    Soli = uprime(wc*nvec[i] + (1+rc)*bvec[i] - bvec[i+1]) - β*(1+rc)* \\\n",
    "                    uprime(wc*nvec[i+1] + (1+rc)*bvec[i+1])\n",
    "    Sol.append(Soli)\n",
    "    i = S - 2 \n",
    "    #print(nvec[i])\n",
    "    #print(bvec[i])\n",
    "    Soli = uprime(wc*nvec[i] + (1+rc)*bvec[i])\n",
    "    Sol.append(Soli)\n",
    "\n",
    "    #print(Sol)\n",
    "    \n",
    "    return(Sol)\n",
    "\n",
    "\n",
    "\n",
    "def solveSS(S, bvec, nvec):\n",
    "    \n",
    "    print(\"running solve\")\n",
    "    p = S, nvec\n",
    "    solve = root(SS, bvec, args=p)\n",
    "    b_ss = solve.x\n",
    "    #print(\"b_ss is\", b_ss)\n",
    "    \n",
    "    K_ss = np.sum(b_ss)\n",
    "    \n",
    "    c_ss = np.empty_like(b_ss)\n",
    "    wc = w(b_ss, nvec)\n",
    "    rc = r(b_ss, nvec)\n",
    "    \n",
    "    L = np.sum(nvec)\n",
    "    \n",
    "    for i in range(S-1):\n",
    "        c_ss[i] = nvec[i]*wc + (1+rc)*b_ss[i-1] - b_ss[i]\n",
    "    c_ss[0] = nvec[0]*wc - b_ss[0]\n",
    "    return b_ss, c_ss, wc, rc, K_ss, L\n",
    "    \n",
    "\n",
    "\n",
    "def get_SS(params, bvec_guess, SS_graphs):\n",
    "    β, A, α, δ, σ, nvec, S = params\n",
    "    start_time = time.clock()\n",
    "    \n",
    "    EulErr_ss = np.empty([S,], dtype='float')\n",
    "    \n",
    "    #print(\"Run solveSS\")\n",
    "    b_ss, c_ss, w_ss, r_ss, K_ss, L = solveSS(S, bvec_guess, nvec)\n",
    "    Y_ss = A*K_ss**α*L**(1-α)\n",
    "    C_ss = np.sum(c_ss)\n",
    "    \n",
    "    EulErr_ss = SS(b_ss, S, nvec) \n",
    "    RCerr_ss = Y_ss - C_ss - δ*K_ss\n",
    "      \n",
    "    ss_time = time.clock() - start_time # Place at end of get_SS()\n",
    "    print('It took %1.3s seconds to solve the OLG model' % ss_time)\n",
    "    ss_output = {\n",
    "    'b_ss': b_ss, 'c_ss': c_ss, 'w_ss': w_ss, 'r_ss': r_ss,\n",
    "    'K_ss': K_ss, 'Y_ss': Y_ss,\n",
    "    'EulErr_ss': EulErr_ss, \n",
    "    'RCerr_ss': RCerr_ss,\n",
    "    'ss_time': ss_time}\n",
    "    \n",
    "\n",
    "    return ss_output"
   ]
  },
  {
   "cell_type": "code",
   "execution_count": 291,
   "metadata": {},
   "outputs": [
    {
     "name": "stdout",
     "output_type": "stream",
     "text": [
      "(79,)\n"
     ]
    }
   ],
   "source": [
    "bvec = \\\n",
    "    np.array([-0.01, 0.1, 0.2, 0.23, 0.25, 0.23, 0.2, 0.1,\n",
    "    -0.01, 0.1, 0.2, 0.23, 0.25, 0.23, 0.2, 0.1,\n",
    "    -0.01, 0.1, 0.2, 0.23, 0.25, 0.23, 0.2, 0.1,\n",
    "    -0.01, 0.1, 0.2, 0.23, 0.25, 0.23, 0.2, 0.1,\n",
    "    -0.01, 0.1, 0.2, 0.23, 0.25, 0.23, 0.2, 0.1,\n",
    "    -0.01, 0.1, 0.2, 0.23, 0.25, 0.23, 0.2, 0.1,\n",
    "    -0.01, 0.1, 0.2, 0.23, 0.25, 0.23, 0.2, 0.1,\n",
    "    0.1, 0.1, 0.1, 0.1, 0.1, 0.1, 0.1, 0.1,\n",
    "    0.1, 0.1, 0.1, 0.1, 0.1, 0.1, 0.1, 0.1,\n",
    "    0.1, 0.1, 0.1, 0.1, 0.1, 0.1, 0.1])\n",
    "\n",
    "print(bvec.shape)"
   ]
  },
  {
   "cell_type": "code",
   "execution_count": 292,
   "metadata": {},
   "outputs": [
    {
     "name": "stderr",
     "output_type": "stream",
     "text": [
      "C:\\ProgramData\\Anaconda3\\lib\\site-packages\\ipykernel_launcher.py:102: DeprecationWarning: time.clock has been deprecated in Python 3.3 and will be removed from Python 3.8: use time.perf_counter or time.process_time instead\n"
     ]
    },
    {
     "name": "stdout",
     "output_type": "stream",
     "text": [
      "running solve\n",
      "It took 0.8 seconds to solve the OLG model\n"
     ]
    },
    {
     "name": "stderr",
     "output_type": "stream",
     "text": [
      "C:\\ProgramData\\Anaconda3\\lib\\site-packages\\ipykernel_launcher.py:114: DeprecationWarning: time.clock has been deprecated in Python 3.3 and will be removed from Python 3.8: use time.perf_counter or time.process_time instead\n"
     ]
    }
   ],
   "source": [
    "S= 80\n",
    "nvec = np.ones(S)\n",
    "index = round(2*S/3)+1\n",
    "nvec[index:] = 0.2\n",
    "params = β, A, α, δ, σ, nvec, S\n",
    "result = get_SS(params, bvec, False)"
   ]
  },
  {
   "cell_type": "code",
   "execution_count": 293,
   "metadata": {},
   "outputs": [
    {
     "data": {
      "text/plain": [
       "<function matplotlib.pyplot.show(*args, **kw)>"
      ]
     },
     "execution_count": 293,
     "metadata": {},
     "output_type": "execute_result"
    },
    {
     "data": {
      "image/png": "[encoded data removed]",
      "text/plain": [
       "<Figure size 432x288 with 1 Axes>"
      ]
     },
     "metadata": {
      "needs_background": "light"
     },
     "output_type": "display_data"
    }
   ],
   "source": [
    "plt.plot(result['b_ss'])\n",
    "plt.title('Distribution of Savings by age')\n",
    "plt.show"
   ]
  },
  {
   "cell_type": "code",
   "execution_count": 295,
   "metadata": {},
   "outputs": [
    {
     "data": {
      "text/plain": [
       "<function matplotlib.pyplot.show(*args, **kw)>"
      ]
     },
     "execution_count": 295,
     "metadata": {},
     "output_type": "execute_result"
    },
    {
     "data": {
      "image/png": "[encoded data removed]",
      "text/plain": [
       "<Figure size 432x288 with 1 Axes>"
      ]
     },
     "metadata": {
      "needs_background": "light"
     },
     "output_type": "display_data"
    }
   ],
   "source": [
    "plt.plot(result['c_ss'])\n",
    "plt.title('Distribution of consumption by age')\n",
    "plt.show"
   ]
  },
  {
   "cell_type": "code",
   "execution_count": 303,
   "metadata": {},
   "outputs": [],
   "source": [
    "import time\n",
    "from matplotlib import pyplot as plt\n",
    "\n",
    "import numpy as np\n",
    "from scipy.optimize import root\n",
    "\n",
    "S = 80\n",
    "β = 0.96**(80/S)\n",
    "α = 0.35\n",
    "A = 1\n",
    "σ = 3\n",
    "δ = 1 - (1-0.05)*(80/S)\n",
    "nvec = np.ones(S)\n",
    "bvec = np.ones(S)\n",
    "f_params = (nvec, A, α, δ, β)\n",
    "\n",
    "b_all = np.sum(bvec)\n",
    "l_all = np.sum(nvec)\n",
    "\n",
    "# Return on labor\n",
    "def w(bvec, nvec):\n",
    "    b = np.sum(bvec[1:S+1])\n",
    "    n = np.sum(nvec)\n",
    "    \n",
    "    w = (1-α)*A*(b/n)**α\n",
    "    return(w)\n",
    "\n",
    "# Return on capital\n",
    "def r(bvec, nvec):\n",
    "    b = np.sum(bvec[1:S+1])\n",
    "    n = np.sum(nvec)\n",
    "    \n",
    "    r = α*A*(n/b)**(1-α)-δ\n",
    "    return(r)\n",
    "\n",
    "\n",
    "# Uprime\n",
    "def uprime(c):\n",
    "    if c > 0: \n",
    "        return c**(-σ)\n",
    "    else:\n",
    "        return 5000\n",
    "\n",
    "def SS(bvec, *param):\n",
    "    S, nvec = param\n",
    "    \n",
    "    wc = w(bvec, nvec)\n",
    "    #print(\"Wage is \", wc)\n",
    "    rc = r(bvec, nvec)\n",
    "    #print(\"R is \", rc)\n",
    "    Sol = []\n",
    "    i = 0\n",
    "    Soli = uprime(wc*nvec[i] - bvec[i+1]) - β*(1+rc)* \\\n",
    "            uprime(wc*nvec[i+1] - bvec[i+2])\n",
    "    Sol.append(Soli)\n",
    "    for i in range(1,S-3):\n",
    "        Soli = uprime(wc*nvec[i] + (1+rc)*bvec[i] - bvec[i+1]) - β*(1+rc)* \\\n",
    "                    uprime(wc*nvec[i+1] + (1+rc)*bvec[i+1] - bvec[i+2])\n",
    "        Sol.append(Soli)\n",
    "        \n",
    "    i = S-3\n",
    "    #print(nvec[i])\n",
    "    #print(bvec[i])\n",
    "    #print(bvec[i+1])\n",
    "    Soli = uprime(wc*nvec[i] + (1+rc)*bvec[i] - bvec[i+1]) - β*(1+rc)* \\\n",
    "                    uprime(wc*nvec[i+1] + (1+rc)*bvec[i+1])\n",
    "    Sol.append(Soli)\n",
    "    i = S - 2 \n",
    "    #print(nvec[i])\n",
    "    #print(bvec[i])\n",
    "    Soli = uprime(wc*nvec[i] + (1+rc)*bvec[i])\n",
    "    Sol.append(Soli)\n",
    "\n",
    "    #print(Sol)\n",
    "    \n",
    "    return(Sol)\n",
    "\n",
    "\n",
    "\n",
    "def solveSS(S, bvec, nvec):\n",
    "    \n",
    "    print(\"running solve\")\n",
    "    p = S, nvec\n",
    "    solve = root(SS, bvec, args=p)\n",
    "    b_ss = solve.x\n",
    "    #print(\"b_ss is\", b_ss)\n",
    "    \n",
    "    K_ss = np.sum(b_ss)\n",
    "    \n",
    "    c_ss = np.empty_like(b_ss)\n",
    "    wc = w(b_ss, nvec)\n",
    "    rc = r(b_ss, nvec)\n",
    "    \n",
    "    L = np.sum(nvec)\n",
    "    \n",
    "    for i in range(S-1):\n",
    "        c_ss[i] = nvec[i]*wc + (1+rc)*b_ss[i-1] - b_ss[i]\n",
    "    c_ss[0] = nvec[0]*wc - b_ss[0]\n",
    "    return b_ss, c_ss, wc, rc, K_ss, L\n",
    "    \n",
    "\n",
    "\n",
    "def get_SS(params, bvec_guess, SS_graphs):\n",
    "    β, A, α, δ, σ, nvec, S = params\n",
    "    start_time = time.clock()\n",
    "    \n",
    "    EulErr_ss = np.empty([S,], dtype='float')\n",
    "    \n",
    "    #print(\"Run solveSS\")\n",
    "    b_ss, c_ss, w_ss, r_ss, K_ss, L = solveSS(S, bvec_guess, nvec)\n",
    "    Y_ss = A*K_ss**α*L**(1-α)\n",
    "    C_ss = np.sum(c_ss)\n",
    "    \n",
    "    EulErr_ss = SS(b_ss, S, nvec) \n",
    "    RCerr_ss = Y_ss - C_ss - δ*K_ss\n",
    "      \n",
    "    ss_time = time.clock() - start_time # Place at end of get_SS()\n",
    "    print('It took %1.3s seconds to solve the OLG model' % ss_time)\n",
    "    ss_output = {\n",
    "    'b_ss': b_ss, 'c_ss': c_ss, 'w_ss': w_ss, 'r_ss': r_ss,\n",
    "    'K_ss': K_ss, 'Y_ss': Y_ss,\n",
    "    'EulErr_ss': EulErr_ss, \n",
    "    'RCerr_ss': RCerr_ss,\n",
    "    'ss_time': ss_time}\n",
    "    \n",
    "\n",
    "    return ss_output"
   ]
  },
  {
   "cell_type": "code",
   "execution_count": 304,
   "metadata": {},
   "outputs": [
    {
     "name": "stdout",
     "output_type": "stream",
     "text": [
      "(79,)\n",
      "running solve\n"
     ]
    },
    {
     "name": "stderr",
     "output_type": "stream",
     "text": [
      "C:\\ProgramData\\Anaconda3\\lib\\site-packages\\ipykernel_launcher.py:105: DeprecationWarning: time.clock has been deprecated in Python 3.3 and will be removed from Python 3.8: use time.perf_counter or time.process_time instead\n"
     ]
    },
    {
     "name": "stdout",
     "output_type": "stream",
     "text": [
      "It took 0.2 seconds to solve the OLG model\n"
     ]
    },
    {
     "name": "stderr",
     "output_type": "stream",
     "text": [
      "C:\\ProgramData\\Anaconda3\\lib\\site-packages\\ipykernel_launcher.py:117: DeprecationWarning: time.clock has been deprecated in Python 3.3 and will be removed from Python 3.8: use time.perf_counter or time.process_time instead\n"
     ]
    }
   ],
   "source": [
    "bvec = \\\n",
    "    np.array([-0.01, 0.1, 0.2, 0.23, 0.25, 0.23, 0.2, 0.1,\n",
    "    -0.01, 0.1, 0.2, 0.23, 0.25, 0.23, 0.2, 0.1,\n",
    "    -0.01, 0.1, 0.2, 0.23, 0.25, 0.23, 0.2, 0.1,\n",
    "    -0.01, 0.1, 0.2, 0.23, 0.25, 0.23, 0.2, 0.1,\n",
    "    -0.01, 0.1, 0.2, 0.23, 0.25, 0.23, 0.2, 0.1,\n",
    "    -0.01, 0.1, 0.2, 0.23, 0.25, 0.23, 0.2, 0.1,\n",
    "    -0.01, 0.1, 0.2, 0.23, 0.25, 0.23, 0.2, 0.1,\n",
    "    0.1, 0.1, 0.1, 0.1, 0.1, 0.1, 0.1, 0.1,\n",
    "    0.1, 0.1, 0.1, 0.1, 0.1, 0.1, 0.1, 0.1,\n",
    "    0.1, 0.1, 0.1, 0.1, 0.1, 0.1, 0.1])\n",
    "\n",
    "print(bvec.shape)\n",
    "\n",
    "\n",
    "\n",
    "\n",
    "S= 80\n",
    "nvec = np.ones(S)\n",
    "index = round(2*S/3)+1\n",
    "nvec[index:] = 0.2\n",
    "params = β, A, α, δ, σ, nvec, S\n",
    "result = get_SS(params, bvec, False)"
   ]
  },
  {
   "cell_type": "code",
   "execution_count": 307,
   "metadata": {},
   "outputs": [
    {
     "data": {
      "text/plain": [
       "<function matplotlib.pyplot.show(*args, **kw)>"
      ]
     },
     "execution_count": 307,
     "metadata": {},
     "output_type": "execute_result"
    },
    {
     "data": {
      "image/png": "[encoded data removed]",
      "text/plain": [
       "<Figure size 432x288 with 1 Axes>"
      ]
     },
     "metadata": {
      "needs_background": "light"
     },
     "output_type": "display_data"
    }
   ],
   "source": [
    "plt.plot(result['c_ss'])\n",
    "plt.title('Distribution of consumption by age')\n",
    "plt.show"
   ]
  },
  {
   "cell_type": "code",
   "execution_count": null,
   "metadata": {},
   "outputs": [],
   "source": []
  }
 ],
 "metadata": {
  "kernelspec": {
   "display_name": "Python 3",
   "language": "python",
   "name": "python3"
  }
 },
 "nbformat": 4,
 "nbformat_minor": 2
}
