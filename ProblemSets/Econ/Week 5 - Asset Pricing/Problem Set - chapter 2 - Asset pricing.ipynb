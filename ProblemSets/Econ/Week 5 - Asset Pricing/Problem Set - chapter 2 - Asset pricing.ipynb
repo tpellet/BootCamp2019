{
 "cells": [
  {
   "cell_type": "markdown",
   "metadata": {},
   "source": [
    "## GMM estimation of Lucas Tree Model"
   ]
  },
  {
   "cell_type": "code",
   "execution_count": 1,
   "metadata": {},
   "outputs": [],
   "source": [
    "import numpy as np\n",
    "from fredapi import Fred\n",
    "import pandas as pd\n",
    "\n",
    "\n",
    "fred = Fred(api_key='81d6202762edfdf9248639fbd6972c39')\n",
    "\n",
    "C = (fred.get_series('PCECC96'))\n",
    "R = fred.get_series('WILL5000INDFC')\n",
    "Rf = fred.get_series('TB3MS')\n",
    "Deflator = fred.get_series('GDPDEF')\n",
    "\n",
    "\n",
    "\n",
    "\n",
    "\n",
    "\n",
    "#Computing quarterly observations for stock returns and Treasuries"
   ]
  },
  {
   "cell_type": "code",
   "execution_count": 2,
   "metadata": {
    "scrolled": true
   },
   "outputs": [
    {
     "name": "stderr",
     "output_type": "stream",
     "text": [
      "C:\\ProgramData\\Anaconda3\\lib\\site-packages\\ipykernel_launcher.py:3: FutureWarning: fill_method is deprecated to .resample()\n",
      "the new syntax is .resample(...).mean().bfill()\n",
      "  This is separate from the ipykernel package so we can avoid doing imports until\n",
      "C:\\ProgramData\\Anaconda3\\lib\\site-packages\\ipykernel_launcher.py:4: FutureWarning: fill_method is deprecated to .resample()\n",
      "the new syntax is .resample(...).mean().bfill()\n",
      "  after removing the cwd from sys.path.\n"
     ]
    }
   ],
   "source": [
    "import datetime\n",
    "# Downsample to quarterly frequency\n",
    "Rq = R.resample('Q', how='mean', fill_method='bfill') \n",
    "Rfq = Rf.resample('Q', how='mean', fill_method='bfill') \n",
    "\n",
    "# Shift dates\n",
    "Rq = Rq.shift(1, freq='D')\n",
    "Rfq = Rfq.shift(1, freq='D')\n"
   ]
  },
  {
   "cell_type": "code",
   "execution_count": 3,
   "metadata": {},
   "outputs": [
    {
     "name": "stdout",
     "output_type": "stream",
     "text": [
      "            Consumption     Returns     Tbill  Deflator\n",
      "1947-01-01     1274.952         NaN  0.380000    11.960\n",
      "1947-04-01     1296.163         NaN  0.380000    12.131\n",
      "1947-07-01     1300.388         NaN  0.380000    12.335\n",
      "1947-10-01     1300.801         NaN  0.736667    12.639\n",
      "1948-01-01     1307.283         NaN  0.906667    12.739\n",
      "1948-04-01     1322.494         NaN  0.990000    12.854\n",
      "1948-07-01     1324.446         NaN  1.000000    13.092\n",
      "1948-10-01     1335.016         NaN  1.050000    13.132\n",
      "1949-01-01     1337.177         NaN  1.140000    13.062\n",
      "1949-04-01     1357.672         NaN  1.170000    12.931\n",
      "1949-07-01     1360.751         NaN  1.170000    12.872\n",
      "1949-10-01     1380.702         NaN  1.043333    12.873\n",
      "1950-01-01     1403.690         NaN  1.076667    12.853\n",
      "1950-04-01     1426.807         NaN  1.103333    12.897\n",
      "1950-07-01     1500.076         NaN  1.153333    13.177\n",
      "1950-10-01     1454.855         NaN  1.220000    13.425\n",
      "1951-01-01     1490.034         NaN  1.336667    13.909\n",
      "1951-04-01     1447.928         NaN  1.366667    14.002\n",
      "1951-07-01     1464.796         NaN  1.490000    14.010\n",
      "1951-10-01     1473.330         NaN  1.603333    14.170\n",
      "1952-01-01     1476.743         NaN  1.610000    14.163\n",
      "1952-04-01     1505.663         NaN  1.566667    14.180\n",
      "1952-07-01     1512.885         NaN  1.646667    14.339\n",
      "1952-10-01     1566.256         NaN  1.783333    14.378\n",
      "1953-01-01     1584.651         NaN  1.893333    14.381\n",
      "1953-04-01     1594.191         NaN  1.980000    14.409\n",
      "1953-07-01     1590.393         NaN  2.153333    14.470\n",
      "1953-10-01     1579.729         NaN  1.956667    14.497\n",
      "1954-01-01     1585.556         NaN  1.473333    14.543\n",
      "1954-04-01     1606.146         NaN  1.060000    14.556\n",
      "...                 ...         ...       ...       ...\n",
      "2012-01-01    10973.303   50.673016  0.013333    99.320\n",
      "2012-04-01    10989.585   56.248710  0.066667    99.713\n",
      "2012-07-01    11007.517   56.280159  0.086667   100.225\n",
      "2012-10-01    11056.852   58.517778  0.103333   100.737\n",
      "2013-01-01    11114.186   59.662742  0.086667   101.139\n",
      "2013-04-01    11122.185   64.625000  0.086667   101.431\n",
      "2013-07-01    11167.422   68.969531  0.050000   101.918\n",
      "2013-10-01    11263.648   72.637813  0.033333   102.517\n",
      "2014-01-01    11308.019   77.266406  0.063333   102.937\n",
      "2014-04-01    11431.831   80.955574  0.046667   103.512\n",
      "2014-07-01    11554.841   83.512063  0.033333   103.957\n",
      "2014-10-01    11694.969   86.996406  0.026667   104.123\n",
      "2015-01-01    11792.119   88.326719  0.023333   104.090\n",
      "2015-04-01    11885.980   91.507541  0.026667   104.675\n",
      "2015-07-01    11976.589   93.867937  0.020000   105.048\n",
      "2015-10-01    12030.223   90.629687  0.040000   105.049\n",
      "2016-01-01    12124.214   91.113438  0.123333   104.941\n",
      "2016-04-01    12211.285   86.048525  0.286667   105.657\n",
      "2016-07-01    12289.063   92.536094  0.256667   106.043\n",
      "2016-10-01    12365.312   97.382344  0.296667   106.551\n",
      "2017-01-01    12438.898   99.383810  0.430000   107.058\n",
      "2017-04-01    12512.899  106.462258  0.590000   107.411\n",
      "2017-07-01    12586.281  109.988095  0.890000   107.973\n",
      "2017-10-01    12729.713  113.484127  1.036667   108.713\n",
      "2018-01-01    12782.902  120.347619  1.206667   109.355\n",
      "2018-04-01    12909.192  126.824098  1.560000   110.281\n",
      "2018-07-01    13019.802  126.711094  1.840000   110.767\n",
      "2018-10-01    13066.302  134.328571  2.040000   111.256\n",
      "2019-01-01    13103.317  126.443492  2.316667   111.473\n",
      "2019-04-01    13241.083  128.690492  2.386667   112.164\n",
      "\n",
      "[290 rows x 4 columns]\n"
     ]
    }
   ],
   "source": [
    "data = pd.DataFrame()\n",
    "data.insert(0,\"Consumption\", C)\n",
    "data.insert(1, \"Returns\", Rq)\n",
    "data.insert(2, \"Tbill\", Rfq)\n",
    "data.insert(3, \"Deflator\", Deflator)\n",
    "print(data)"
   ]
  },
  {
   "cell_type": "code",
   "execution_count": 4,
   "metadata": {
    "scrolled": true
   },
   "outputs": [],
   "source": [
    "data.insert(4, \"Real Returns\", \\\n",
    "            (1 + data['Returns'].pct_change())/ \\\n",
    "            (1 + data['Deflator'].pct_change()) )"
   ]
  },
  {
   "cell_type": "code",
   "execution_count": 5,
   "metadata": {},
   "outputs": [],
   "source": [
    "data.insert(4, \"Real Tbill\", \\\n",
    "            (1 + data['Tbill'].pct_change())/ \\\n",
    "            (1 + data['Deflator'].pct_change()) )"
   ]
  },
  {
   "cell_type": "code",
   "execution_count": 6,
   "metadata": {
    "scrolled": true
   },
   "outputs": [],
   "source": [
    "Dataset = data.dropna('index')\n"
   ]
  },
  {
   "cell_type": "code",
   "execution_count": 7,
   "metadata": {},
   "outputs": [
    {
     "name": "stdout",
     "output_type": "stream",
     "text": [
      "            Consumption     Returns     Tbill  Deflator  Real Tbill  \\\n",
      "1971-04-01     3185.993    1.080000  3.840000    22.685    0.708014   \n",
      "1971-07-01     3211.394    1.136667  4.250000    22.916    1.095614   \n",
      "1971-10-01     3264.679    1.113333  5.010000    23.107    1.169079   \n",
      "1972-01-01     3307.767    1.113333  4.230000    23.458    0.831678   \n",
      "1972-04-01     3370.736    1.240000  3.436667    23.604    0.807425   \n",
      "1972-07-01     3422.682    1.280000  3.770000    23.830    1.086589   \n",
      "1972-10-01     3503.001    1.293333  4.220000    24.134    1.105264   \n",
      "1973-01-01     3566.957    1.356667  4.863333    24.412    1.139325   \n",
      "1973-04-01     3565.349    1.306667  5.700000    24.787    1.154304   \n",
      "1973-07-01     3577.898    1.196667  6.603333    25.270    1.136337   \n",
      "1973-10-01     3567.227    1.243333  8.323333    25.773    1.235874   \n",
      "1974-01-01     3535.312    1.176667  7.500000    26.260    0.884370   \n",
      "1974-04-01     3548.041    1.130000  7.616667    26.880    0.992131   \n",
      "1974-07-01     3563.282    1.020000  8.153333    27.668    1.039972   \n",
      "1974-10-01     3511.197    0.833333  8.190000    28.482    0.975789   \n",
      "1975-01-01     3540.647    0.836667  7.360000    29.129    0.878696   \n",
      "1975-04-01     3598.886    0.976667  5.750000    29.562    0.769807   \n",
      "1975-07-01     3650.035    1.120000  5.393333    30.084    0.921696   \n",
      "1975-10-01     3689.285    1.076667  6.330000    30.587    1.154370   \n",
      "1976-01-01     3763.048    1.116667  5.626667    30.911    0.879572   \n",
      "1976-04-01     3797.670    1.276667  4.916667    31.222    0.865111   \n",
      "1976-07-01     3837.654    1.300000  5.156667    31.626    1.035416   \n",
      "1976-10-01     3887.447    1.336667  5.150000    32.192    0.981148   \n",
      "1977-01-01     3933.268    1.363333  4.673333    32.711    0.893046   \n",
      "1977-04-01     3954.596    1.353333  4.630000    33.172    0.976959   \n",
      "1977-07-01     3991.989    1.360000  4.840000    33.576    1.032778   \n",
      "1977-10-01     4052.010    1.366667  5.496667    34.301    1.111671   \n",
      "1978-01-01     4074.774    1.353333  6.110000    34.800    1.095644   \n",
      "1978-04-01     4161.887    1.313333  6.393333    35.465    1.026752   \n",
      "1978-07-01     4179.363    1.466667  6.476667    36.067    0.996126   \n",
      "...                 ...         ...       ...       ...         ...   \n",
      "2012-01-01    10973.303   50.673016  0.013333    99.320    0.567879   \n",
      "2012-04-01    10989.585   56.248710  0.066667    99.713    4.980293   \n",
      "2012-07-01    11007.517   56.280159  0.086667   100.225    1.293359   \n",
      "2012-10-01    11056.852   58.517778  0.103333   100.737    1.186248   \n",
      "2013-01-01    11114.186   59.662742  0.086667   101.139    0.835376   \n",
      "2013-04-01    11122.185   64.625000  0.086667   101.431    0.997121   \n",
      "2013-07-01    11167.422   68.969531  0.050000   101.918    0.574166   \n",
      "2013-10-01    11263.648   72.637813  0.033333   102.517    0.662771   \n",
      "2014-01-01    11308.019   77.266406  0.063333   102.937    1.892248   \n",
      "2014-04-01    11431.831   80.955574  0.046667   103.512    0.732749   \n",
      "2014-07-01    11554.841   83.512063  0.033333   103.957    0.711228   \n",
      "2014-10-01    11694.969   86.996406  0.026667   104.123    0.798725   \n",
      "2015-01-01    11792.119   88.326719  0.023333   104.090    0.875277   \n",
      "2015-04-01    11885.980   91.507541  0.026667   104.675    1.136470   \n",
      "2015-07-01    11976.589   93.867937  0.020000   105.048    0.747337   \n",
      "2015-10-01    12030.223   90.629687  0.040000   105.049    1.999981   \n",
      "2016-01-01    12124.214   91.113438  0.123333   104.941    3.086507   \n",
      "2016-04-01    12211.285   86.048525  0.286667   105.657    2.308573   \n",
      "2016-07-01    12289.063   92.536094  0.256667   106.043    0.892090   \n",
      "2016-10-01    12365.312   97.382344  0.296667   106.551    1.150333   \n",
      "2017-01-01    12438.898   99.383810  0.430000   107.058    1.442574   \n",
      "2017-04-01    12512.899  106.462258  0.590000   107.411    1.367584   \n",
      "2017-07-01    12586.281  109.988095  0.890000   107.973    1.500623   \n",
      "2017-10-01    12729.713  113.484127  1.036667   108.713    1.156865   \n",
      "2018-01-01    12782.902  120.347619  1.206667   109.355    1.157154   \n",
      "2018-04-01    12909.192  126.824098  1.560000   110.281    1.281962   \n",
      "2018-07-01    13019.802  126.711094  1.840000   110.767    1.174312   \n",
      "2018-10-01    13066.302  134.328571  2.040000   111.256    1.103823   \n",
      "2019-01-01    13103.317  126.443492  2.316667   111.473    1.133410   \n",
      "2019-04-01    13241.083  128.690492  2.386667   112.164    1.023869   \n",
      "\n",
      "            Real Returns  \n",
      "1971-04-01      1.066003  \n",
      "1971-07-01      1.041860  \n",
      "1971-10-01      0.971376  \n",
      "1972-01-01      0.985037  \n",
      "1972-04-01      1.106883  \n",
      "1972-07-01      1.022468  \n",
      "1972-10-01      0.997689  \n",
      "1973-01-01      1.037024  \n",
      "1973-04-01      0.948574  \n",
      "1973-07-01      0.898312  \n",
      "1973-10-01      1.018720  \n",
      "1974-01-01      0.928830  \n",
      "1974-04-01      0.938189  \n",
      "1974-07-01      0.876947  \n",
      "1974-10-01      0.793644  \n",
      "1975-01-01      0.981700  \n",
      "1975-04-01      1.150233  \n",
      "1975-07-01      1.126860  \n",
      "1975-10-01      0.945501  \n",
      "1976-01-01      1.026281  \n",
      "1976-04-01      1.131895  \n",
      "1976-07-01      1.005269  \n",
      "1976-10-01      1.010127  \n",
      "1977-01-01      1.003767  \n",
      "1977-04-01      0.978870  \n",
      "1977-07-01      0.992834  \n",
      "1977-10-01      0.983662  \n",
      "1978-01-01      0.976045  \n",
      "1978-04-01      0.952247  \n",
      "1978-07-01      1.098111  \n",
      "...                  ...  \n",
      "2012-01-01      0.993406  \n",
      "2012-04-01      1.105658  \n",
      "2012-07-01      0.995448  \n",
      "2012-10-01      1.034474  \n",
      "2013-01-01      1.015514  \n",
      "2013-04-01      1.080054  \n",
      "2013-07-01      1.062127  \n",
      "2013-10-01      1.047033  \n",
      "2014-01-01      1.059381  \n",
      "2014-04-01      1.041926  \n",
      "2014-07-01      1.027163  \n",
      "2014-10-01      1.040062  \n",
      "2015-01-01      1.015613  \n",
      "2015-04-01      1.030222  \n",
      "2015-07-01      1.022152  \n",
      "2015-10-01      0.965493  \n",
      "2016-01-01      1.006372  \n",
      "2016-04-01      0.938011  \n",
      "2016-07-01      1.071480  \n",
      "2016-10-01      1.047354  \n",
      "2017-01-01      1.015720  \n",
      "2017-04-01      1.067703  \n",
      "2017-07-01      1.027741  \n",
      "2017-10-01      1.024762  \n",
      "2018-01-01      1.054254  \n",
      "2018-04-01      1.044966  \n",
      "2018-07-01      0.994725  \n",
      "2018-10-01      1.055457  \n",
      "2019-01-01      0.939468  \n",
      "2019-04-01      1.011501  \n",
      "\n",
      "[193 rows x 6 columns]\n"
     ]
    }
   ],
   "source": [
    "print(Dataset)"
   ]
  },
  {
   "cell_type": "code",
   "execution_count": 8,
   "metadata": {},
   "outputs": [
    {
     "name": "stdout",
     "output_type": "stream",
     "text": [
      "-0.005219170729688027\n"
     ]
    }
   ],
   "source": [
    "# Compute the stochastic discount factor \n",
    "β = 0.99\n",
    "\n",
    "def SDF(γ, Dataset):\n",
    "    M = β*(1 + Dataset.Consumption.pct_change())**(-γ)\n",
    "    return M\n",
    "\n",
    "def EulerError(γ, Dataset):\n",
    "    EM  = np.mean(SDF(γ, Dataset))\n",
    "\n",
    "    ER  = np.mean(Dataset['Real Returns'])\n",
    "\n",
    "    R = np.array(Dataset['Real Returns'])\n",
    "    M = np.array(SDF(γ,Dataset))\n",
    "    extract = pd.DataFrame()\n",
    "    extract.insert(0,\"R\", R)\n",
    "    extract.insert(0,\"M\", M)\n",
    "\n",
    "    covar = extract.cov()\n",
    "\n",
    "    error = 1 - covar['M'][1] - EM*ER\n",
    "    print(error)\n",
    "    return error\n",
    "\n",
    "\n",
    "t = EulerError(0.5,Dataset)\n"
   ]
  },
  {
   "cell_type": "code",
   "execution_count": 9,
   "metadata": {
    "scrolled": true
   },
   "outputs": [
    {
     "name": "stdout",
     "output_type": "stream",
     "text": [
      "-0.0031149101829823778\n",
      "-0.0031149101829823778\n",
      "-0.0031149101829823778\n",
      "-0.003114910095589174\n",
      "-8.195673208089005e-06\n",
      "-2.167997870117233e-08\n",
      "-1.5187850976872141e-13\n",
      "2.220446049250313e-16\n",
      "[1.19383238]\n"
     ]
    }
   ],
   "source": [
    "from scipy.optimize import root\n",
    "\n",
    "result = root(EulerError,0.779, args=(Dataset))\n",
    "print(result.x)"
   ]
  },
  {
   "cell_type": "markdown",
   "metadata": {},
   "source": [
    "to determine the pertinence of this estimate, I would perform a lab experiment."
   ]
  },
  {
   "cell_type": "markdown",
   "metadata": {},
   "source": [
    "### question 3"
   ]
  },
  {
   "cell_type": "code",
   "execution_count": 10,
   "metadata": {},
   "outputs": [
    {
     "name": "stdout",
     "output_type": "stream",
     "text": [
      "0.018665568762408435\n"
     ]
    },
    {
     "data": {
      "text/plain": [
       "0.018665568762408435"
      ]
     },
     "execution_count": 10,
     "metadata": {},
     "output_type": "execute_result"
    }
   ],
   "source": [
    "β = 0.99\n",
    "\n",
    "def EulerError2(γ, Dataset):\n",
    "    EM  = np.mean(SDF(γ, Dataset))\n",
    "\n",
    "    ERf  = np.mean(Dataset['Real Tbill'])\n",
    "\n",
    "    error = (ERf)*EM - 1\n",
    "    print(error)\n",
    "    return error\n",
    "\n",
    "EulerError2(0.5, Dataset)"
   ]
  },
  {
   "cell_type": "code",
   "execution_count": 11,
   "metadata": {},
   "outputs": [
    {
     "name": "stdout",
     "output_type": "stream",
     "text": [
      "0.017912307064960054\n",
      "0.017912307064960054\n",
      "0.017912307064960054\n",
      "0.01791230699765678\n",
      "0.0002718684811815475\n",
      "4.216414595026308e-06\n",
      "1.0146481432826704e-09\n",
      "4.6629367034256575e-15\n",
      "-1.1102230246251565e-16\n",
      "[3.01675539]\n"
     ]
    }
   ],
   "source": [
    "from scipy.optimize import root\n",
    "EulerError2_x = lambda x: EulerError2(x,Dataset)\n",
    "result = root(EulerError2,0.6, args = Dataset)\n",
    "print(result.x)"
   ]
  },
  {
   "cell_type": "markdown",
   "metadata": {},
   "source": [
    "The result is similar based on this equation but the estimate is more sensitive to initial conditions."
   ]
  },
  {
   "cell_type": "code",
   "execution_count": 26,
   "metadata": {},
   "outputs": [
    {
     "data": {
      "text/plain": [
       "[-0.005219170729688027, 0.0189240889245208]"
      ]
     },
     "execution_count": 26,
     "metadata": {},
     "output_type": "execute_result"
    }
   ],
   "source": [
    "\n",
    "def SDF_GMM(γ, β, Dataset):\n",
    "    M = β*(1 + Dataset.Consumption.pct_change())**(-γ)\n",
    "    return M\n",
    "\n",
    "def GMM(X, Dataset):\n",
    "    γ, β = X\n",
    "    EM  = np.mean(SDF_GMM(γ, β, Dataset))\n",
    "\n",
    "    ER  = np.mean(Dataset['Real Returns'])\n",
    "\n",
    "    R = np.array(Dataset['Real Returns'])\n",
    "    M = np.array(SDF_GMM(γ, β, Dataset))\n",
    "    extract = pd.DataFrame()\n",
    "    extract.insert(0,\"R\", R)\n",
    "    extract.insert(0,\"M\", M)\n",
    "\n",
    "    covar = extract.cov()\n",
    "\n",
    "    error1 = 1 - covar['M'][1] - EM*ER\n",
    "    \n",
    "    #Second equation\n",
    "    ERf  = np.mean(Dataset['Real Tbill'])\n",
    "    error2 = ERf*EM - 1\n",
    "    error = [error1, error2]\n",
    "#     print(error)\n",
    "    return error\n",
    "\n",
    "GMM([0.5,0.99], Dataset)"
   ]
  },
  {
   "cell_type": "code",
   "execution_count": 27,
   "metadata": {},
   "outputs": [
    {
     "name": "stdout",
     "output_type": "stream",
     "text": [
      "[-1.84445291e+02  1.36678340e-01]\n"
     ]
    }
   ],
   "source": [
    "from scipy.optimize import broyden1\n",
    "GMM_x = lambda x: GMM(x,Dataset)\n",
    "result = root(GMM,[3,0.6], args = Dataset)\n",
    "print(result.x)"
   ]
  },
  {
   "cell_type": "code",
   "execution_count": 20,
   "metadata": {},
   "outputs": [],
   "source": [
    "\n",
    "βgrid = np.linspace(0,1,25)\n",
    "γgrid = np.linspace(0,5,25)\n",
    "\n",
    "X,Y = np.meshgrid(βgrid,γgrid)\n",
    "\n",
    "def GMM(γ, β, Dataset):\n",
    "\n",
    "    EM  = np.mean(SDF_GMM(γ, β, Dataset))\n",
    "\n",
    "    ER  = np.mean(Dataset['Real Returns'])\n",
    "\n",
    "    R = np.array(Dataset['Real Returns'])\n",
    "    M = np.array(SDF_GMM(γ, β, Dataset))\n",
    "    extract = pd.DataFrame()\n",
    "    extract.insert(0,\"R\", R)\n",
    "    extract.insert(0,\"M\", M)\n",
    "\n",
    "    covar = extract.cov()\n",
    "\n",
    "    error1 = 1 - covar['M'][1] - EM*ER\n",
    "    \n",
    "    #Second equation\n",
    "    ERf  = np.mean(Dataset['Real Tbill'])\n",
    "    error2 = ERf*EM - 1\n",
    "    error = [error1, error2]\n",
    "#     print(error)\n",
    "    return error\n",
    "\n",
    "Z1 = np.zeros_like(X)\n",
    "Z2 = np.zeros_like(Y)\n",
    "for i,item in enumerate(βgrid):\n",
    "    for j,item2 in enumerate(γgrid):\n",
    "        Z1[i,j] = GMM(βgrid[i],γgrid[j],Dataset)[0]\n",
    "        Z2[i,j] = GMM(βgrid[i],γgrid[j],Dataset)[1]\n",
    "        \n"
   ]
  },
  {
   "cell_type": "code",
   "execution_count": 21,
   "metadata": {},
   "outputs": [
    {
     "data": {
      "image/png": "[encoded data removed]",
      "text/plain": [
       "<Figure size 432x288 with 1 Axes>"
      ]
     },
     "metadata": {
      "needs_background": "light"
     },
     "output_type": "display_data"
    }
   ],
   "source": [
    "from mpl_toolkits.mplot3d import Axes3D\n",
    "import matplotlib.pyplot as plt\n",
    "\n",
    "fig = plt.figure()\n",
    "ax = fig.gca(projection='3d')\n",
    "surf = ax.plot_surface(X, Y, Z1,\n",
    "                       linewidth=0,)\n",
    "\n",
    "plt.xlabel(r'$\\beta$')\n",
    "plt.ylabel(r'$\\gamma$')\n",
    "ax.set_zlabel('Euler Error')\n",
    "plt.show()"
   ]
  },
  {
   "cell_type": "code",
   "execution_count": 17,
   "metadata": {},
   "outputs": [
    {
     "data": {
      "image/png": "[encoded data removed]",
      "text/plain": [
       "<Figure size 432x288 with 1 Axes>"
      ]
     },
     "metadata": {
      "needs_background": "light"
     },
     "output_type": "display_data"
    }
   ],
   "source": [
    "fig = plt.figure()\n",
    "ax = fig.gca(projection='3d')\n",
    "surf = ax.plot_surface(X, Y, Z2,\n",
    "                       linewidth=0,)\n",
    "plt.show()"
   ]
  },
  {
   "cell_type": "code",
   "execution_count": null,
   "metadata": {},
   "outputs": [],
   "source": []
  }
 ],
 "metadata": {
  "kernelspec": {
   "display_name": "Python 3",
   "language": "python",
   "name": "python3"
  },
  "language_info": {
   "codemirror_mode": {
    "name": "ipython",
    "version": 3
   },
   "file_extension": ".py",
   "mimetype": "text/x-python",
   "name": "python",
   "nbconvert_exporter": "python",
   "pygments_lexer": "ipython3",
   "version": "3.7.3"
  }
 },
 "nbformat": 4,
 "nbformat_minor": 2
}
