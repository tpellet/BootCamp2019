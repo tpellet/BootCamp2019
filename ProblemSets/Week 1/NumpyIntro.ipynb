{
 "cells": [
  {
   "cell_type": "markdown",
   "metadata": {},
   "source": [
    "# Intro to Numpy - Thomas Pellet"
   ]
  },
  {
   "cell_type": "code",
   "execution_count": 5,
   "metadata": {},
   "outputs": [
    {
     "name": "stdout",
     "output_type": "stream",
     "text": [
      "[1 3 5 7 9]\n"
     ]
    }
   ],
   "source": [
    "import numpy as np\n",
    "# Create a 1-D array by passing a list into NumPy's array() function.\n",
    "np.array([8, 4, 6, 0, 2])\n",
    "\n",
    "# The string representation has no commas or an array() label.\n",
    "print(np.array([1, 3, 5, 7, 9]))\n"
   ]
  },
  {
   "cell_type": "code",
   "execution_count": 10,
   "metadata": {},
   "outputs": [
    {
     "name": "stdout",
     "output_type": "stream",
     "text": [
      "4\n"
     ]
    }
   ],
   "source": [
    "A = np.array( [ [1, 2, 3],[4, 5, 6] ] )\n",
    "print(A[1,0])"
   ]
  },
  {
   "cell_type": "code",
   "execution_count": 15,
   "metadata": {},
   "outputs": [
    {
     "name": "stdout",
     "output_type": "stream",
     "text": [
      "[[ 37  14 -32 -10]\n",
      " [-54  -7  58  65]]\n"
     ]
    }
   ],
   "source": [
    "#Problem 1\n",
    "\n",
    "A = np.array( [ [3, -1, 4],[1, 5, -9] ] )\n",
    "B = np.array( [ [2,6,-5,3],[5,-8,9,7], [9,-3,-2,-3]] )\n",
    "AB = A @ B\n",
    "\n",
    "print(AB)"
   ]
  },
  {
   "cell_type": "code",
   "execution_count": 30,
   "metadata": {},
   "outputs": [
    {
     "name": "stdout",
     "output_type": "stream",
     "text": [
      "[[0 0 0]\n",
      " [0 0 0]\n",
      " [0 0 0]]\n"
     ]
    }
   ],
   "source": [
    "# Problem 2\n",
    "\n",
    "A = np.array([[3,1,4],[1,5,9],[-5,3,1]])\n",
    "print(-(A@A@A) + 9*A@A - 15*A)"
   ]
  },
  {
   "cell_type": "code",
   "execution_count": 39,
   "metadata": {},
   "outputs": [
    {
     "name": "stdout",
     "output_type": "stream",
     "text": [
      "[[ -7.  -8.  -3.   8.  25.  48.  77.]\n",
      " [ -6. -12. -12.  -6.   6.  24.  48.]\n",
      " [ -5. -10. -15. -14.  -7.   6.  25.]\n",
      " [ -4.  -8. -12. -16. -14.  -6.   8.]\n",
      " [ -3.  -6.  -9. -12. -15. -12.  -3.]\n",
      " [ -2.  -4.  -6.  -8. -10. -12.  -8.]\n",
      " [ -1.  -2.  -3.  -4.  -5.  -6.  -7.]]\n"
     ]
    }
   ],
   "source": [
    "# Problem 3\n",
    "A = np.triu(np.ones(7))\n",
    "B = np.tril(-1*np.ones(7)) + np.triu(np.full(7,5)) - 5*np.diag(np.ones(7))\n",
    "\n",
    "ABA = A@B@A\n",
    "ABA = ABA.astype(np.float64)\n",
    "\n",
    "print(ABA)\n",
    "\n"
   ]
  },
  {
   "cell_type": "code",
   "execution_count": 103,
   "metadata": {},
   "outputs": [
    {
     "name": "stdout",
     "output_type": "stream",
     "text": [
      "5\n",
      "[[-1.  0.  0.  0.  0.]\n",
      " [ 0. -1.  0.  0.  0.]\n",
      " [ 0.  0. -1.  0.  0.]\n",
      " [ 0.  0.  0. -1.  0.]\n",
      " [ 0.  0.  0.  0. -1.]]\n",
      "[[0. 0. 0. 0. 0.]\n",
      " [0. 0. 0. 0. 0.]\n",
      " [0. 0. 0. 0. 0.]\n",
      " [0. 0. 0. 0. 0.]\n",
      " [0. 0. 0. 0. 0.]]\n"
     ]
    }
   ],
   "source": [
    "# Problem set 4\n",
    "A = np.diag(-1*np.ones(5))\n",
    "print(A)\n",
    "def negativetozero(A):\n",
    "    copy = np.copy(A)\n",
    "    mask = copy < 0\n",
    "    copy[mask] = 0\n",
    "    print(copy)\n",
    "negativetozero(A)"
   ]
  },
  {
   "cell_type": "code",
   "execution_count": 140,
   "metadata": {},
   "outputs": [
    {
     "name": "stdout",
     "output_type": "stream",
     "text": [
      "(3, 3)\n",
      "(8, 3)\n",
      "(8, 2)\n",
      "[[0 0 0]\n",
      " [0 0 0]]\n",
      "[[0. 0. 0.]\n",
      " [0. 0. 0.]]\n",
      "(8, 3)\n",
      "[[ 0.  0.  0.  0.  1.  1.  0.  0.]\n",
      " [ 0.  0.  0.  2.  3.  0.  1.  0.]\n",
      " [ 0.  0.  0.  4.  5.  0.  0.  1.]\n",
      " [ 0.  2.  4.  0.  0.  0.  0.  0.]\n",
      " [ 1.  3.  5.  0.  0.  0.  0.  0.]\n",
      " [ 3.  0.  0.  0.  0. -2. -0. -0.]\n",
      " [ 3.  3.  0.  0.  0. -0. -2. -0.]\n",
      " [ 3.  3.  3.  0.  0. -0. -0. -2.]]\n"
     ]
    }
   ],
   "source": [
    "# Problem set 5\n",
    "def stack():\n",
    "    A = np.arange(6).reshape(3,-1).T\n",
    "    B = 3*np.tril(np.ones(3))\n",
    "    C = -2*np.eye(3)\n",
    "    print(C.shape)\n",
    "    zeros = np.zeros((3,3))\n",
    "    firstcol = np.vstack((zeros,A,B))\n",
    "    print(firstcol.shape)\n",
    "    secondcol = np.vstack((A.T,np.zeros((A.shape[0] + B.shape[0],A.T.shape[1]))))\n",
    "    print(secondcol.shape)\n",
    "    print(np.full_like(A,0))\n",
    "    print(np.zeros((A.shape[0],C.shape[1])))\n",
    "    eye = np.eye(3)\n",
    "    zero = np.zeros((A.shape[0],C.shape[1]))\n",
    "    thirdcol = np.vstack((eye,zero,C))\n",
    "    print(thirdcol.shape)\n",
    "    result = np.hstack((firstcol, secondcol, thirdcol))\n",
    "    print(result)          \n",
    "stack()"
   ]
  },
  {
   "cell_type": "code",
   "execution_count": 148,
   "metadata": {},
   "outputs": [
    {
     "name": "stdout",
     "output_type": "stream",
     "text": [
      "[[ 0  1  2  3]\n",
      " [ 4  5  6  7]\n",
      " [ 8  9 10 11]\n",
      " [12 13 14 15]\n",
      " [16 17 18 19]]\n",
      "[[ 6]\n",
      " [22]\n",
      " [38]\n",
      " [54]\n",
      " [70]]\n",
      "[[0.         0.16666667 0.33333333 0.5       ]\n",
      " [0.18181818 0.22727273 0.27272727 0.31818182]\n",
      " [0.21052632 0.23684211 0.26315789 0.28947368]\n",
      " [0.22222222 0.24074074 0.25925926 0.27777778]\n",
      " [0.22857143 0.24285714 0.25714286 0.27142857]]\n"
     ]
    }
   ],
   "source": [
    "# Problem 6\n",
    "A = np.arange(20).reshape(5,-1)\n",
    "print(A)\n",
    "def rowstoch(A):\n",
    "    sumrow = A.sum(axis = 1).reshape((-1,1))\n",
    "    print(sumrow)\n",
    "    A = A / sumrow\n",
    "    print(A)\n",
    "rowstoch(A)"
   ]
  },
  {
   "cell_type": "code",
   "execution_count": 180,
   "metadata": {},
   "outputs": [
    {
     "name": "stdout",
     "output_type": "stream",
     "text": [
      "[[ 8  2 22 97 38 15  0 40  0 75  4  5  7 78 52 12 50 77 91  8]\n",
      " [49 49 99 40 17 81 18 57 60 87 17 40 98 43 69 48  4 56 62  0]\n",
      " [81 49 31 73 55 79 14 29 93 71 40 67 53 88 30  3 49 13 36 65]\n",
      " [52 70 95 23  4 60 11 42 69 24 68 56  1 32 56 71 37  2 36 91]\n",
      " [22 31 16 71 51 67 63 89 41 92 36 54 22 40 40 28 66 33 13 80]\n",
      " [24 47 32 60 99  3 45  2 44 75 33 53 78 36 84 20 35 17 12 50]\n",
      " [32 98 81 28 64 23 67 10 26 38 40 67 59 54 70 66 18 38 64 70]\n",
      " [67 26 20 68  2 62 12 20 95 63 94 39 63  8 40 91 66 49 94 21]\n",
      " [24 55 58  5 66 73 99 26 97 17 78 78 96 83 14 88 34 89 63 72]\n",
      " [21 36 23  9 75  0 76 44 20 45 35 14  0 61 33 97 34 31 33 95]\n",
      " [78 17 53 28 22 75 31 67 15 94  3 80  4 62 16 14  9 53 56 92]\n",
      " [16 39  5 42 96 35 31 47 55 58 88 24  0 17 54 24 36 29 85 57]\n",
      " [86 56  0 48 35 71 89  7  5 44 44 37 44 60 21 58 51 54 17 58]\n",
      " [19 80 81 68  5 94 47 69 28 73 92 13 86 52 17 77  4 89 55 40]\n",
      " [ 4 52  8 83 97 35 99 16  7 97 57 32 16 26 26 79 33 27 98 66]\n",
      " [88 36 68 87 57 62 20 72  3 46 33 67 46 55 12 32 63 93 53 69]\n",
      " [ 4 42 16 73 38 25 39 11 24 94 72 18  8 46 29 32 40 62 76 36]\n",
      " [20 69 36 41 72 30 23 88 34 62 99 69 82 67 59 85 74  4 36 16]\n",
      " [20 73 35 29 78 31 90  1 74 31 49 71 48 86 81 16 23 57  5 54]\n",
      " [ 1 70 54 71 83 51 54 69 16 92 33 48 61 43 52  1 89 19 67 48]]\n",
      "70600674\n"
     ]
    }
   ],
   "source": [
    "# Problem 7\n",
    "\n",
    "grid = np.load(\"grid-Copy1.npy\")\n",
    "print(grid)\n",
    "def greatestproduct(grid):\n",
    "    # horizontal\n",
    "    hor = np.max(grid[:,:-3] * grid[:,1:-2] * grid[:,2:-1] * grid[:,3:])\n",
    "    # vertical\n",
    "    vert = np.max(grid[:-3,:] * grid[1:-2,:] * grid[2:-1,:] * grid[3:,:])\n",
    "    #rightdiag\n",
    "    rightdiag = np.max(grid[:-3,:-3] * grid[1:-2,1:-2] * grid[2:-1,2:-1] * grid[3:,3:])\n",
    "    #leftdiag\n",
    "    leftdiag = np.max(grid[:-3,3:] * grid[1:-2,2:-1] * grid[2:-1,1:-2] * grid[3:,:-3])\n",
    "    winner = max(hor,vert,leftdiag,rightdiag)\n",
    "    print(winner)\n",
    "greatestproduct(grid)"
   ]
  },
  {
   "cell_type": "code",
   "execution_count": null,
   "metadata": {},
   "outputs": [],
   "source": []
  }
 ],
 "metadata": {
  "kernelspec": {
   "display_name": "Python 3",
   "language": "python",
   "name": "python3"
  },
  "language_info": {
   "codemirror_mode": {
    "name": "ipython",
    "version": 3
   },
   "file_extension": ".py",
   "mimetype": "text/x-python",
   "name": "python",
   "nbconvert_exporter": "python",
   "pygments_lexer": "ipython3",
   "version": "3.7.3"
  }
 },
 "nbformat": 4,
 "nbformat_minor": 2
}
