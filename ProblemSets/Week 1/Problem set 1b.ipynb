{
 "cells": [
  {
   "cell_type": "markdown",
   "metadata": {},
   "source": [
    "# 1. Intro to Numpy - Thomas Pellet"
   ]
  },
  {
   "cell_type": "code",
   "execution_count": null,
   "metadata": {},
   "outputs": [],
   "source": [
    "import numpy as np\n",
    "# Create a 1-D array by passing a list into NumPy's array() function.\n",
    "np.array([8, 4, 6, 0, 2])\n",
    "\n",
    "# The string representation has no commas or an array() label.\n",
    "print(np.array([1, 3, 5, 7, 9]))\n"
   ]
  },
  {
   "cell_type": "code",
   "execution_count": null,
   "metadata": {},
   "outputs": [],
   "source": [
    "A = np.array( [ [1, 2, 3],[4, 5, 6] ] )\n",
    "print(A[1,0])"
   ]
  },
  {
   "cell_type": "code",
   "execution_count": null,
   "metadata": {},
   "outputs": [],
   "source": [
    "#Problem 1\n",
    "\n",
    "A = np.array( [ [3, -1, 4],[1, 5, -9] ] )\n",
    "B = np.array( [ [2,6,-5,3],[5,-8,9,7], [9,-3,-2,-3]] )\n",
    "AB = A @ B\n",
    "\n",
    "print(AB)"
   ]
  },
  {
   "cell_type": "code",
   "execution_count": null,
   "metadata": {},
   "outputs": [],
   "source": [
    "# Problem 2\n",
    "\n",
    "A = np.array([[3,1,4],[1,5,9],[-5,3,1]])\n",
    "print(-(A@A@A) + 9*A@A - 15*A)"
   ]
  },
  {
   "cell_type": "code",
   "execution_count": null,
   "metadata": {},
   "outputs": [],
   "source": [
    "# Problem 3\n",
    "A = np.triu(np.ones(7))\n",
    "B = np.tril(-1*np.ones(7)) + np.triu(np.full(7,5)) - 5*np.diag(np.ones(7))\n",
    "\n",
    "ABA = A@B@A\n",
    "ABA = ABA.astype(np.float64)\n",
    "\n",
    "print(ABA)\n",
    "\n"
   ]
  },
  {
   "cell_type": "code",
   "execution_count": null,
   "metadata": {},
   "outputs": [],
   "source": [
    "# Problem set 4\n",
    "A = np.diag(-1*np.ones(5))\n",
    "print(A)\n",
    "def negativetozero(A):\n",
    "    copy = np.copy(A)\n",
    "    mask = copy < 0\n",
    "    copy[mask] = 0\n",
    "    print(copy)\n",
    "negativetozero(A)"
   ]
  },
  {
   "cell_type": "code",
   "execution_count": null,
   "metadata": {},
   "outputs": [],
   "source": [
    "# Problem set 5\n",
    "def stack():\n",
    "    A = np.arange(6).reshape(3,-1).T\n",
    "    B = 3*np.tril(np.ones(3))\n",
    "    C = -2*np.eye(3)\n",
    "    print(C.shape)\n",
    "    zeros = np.zeros((3,3))\n",
    "    firstcol = np.vstack((zeros,A,B))\n",
    "    print(firstcol.shape)\n",
    "    secondcol = np.vstack((A.T,np.zeros((A.shape[0] + B.shape[0],A.T.shape[1]))))\n",
    "    print(secondcol.shape)\n",
    "    print(np.full_like(A,0))\n",
    "    print(np.zeros((A.shape[0],C.shape[1])))\n",
    "    eye = np.eye(3)\n",
    "    zero = np.zeros((A.shape[0],C.shape[1]))\n",
    "    thirdcol = np.vstack((eye,zero,C))\n",
    "    print(thirdcol.shape)\n",
    "    result = np.hstack((firstcol, secondcol, thirdcol))\n",
    "    print(result)          \n",
    "stack()"
   ]
  },
  {
   "cell_type": "code",
   "execution_count": null,
   "metadata": {},
   "outputs": [],
   "source": [
    "# Problem 6\n",
    "A = np.arange(20).reshape(5,-1)\n",
    "print(A)\n",
    "def rowstoch(A):\n",
    "    sumrow = A.sum(axis = 1).reshape((-1,1))\n",
    "    print(sumrow)\n",
    "    A = A / sumrow\n",
    "    print(A)\n",
    "rowstoch(A)"
   ]
  },
  {
   "cell_type": "code",
   "execution_count": null,
   "metadata": {
    "scrolled": true
   },
   "outputs": [],
   "source": [
    "# Problem 7\n",
    "\n",
    "grid = np.load(\"grid-Copy1.npy\")\n",
    "print(grid)\n",
    "def greatestproduct(grid):\n",
    "    # horizontal\n",
    "    hor = np.max(grid[:,:-3] * grid[:,1:-2] * grid[:,2:-1] * grid[:,3:])\n",
    "    # vertical\n",
    "    vert = np.max(grid[:-3,:] * grid[1:-2,:] * grid[2:-1,:] * grid[3:,:])\n",
    "    #rightdiag\n",
    "    rightdiag = np.max(grid[:-3,:-3] * grid[1:-2,1:-2] * grid[2:-1,2:-1] * grid[3:,3:])\n",
    "    #leftdiag\n",
    "    leftdiag = np.max(grid[:-3,3:] * grid[1:-2,2:-1] * grid[2:-1,1:-2] * grid[3:,:-3])\n",
    "    winner = max(hor,vert,leftdiag,rightdiag)\n",
    "    print(winner)\n",
    "greatestproduct(grid)"
   ]
  },
  {
   "cell_type": "markdown",
   "metadata": {},
   "source": [
    "# 2. Standard Library"
   ]
  },
  {
   "cell_type": "code",
   "execution_count": null,
   "metadata": {},
   "outputs": [],
   "source": [
    "# Problem 1\n",
    "L = [1,2,3]\n",
    "def summarize(L): print([min(L),max(L),sum(L)/len(L)])\n",
    "summarize(L)"
   ]
  },
  {
   "cell_type": "code",
   "execution_count": null,
   "metadata": {},
   "outputs": [],
   "source": [
    "# Problem 2\n",
    "integer = 4\n",
    "bis = integer\n",
    "bis = 10\n",
    "print({\"Integer is mutable\", bis == integer})\n",
    "\n",
    "\n",
    "string = \"test\"\n",
    "stringbis = string\n",
    "string = \"change\"\n",
    "print({\"string is mutable\", string == stringbis})\n",
    "\n",
    "\n",
    "my_tuple = (1,2,3)\n",
    "test = my_tuple\n",
    "test +=  (1,)\n",
    "print({\"tuple is mutable\", test == my_tuple})\n",
    "\n",
    "# The mutable ones Lists and sets\n",
    "L = [1,2,3]\n",
    "Lbis = L\n",
    "Lbis[2] = 4\n",
    "print({\"list is mutable\", L == Lbis})\n",
    "\n",
    "my_set = {1,2,3,4,5}\n",
    "bis = my_set\n",
    "my_set.add(10)\n",
    "print({\"Set is mutable\", bis == my_set})\n",
    "\n",
    "\n",
    "\n",
    "\n"
   ]
  },
  {
   "cell_type": "code",
   "execution_count": null,
   "metadata": {},
   "outputs": [],
   "source": [
    "#Problem 3\n",
    "import calculator as c\n",
    "\n",
    "l=3\n",
    "L = 5\n",
    "c.sumof(l,L)\n",
    "c.prodof(l,l)\n",
    "def hyp(l,L):\n",
    "    value = c.sumof(c.prodof(l,l),c.prodof(L,L))\n",
    "    print(value)\n",
    "    print(sqrt(value))\n",
    "                           \n",
    "hyp(l,L)"
   ]
  },
  {
   "cell_type": "code",
   "execution_count": 39,
   "metadata": {},
   "outputs": [
    {
     "name": "stdout",
     "output_type": "stream",
     "text": [
      "[(), ('1',), ('2',), ('3',), ('4',), ('5',), ('1', '2'), ('1', '3'), ('1', '4'), ('1', '5'), ('2', '3'), ('2', '4'), ('2', '5'), ('3', '4'), ('3', '5'), ('4', '5'), ('1', '2', '3'), ('1', '2', '4'), ('1', '2', '5'), ('1', '3', '4'), ('1', '3', '5'), ('1', '4', '5'), ('2', '3', '4'), ('2', '3', '5'), ('2', '4', '5'), ('3', '4', '5'), ('1', '2', '3', '4'), ('1', '2', '3', '5'), ('1', '2', '4', '5'), ('1', '3', '4', '5'), ('2', '3', '4', '5')]\n"
     ]
    }
   ],
   "source": [
    "# Problem 4\n",
    "from itertools import combinations, chain\n",
    "A = \"12345\"\n",
    "\n",
    "def powerset(A):\n",
    "    result = []\n",
    "    for i in range(len(list(chain(A)))):\n",
    "        result +=list(combinations(A,i))\n",
    "    print(result)\n",
    "powerset(A)\n",
    "                    "
   ]
  },
  {
   "cell_type": "code",
   "execution_count": null,
   "metadata": {},
   "outputs": [
    {
     "name": "stdout",
     "output_type": "stream",
     "text": [
      "Enter the filename: t\n",
      "Enter your name: tho\n",
      "Enter a time limit in seconds: 50\n",
      "Numbers left: [1, 2, 3, 4, 5, 6, 7, 8, 9]\n",
      "Roll:  3\n",
      "Seconds left:  49.99800372123718\n",
      "Numbers to eliminate:2\n",
      "Invalid Input\n",
      "Numbers to eliminate:5 6\n",
      "Invalid Input\n",
      "Numbers to eliminate:3\n",
      "Numbers left: [1, 2, 4, 5, 6, 7, 8, 9]\n",
      "Roll:  8\n",
      "Seconds left:  39.62316107749939\n"
     ]
    }
   ],
   "source": [
    "# Problem 5\n",
    "import box as b\n",
    "\n",
    "## Three command line arguments\n",
    "\n",
    "### Filename\n",
    "filename = input(\"Enter the filename: \")\n",
    "### player's name\n",
    "playername = input(\"Enter your name: \")\n",
    "### time limit\n",
    "while True:\n",
    "    timelimit = input(\"Enter a time limit in seconds: \")\n",
    "    try:\n",
    "        timelimit = int(timelimit)\n",
    "        if isinstance(timelimit,int) == True:\n",
    "            break\n",
    "    except ValueError:\n",
    "        print(\"That's not an int!\")\n",
    "    \n",
    "\n",
    "remaining = list(range(1,10))\n",
    "start = time.time()\n",
    "while True:\n",
    "    print(\"Numbers left:\",remaining)\n",
    "    roll = random.randint(1,6) + random.randint(1,6)*(sum(remaining)>6)\n",
    "    print(\"Roll: \", roll)\n",
    "    if isvalid(roll,remaining) == False:\n",
    "        print(\"Game over!\")\n",
    "        print(\"Score for player \",playername,\": \",sum(remaining))\n",
    "        print(\"Time played: \", end - start)\n",
    "        break\n",
    "    end = time.time()\n",
    "    countdown = timelimit - (end - start)\n",
    "    print(\"Seconds left: \", countdown)\n",
    "    \n",
    "    while True:\n",
    "        player_input = parse_input(input(\"Numbers to eliminate:\"),remaining)\n",
    "        total = sum(player_input)\n",
    "        if total == roll:\n",
    "            break\n",
    "        print(\"Invalid Input\")\n",
    "        \n",
    "    if countdown < 0:\n",
    "        print(\"Time is over! You lost\")\n",
    "        print(\"Score for player \",playername,\": \",sum(remaining))\n",
    "        print(\"Time played: \", timelimit)\n",
    "        break\n",
    "    #player_input = choices\n",
    "    remaining = list(set(remaining) - set(player_input))\n",
    "    if remaining == []:\n",
    "        print(\"Congratulations!! You shut the box!\")\n",
    "        print(\"Time played: \", end - start)\n",
    "        break\n",
    "\n"
   ]
  },
  {
   "cell_type": "code",
   "execution_count": null,
   "metadata": {},
   "outputs": [],
   "source": []
  }
 ],
 "metadata": {
  "kernelspec": {
   "display_name": "Python 3",
   "language": "python",
   "name": "python3"
  },
  "language_info": {
   "codemirror_mode": {
    "name": "ipython",
    "version": 3
   },
   "file_extension": ".py",
   "mimetype": "text/x-python",
   "name": "python",
   "nbconvert_exporter": "python",
   "pygments_lexer": "ipython3",
   "version": "3.7.3"
  }
 },
 "nbformat": 4,
 "nbformat_minor": 2
}
